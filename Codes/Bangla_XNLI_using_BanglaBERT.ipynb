{
 "cells": [
  {
   "cell_type": "markdown",
   "metadata": {
    "colab_type": "text",
    "id": "view-in-github"
   },
   "source": [
    "<a href=\"https://colab.research.google.com/github/fatemafaria142/Comparative-Analysis-of-Pretrained-BERT-models-for-Natural-Language-Inference-on-Bangla-XNLI-Dataset/blob/main/Bangla_XNLI_using_BanglaBERT.ipynb\" target=\"_parent\"><img src=\"https://colab.research.google.com/assets/colab-badge.svg\" alt=\"Open In Colab\"/></a>"
   ]
  },
  {
   "cell_type": "code",
   "execution_count": 1,
   "metadata": {
    "id": "aBRzPyYxNJ0f"
   },
   "outputs": [],
   "source": [
    "import pandas as pd\n",
    "import numpy as np\n",
    "import matplotlib.pyplot as plt\n",
    "import seaborn as sns\n",
    "from sklearn.model_selection import train_test_split\n",
    "import torch\n",
    "from tqdm import tqdm\n",
    "import time\n",
    "from sklearn.metrics import accuracy_score,precision_score,recall_score,f1_score,log_loss,jaccard_score,roc_auc_score,classification_report,confusion_matrix\n",
    "from torch.utils.data import Dataset, DataLoader"
   ]
  },
  {
   "cell_type": "code",
   "execution_count": 2,
   "metadata": {
    "colab": {
     "base_uri": "https://localhost:8080/"
    },
    "id": "8KDmjTaQIf9B",
    "outputId": "7e36e5e7-2876-4d12-ee66-6f21b1c1d6e7"
   },
   "outputs": [
    {
     "name": "stdout",
     "output_type": "stream",
     "text": [
      "Requirement already satisfied: datasets in c:\\users\\mukaffi\\anaconda3\\lib\\site-packages (2.15.0)\n",
      "Requirement already satisfied: numpy>=1.17 in c:\\users\\mukaffi\\anaconda3\\lib\\site-packages (from datasets) (1.24.3)\n",
      "Requirement already satisfied: pyarrow>=8.0.0 in c:\\users\\mukaffi\\anaconda3\\lib\\site-packages (from datasets) (11.0.0)\n",
      "Requirement already satisfied: pyarrow-hotfix in c:\\users\\mukaffi\\anaconda3\\lib\\site-packages (from datasets) (0.6)\n",
      "Requirement already satisfied: dill<0.3.8,>=0.3.0 in c:\\users\\mukaffi\\anaconda3\\lib\\site-packages (from datasets) (0.3.7)\n",
      "Requirement already satisfied: pandas in c:\\users\\mukaffi\\anaconda3\\lib\\site-packages (from datasets) (1.5.3)\n",
      "Requirement already satisfied: requests>=2.19.0 in c:\\users\\mukaffi\\anaconda3\\lib\\site-packages (from datasets) (2.29.0)\n",
      "Requirement already satisfied: tqdm>=4.62.1 in c:\\users\\mukaffi\\anaconda3\\lib\\site-packages (from datasets) (4.65.0)\n",
      "Requirement already satisfied: xxhash in c:\\users\\mukaffi\\anaconda3\\lib\\site-packages (from datasets) (3.4.1)\n",
      "Requirement already satisfied: multiprocess in c:\\users\\mukaffi\\anaconda3\\lib\\site-packages (from datasets) (0.70.15)\n",
      "Requirement already satisfied: fsspec<=2023.10.0,>=2023.1.0 in c:\\users\\mukaffi\\anaconda3\\lib\\site-packages (from fsspec[http]<=2023.10.0,>=2023.1.0->datasets) (2023.10.0)\n",
      "Requirement already satisfied: aiohttp in c:\\users\\mukaffi\\anaconda3\\lib\\site-packages (from datasets) (3.8.3)\n",
      "Requirement already satisfied: huggingface-hub>=0.18.0 in c:\\users\\mukaffi\\anaconda3\\lib\\site-packages (from datasets) (0.19.4)\n",
      "Requirement already satisfied: packaging in c:\\users\\mukaffi\\anaconda3\\lib\\site-packages (from datasets) (23.0)\n",
      "Requirement already satisfied: pyyaml>=5.1 in c:\\users\\mukaffi\\anaconda3\\lib\\site-packages (from datasets) (5.1)\n",
      "Requirement already satisfied: attrs>=17.3.0 in c:\\users\\mukaffi\\anaconda3\\lib\\site-packages (from aiohttp->datasets) (22.1.0)\n",
      "Requirement already satisfied: charset-normalizer<3.0,>=2.0 in c:\\users\\mukaffi\\anaconda3\\lib\\site-packages (from aiohttp->datasets) (2.0.4)\n",
      "Requirement already satisfied: multidict<7.0,>=4.5 in c:\\users\\mukaffi\\anaconda3\\lib\\site-packages (from aiohttp->datasets) (6.0.2)\n",
      "Requirement already satisfied: async-timeout<5.0,>=4.0.0a3 in c:\\users\\mukaffi\\anaconda3\\lib\\site-packages (from aiohttp->datasets) (4.0.2)\n",
      "Requirement already satisfied: yarl<2.0,>=1.0 in c:\\users\\mukaffi\\anaconda3\\lib\\site-packages (from aiohttp->datasets) (1.8.1)\n",
      "Requirement already satisfied: frozenlist>=1.1.1 in c:\\users\\mukaffi\\anaconda3\\lib\\site-packages (from aiohttp->datasets) (1.3.3)\n",
      "Requirement already satisfied: aiosignal>=1.1.2 in c:\\users\\mukaffi\\anaconda3\\lib\\site-packages (from aiohttp->datasets) (1.2.0)\n",
      "Requirement already satisfied: filelock in c:\\users\\mukaffi\\anaconda3\\lib\\site-packages (from huggingface-hub>=0.18.0->datasets) (3.9.0)\n",
      "Requirement already satisfied: typing-extensions>=3.7.4.3 in c:\\users\\mukaffi\\anaconda3\\lib\\site-packages (from huggingface-hub>=0.18.0->datasets) (4.5.0)\n",
      "Requirement already satisfied: idna<4,>=2.5 in c:\\users\\mukaffi\\anaconda3\\lib\\site-packages (from requests>=2.19.0->datasets) (3.4)\n",
      "Requirement already satisfied: urllib3<1.27,>=1.21.1 in c:\\users\\mukaffi\\anaconda3\\lib\\site-packages (from requests>=2.19.0->datasets) (1.26.16)\n",
      "Requirement already satisfied: certifi>=2017.4.17 in c:\\users\\mukaffi\\anaconda3\\lib\\site-packages (from requests>=2.19.0->datasets) (2023.7.22)\n",
      "Requirement already satisfied: colorama in c:\\users\\mukaffi\\anaconda3\\lib\\site-packages (from tqdm>=4.62.1->datasets) (0.4.6)\n",
      "Requirement already satisfied: python-dateutil>=2.8.1 in c:\\users\\mukaffi\\anaconda3\\lib\\site-packages (from pandas->datasets) (2.8.2)\n",
      "Requirement already satisfied: pytz>=2020.1 in c:\\users\\mukaffi\\anaconda3\\lib\\site-packages (from pandas->datasets) (2022.7)\n",
      "Requirement already satisfied: six>=1.5 in c:\\users\\mukaffi\\anaconda3\\lib\\site-packages (from python-dateutil>=2.8.1->pandas->datasets) (1.16.0)\n"
     ]
    },
    {
     "name": "stderr",
     "output_type": "stream",
     "text": [
      "\n",
      "[notice] A new release of pip is available: 23.3.1 -> 24.0\n",
      "[notice] To update, run: python.exe -m pip install --upgrade pip\n"
     ]
    }
   ],
   "source": [
    "!pip install datasets"
   ]
  },
  {
   "cell_type": "markdown",
   "metadata": {
    "id": "Tia5tAEYMaze"
   },
   "source": [
    "### **Dataset link:** https://huggingface.co/datasets/csebuetnlp/xnli_bn"
   ]
  },
  {
   "cell_type": "code",
   "execution_count": 3,
   "metadata": {
    "colab": {
     "base_uri": "https://localhost:8080/",
     "height": 209,
     "referenced_widgets": [
      "b7d214ab9c1d46d48104d8ef3b38e98a",
      "602531fc913544f484113f94e6359fb5",
      "c69cd6798ccf4d4c8c7ff1ed620abc47",
      "02d0cc0f3c664953aa152601f2ac7071",
      "35110cd58a70451b99901f1368e01296",
      "dbf2ec6d9206442f984c88fff7feafca",
      "6f0bd2fbfa43468387f0420634aa1014",
      "e626e1e67ce74af1b98008e146e72075",
      "1c54719cb8b845f3a56da8b29cb6f7bf",
      "ea8f33cd245647acbaffc74fce77ec46",
      "6f0315241ca446e69a73f234d7d53e43",
      "7822cfc59a1b441da603e66e5b770bd0",
      "d68c3e15c80147f38fb4f5317b7de10f",
      "040ec6fa7fd147b8a1702d07352f8f00",
      "5803981b281c48a8aacd817d72ad0e56",
      "c6fd41858e7b4273b5c42b3baa9819e0",
      "6266bd38e8514dcb96fe8a8242816343",
      "2e514fabf5984a048434b6fed92b487a",
      "23a552270cc54e56a860d53fce79befa",
      "8cb792d3b9db472696f1e9fce50360fe",
      "185f62333d7942e7a9ca33c9684611ec",
      "ccf18a8bb37744d391ba482ccfdb4c2d",
      "25d419a9f5fa4b3ead00fd4abd846570",
      "1232afb7564e4b15987306336eb2023a",
      "2b188b5379dd4e429df4012291110a36",
      "c777b2480e614b18986ea8c08237b335",
      "6a9fe60d0d694b649cbc3cc91a48b4f2",
      "5fa5cffc65f34f1d81a5f58129e3e64b",
      "9daa6c105fc847ad8683755ed49cff4f",
      "9e8694c98bcb4c8e8a8f2bbc387a2f2e",
      "e3bf910f2adb49cb85fad4a8e8ffa517",
      "31b98a51e93f4728b241b2cf350faa7a",
      "c524ad1d9eda4528910e82d2f7fd4daa",
      "43bc4477d7fc4ff3b4c48b41e22d1406",
      "f0b7549a2e924f9796782127675e61a3",
      "b37386c600b148b185ab98919ccd7e82",
      "18d8b6ea81464c08b640aa1d98d93abd",
      "eb333d5895e6436abe1ac9ec5ddeab5f",
      "1ae6d64c531d4e5397806d8350a5bc29",
      "5791313862134ef69926fdd184ab485f",
      "6966aecc04e44e5291ed3c0f6f8da8a0",
      "19f72d4896bc4c71838bf512cd67fde9",
      "11f493441827434da18066cae6c634c4",
      "3bdcd5705f0e423eacce1190ef9b0def",
      "f10b2131ac8b4b03917a20bd53036722",
      "2fe5aa33b0304a42ba455ab88593bb58",
      "ce27cd0c7bba4057a2b846a60fb9bf21",
      "744b6c5604cb41db832cf24e456e11ec",
      "5bd4c1e200424c3293e82b70a9cade7f",
      "2ee09993e59c4ad3a2080a1978061e77",
      "80c0b066fb894e748a7f1a3932c8f333",
      "ab675e5e2bde4ea1bca5b41fac7a09d1",
      "252948d465f24dd8a5835fd811b43367",
      "14142b961b59406890e9fad81caf2257",
      "b7910e9efdb24eb987f198647d4d6277",
      "375b0902f82445be89761cf83d7f4509",
      "4f817e2de589454a9498d11961b179ed",
      "7257ed8ebe594be08dc98dc55a951f42",
      "38e6de5bea014eed8a014fbacce6d9bc",
      "fb51babb3b594d22af4e86dccc80c29d",
      "2f29151497b34d12994f600cd734e9fd",
      "cd19e51c7ecc434f968a92ef90076e8a",
      "521c30e335fb430c8fef7b467d67940e",
      "22dd8d1ca0884e7fbd3fe8d494c2cc2d",
      "549bf7eca6824da48f4a3a92a30c441a",
      "593610fff1574ca7a70fcf696e5ad0c2"
     ]
    },
    "id": "6h2Br0UrIFIW",
    "outputId": "b7f2c725-a9fb-49ec-f6cc-c9caee401ad1"
   },
   "outputs": [
    {
     "data": {
      "application/vnd.jupyter.widget-view+json": {
       "model_id": "76a6c605269f4387a3ceca8e242eb686",
       "version_major": 2,
       "version_minor": 0
      },
      "text/plain": [
       "Downloading builder script:   0%|          | 0.00/2.98k [00:00<?, ?B/s]"
      ]
     },
     "metadata": {},
     "output_type": "display_data"
    },
    {
     "data": {
      "application/vnd.jupyter.widget-view+json": {
       "model_id": "4073f8e59fcc494b8830e32d4dcb6603",
       "version_major": 2,
       "version_minor": 0
      },
      "text/plain": [
       "Downloading metadata:   0%|          | 0.00/1.95k [00:00<?, ?B/s]"
      ]
     },
     "metadata": {},
     "output_type": "display_data"
    },
    {
     "data": {
      "application/vnd.jupyter.widget-view+json": {
       "model_id": "2977ce27d7a242f49be82f7f7f0e7b62",
       "version_major": 2,
       "version_minor": 0
      },
      "text/plain": [
       "Downloading readme:   0%|          | 0.00/6.56k [00:00<?, ?B/s]"
      ]
     },
     "metadata": {},
     "output_type": "display_data"
    },
    {
     "data": {
      "application/vnd.jupyter.widget-view+json": {
       "model_id": "8c1ebc0a9da049dbbdd32e768027f6b4",
       "version_major": 2,
       "version_minor": 0
      },
      "text/plain": [
       "Downloading data:   0%|          | 0.00/21.4M [00:00<?, ?B/s]"
      ]
     },
     "metadata": {},
     "output_type": "display_data"
    },
    {
     "data": {
      "application/vnd.jupyter.widget-view+json": {
       "model_id": "daf0e41ec0ad44b1a359b120697a1aa0",
       "version_major": 2,
       "version_minor": 0
      },
      "text/plain": [
       "Generating train split:   0%|          | 0/381449 [00:00<?, ? examples/s]"
      ]
     },
     "metadata": {},
     "output_type": "display_data"
    },
    {
     "data": {
      "application/vnd.jupyter.widget-view+json": {
       "model_id": "abfb7a950c8a4fb69df342cd0d07a1ae",
       "version_major": 2,
       "version_minor": 0
      },
      "text/plain": [
       "Generating test split:   0%|          | 0/4895 [00:00<?, ? examples/s]"
      ]
     },
     "metadata": {},
     "output_type": "display_data"
    },
    {
     "data": {
      "application/vnd.jupyter.widget-view+json": {
       "model_id": "9092a39a8f1c4cecbf1ab24c0e3651bd",
       "version_major": 2,
       "version_minor": 0
      },
      "text/plain": [
       "Generating validation split:   0%|          | 0/2419 [00:00<?, ? examples/s]"
      ]
     },
     "metadata": {},
     "output_type": "display_data"
    }
   ],
   "source": [
    "from datasets import load_dataset\n",
    "\n",
    "dataset = load_dataset(\"csebuetnlp/xnli_bn\")"
   ]
  },
  {
   "cell_type": "code",
   "execution_count": 4,
   "metadata": {
    "colab": {
     "base_uri": "https://localhost:8080/"
    },
    "id": "6394LGB9I4ag",
    "outputId": "1137e4ee-ff7e-4c7c-8833-20010f498b9d"
   },
   "outputs": [
    {
     "name": "stdout",
     "output_type": "stream",
     "text": [
      "Number of examples in train set: 381449\n",
      "Number of examples in test set: 4895\n",
      "Number of examples in validation set: 2419\n"
     ]
    }
   ],
   "source": [
    "# Access train, test, and validation splits\n",
    "train_data = dataset['train']\n",
    "test_data = dataset['test']\n",
    "validation_data = dataset['validation']\n",
    "\n",
    "# Optional: You can also print the number of examples in each split\n",
    "print(f\"Number of examples in train set: {len(train_data)}\")\n",
    "print(f\"Number of examples in test set: {len(test_data)}\")\n",
    "print(f\"Number of examples in validation set: {len(validation_data)}\")"
   ]
  },
  {
   "cell_type": "code",
   "execution_count": 7,
   "metadata": {
    "colab": {
     "base_uri": "https://localhost:8080/",
     "height": 206
    },
    "id": "sLPWzK9EJynU",
    "outputId": "db226874-06d2-41bc-b438-1d4e5d853a73"
   },
   "outputs": [
    {
     "data": {
      "text/html": [
       "<div>\n",
       "<style scoped>\n",
       "    .dataframe tbody tr th:only-of-type {\n",
       "        vertical-align: middle;\n",
       "    }\n",
       "\n",
       "    .dataframe tbody tr th {\n",
       "        vertical-align: top;\n",
       "    }\n",
       "\n",
       "    .dataframe thead th {\n",
       "        text-align: right;\n",
       "    }\n",
       "</style>\n",
       "<table border=\"1\" class=\"dataframe\">\n",
       "  <thead>\n",
       "    <tr style=\"text-align: right;\">\n",
       "      <th></th>\n",
       "      <th>sentence1</th>\n",
       "      <th>sentence2</th>\n",
       "      <th>label</th>\n",
       "    </tr>\n",
       "  </thead>\n",
       "  <tbody>\n",
       "    <tr>\n",
       "      <th>0</th>\n",
       "      <td>ধারণাগতভাবে ক্রীম স্কিমিং এর দুটি মৌলিক মাত্রা...</td>\n",
       "      <td>পণ্য এবং ভূগোল হচ্ছে ক্রিমের স্কিমিং কাজ।</td>\n",
       "      <td>Neutral</td>\n",
       "    </tr>\n",
       "    <tr>\n",
       "      <th>1</th>\n",
       "      <td>আপনি জানেন এই মৌসুমে আর আমার মনে হয় আপনার পর্...</td>\n",
       "      <td>মানুষ যদি স্মরণ করতে পারে তাহলে আপনি নীচের স্ত...</td>\n",
       "      <td>Entailment</td>\n",
       "    </tr>\n",
       "    <tr>\n",
       "      <th>2</th>\n",
       "      <td>আমাদের মধ্যে একজন আপনার নির্দেশগুলো পুঙ্খানুপু...</td>\n",
       "      <td>আমার দলের একজন সদস্য আপনার আদেশ পালন করবেন অত্...</td>\n",
       "      <td>Entailment</td>\n",
       "    </tr>\n",
       "    <tr>\n",
       "      <th>3</th>\n",
       "      <td>আপনি কিভাবে জানলেন? এই সব তাদের তথ্য আবার.</td>\n",
       "      <td>এই তথ্যটি তাদের।</td>\n",
       "      <td>Entailment</td>\n",
       "    </tr>\n",
       "    <tr>\n",
       "      <th>4</th>\n",
       "      <td>হ্যাঁ আমি তোমাকে বলি যদি তুমি কিছু টেনিসের জুত...</td>\n",
       "      <td>টেনিসের জুতার দাম অনেক।</td>\n",
       "      <td>Neutral</td>\n",
       "    </tr>\n",
       "  </tbody>\n",
       "</table>\n",
       "</div>"
      ],
      "text/plain": [
       "                                           sentence1  \\\n",
       "0  ধারণাগতভাবে ক্রীম স্কিমিং এর দুটি মৌলিক মাত্রা...   \n",
       "1  আপনি জানেন এই মৌসুমে আর আমার মনে হয় আপনার পর্...   \n",
       "2  আমাদের মধ্যে একজন আপনার নির্দেশগুলো পুঙ্খানুপু...   \n",
       "3         আপনি কিভাবে জানলেন? এই সব তাদের তথ্য আবার.   \n",
       "4  হ্যাঁ আমি তোমাকে বলি যদি তুমি কিছু টেনিসের জুত...   \n",
       "\n",
       "                                           sentence2       label  \n",
       "0          পণ্য এবং ভূগোল হচ্ছে ক্রিমের স্কিমিং কাজ।     Neutral  \n",
       "1  মানুষ যদি স্মরণ করতে পারে তাহলে আপনি নীচের স্ত...  Entailment  \n",
       "2  আমার দলের একজন সদস্য আপনার আদেশ পালন করবেন অত্...  Entailment  \n",
       "3                                   এই তথ্যটি তাদের।  Entailment  \n",
       "4                            টেনিসের জুতার দাম অনেক।     Neutral  "
      ]
     },
     "execution_count": 7,
     "metadata": {},
     "output_type": "execute_result"
    }
   ],
   "source": [
    "# Access train data\n",
    "train_data = dataset['train']\n",
    "\n",
    "# Create a DataFrame from the dataset and take the first 15,000 rows\n",
    "df_train = pd.DataFrame(train_data)\n",
    "\n",
    "# Map numeric labels to textual representations inplace\n",
    "label_map = {\n",
    "    0: 'Contradiction',\n",
    "    1: 'Entailment',\n",
    "    2: 'Neutral'\n",
    "}\n",
    "\n",
    "df_train['label'].replace(label_map, inplace=True)\n",
    "\n",
    "# Display the modified DataFrame with the new column\n",
    "df_train.head()\n"
   ]
  },
  {
   "cell_type": "code",
   "execution_count": 8,
   "metadata": {
    "colab": {
     "base_uri": "https://localhost:8080/",
     "height": 206
    },
    "id": "fT-FFrYjJdaS",
    "outputId": "ca69cda3-ca22-4711-822c-d02a0fe58abe"
   },
   "outputs": [
    {
     "data": {
      "text/html": [
       "<div>\n",
       "<style scoped>\n",
       "    .dataframe tbody tr th:only-of-type {\n",
       "        vertical-align: middle;\n",
       "    }\n",
       "\n",
       "    .dataframe tbody tr th {\n",
       "        vertical-align: top;\n",
       "    }\n",
       "\n",
       "    .dataframe thead th {\n",
       "        text-align: right;\n",
       "    }\n",
       "</style>\n",
       "<table border=\"1\" class=\"dataframe\">\n",
       "  <thead>\n",
       "    <tr style=\"text-align: right;\">\n",
       "      <th></th>\n",
       "      <th>sentence1</th>\n",
       "      <th>sentence2</th>\n",
       "      <th>label</th>\n",
       "    </tr>\n",
       "  </thead>\n",
       "  <tbody>\n",
       "    <tr>\n",
       "      <th>0</th>\n",
       "      <td>আসলে, আমি এমনকি এই বিষয়ে চিন্তাও করিনি, কিন্ত...</td>\n",
       "      <td>আমি তার সাথে আবার কথা বলিনি।</td>\n",
       "      <td>Contradiction</td>\n",
       "    </tr>\n",
       "    <tr>\n",
       "      <th>1</th>\n",
       "      <td>আসলে, আমি এমনকি এই বিষয়ে চিন্তাও করিনি, কিন্ত...</td>\n",
       "      <td>আমি এতই ভেঙে পড়েছিলাম যে, আমি আবারও তার সঙ্গে...</td>\n",
       "      <td>Entailment</td>\n",
       "    </tr>\n",
       "    <tr>\n",
       "      <th>2</th>\n",
       "      <td>আসলে, আমি এমনকি এই বিষয়ে চিন্তাও করিনি, কিন্ত...</td>\n",
       "      <td>আমাদের খুব ভালো কথা হয়েছিল।</td>\n",
       "      <td>Neutral</td>\n",
       "    </tr>\n",
       "    <tr>\n",
       "      <th>3</th>\n",
       "      <td>আর আমি ভেবেছিলাম এটা একটা বিশেষ সুযোগ, আর এখনো...</td>\n",
       "      <td>আমি জানতাম না যে, সেই দিন আমিই একমাত্র ব্যক্তি...</td>\n",
       "      <td>Neutral</td>\n",
       "    </tr>\n",
       "    <tr>\n",
       "      <th>4</th>\n",
       "      <td>আর আমি ভেবেছিলাম এটা একটা বিশেষ সুযোগ, আর এখনো...</td>\n",
       "      <td>আমার মনে হয়েছিল যে এএফএফসি বিমান বাহিনীর ক্যা...</td>\n",
       "      <td>Entailment</td>\n",
       "    </tr>\n",
       "  </tbody>\n",
       "</table>\n",
       "</div>"
      ],
      "text/plain": [
       "                                           sentence1  \\\n",
       "0  আসলে, আমি এমনকি এই বিষয়ে চিন্তাও করিনি, কিন্ত...   \n",
       "1  আসলে, আমি এমনকি এই বিষয়ে চিন্তাও করিনি, কিন্ত...   \n",
       "2  আসলে, আমি এমনকি এই বিষয়ে চিন্তাও করিনি, কিন্ত...   \n",
       "3  আর আমি ভেবেছিলাম এটা একটা বিশেষ সুযোগ, আর এখনো...   \n",
       "4  আর আমি ভেবেছিলাম এটা একটা বিশেষ সুযোগ, আর এখনো...   \n",
       "\n",
       "                                           sentence2          label  \n",
       "0                       আমি তার সাথে আবার কথা বলিনি।  Contradiction  \n",
       "1  আমি এতই ভেঙে পড়েছিলাম যে, আমি আবারও তার সঙ্গে...     Entailment  \n",
       "2                       আমাদের খুব ভালো কথা হয়েছিল।        Neutral  \n",
       "3  আমি জানতাম না যে, সেই দিন আমিই একমাত্র ব্যক্তি...        Neutral  \n",
       "4  আমার মনে হয়েছিল যে এএফএফসি বিমান বাহিনীর ক্যা...     Entailment  "
      ]
     },
     "execution_count": 8,
     "metadata": {},
     "output_type": "execute_result"
    }
   ],
   "source": [
    "# Access test data\n",
    "test_data = dataset['test']\n",
    "\n",
    "# Create a DataFrame from the dataset\n",
    "df_test = pd.DataFrame(test_data)\n",
    "\n",
    "# Map numeric labels to textual representations\n",
    "label_map = {\n",
    "    0: 'Contradiction',\n",
    "    1: 'Entailment',\n",
    "    2: 'Neutral'\n",
    "}\n",
    "\n",
    "df_test['label'].replace(label_map, inplace=True)\n",
    "\n",
    "# Display the modified DataFrame with the new column\n",
    "df_test.head()\n"
   ]
  },
  {
   "cell_type": "code",
   "execution_count": 9,
   "metadata": {
    "colab": {
     "base_uri": "https://localhost:8080/",
     "height": 206
    },
    "id": "F8CjrWGAKOpP",
    "outputId": "b79ffa98-87e0-499f-a28c-f86b99649379"
   },
   "outputs": [
    {
     "data": {
      "text/html": [
       "<div>\n",
       "<style scoped>\n",
       "    .dataframe tbody tr th:only-of-type {\n",
       "        vertical-align: middle;\n",
       "    }\n",
       "\n",
       "    .dataframe tbody tr th {\n",
       "        vertical-align: top;\n",
       "    }\n",
       "\n",
       "    .dataframe thead th {\n",
       "        text-align: right;\n",
       "    }\n",
       "</style>\n",
       "<table border=\"1\" class=\"dataframe\">\n",
       "  <thead>\n",
       "    <tr style=\"text-align: right;\">\n",
       "      <th></th>\n",
       "      <th>sentence1</th>\n",
       "      <th>sentence2</th>\n",
       "      <th>label</th>\n",
       "    </tr>\n",
       "  </thead>\n",
       "  <tbody>\n",
       "    <tr>\n",
       "      <th>0</th>\n",
       "      <td>আর সে বললো, মা, আমি বাড়ি।</td>\n",
       "      <td>স্কুলের বাস তাকে নামিয়ে দেওয়ার সঙ্গে সঙ্গে ত...</td>\n",
       "      <td>Neutral</td>\n",
       "    </tr>\n",
       "    <tr>\n",
       "      <th>1</th>\n",
       "      <td>আর সে বললো, মা, আমি বাড়ি।</td>\n",
       "      <td>সে কোন কথা বলেনি.</td>\n",
       "      <td>Contradiction</td>\n",
       "    </tr>\n",
       "    <tr>\n",
       "      <th>2</th>\n",
       "      <td>আর সে বললো, মা, আমি বাড়ি।</td>\n",
       "      <td>সে তার মাকে বলেছিল যে সে বাড়ি ফিরে এসেছে।</td>\n",
       "      <td>Entailment</td>\n",
       "    </tr>\n",
       "    <tr>\n",
       "      <th>3</th>\n",
       "      <td>আমি জানতাম না আমি কি জন্য যাচ্ছি বা কিছু, তাই ...</td>\n",
       "      <td>আমি কখনো ওয়াশিংটনে যাইনি তাই যখন আমাকে সেখানে...</td>\n",
       "      <td>Neutral</td>\n",
       "    </tr>\n",
       "    <tr>\n",
       "      <th>4</th>\n",
       "      <td>আমি জানতাম না আমি কি জন্য যাচ্ছি বা কিছু, তাই ...</td>\n",
       "      <td>আমি ঠিক জানতাম যে, ওয়াশিংটনের দিকে যাত্রা করা...</td>\n",
       "      <td>Contradiction</td>\n",
       "    </tr>\n",
       "  </tbody>\n",
       "</table>\n",
       "</div>"
      ],
      "text/plain": [
       "                                           sentence1  \\\n",
       "0                         আর সে বললো, মা, আমি বাড়ি।   \n",
       "1                         আর সে বললো, মা, আমি বাড়ি।   \n",
       "2                         আর সে বললো, মা, আমি বাড়ি।   \n",
       "3  আমি জানতাম না আমি কি জন্য যাচ্ছি বা কিছু, তাই ...   \n",
       "4  আমি জানতাম না আমি কি জন্য যাচ্ছি বা কিছু, তাই ...   \n",
       "\n",
       "                                           sentence2          label  \n",
       "0  স্কুলের বাস তাকে নামিয়ে দেওয়ার সঙ্গে সঙ্গে ত...        Neutral  \n",
       "1                                  সে কোন কথা বলেনি.  Contradiction  \n",
       "2         সে তার মাকে বলেছিল যে সে বাড়ি ফিরে এসেছে।     Entailment  \n",
       "3  আমি কখনো ওয়াশিংটনে যাইনি তাই যখন আমাকে সেখানে...        Neutral  \n",
       "4  আমি ঠিক জানতাম যে, ওয়াশিংটনের দিকে যাত্রা করা...  Contradiction  "
      ]
     },
     "execution_count": 9,
     "metadata": {},
     "output_type": "execute_result"
    }
   ],
   "source": [
    "# Access validation data\n",
    "validation_data = dataset['validation']\n",
    "\n",
    "# Create a DataFrame from the dataset\n",
    "df_validation = pd.DataFrame(validation_data)\n",
    "\n",
    "# Map numeric labels to textual representations\n",
    "label_map = {\n",
    "    0: 'Contradiction',\n",
    "    1: 'Entailment',\n",
    "    2: 'Neutral'\n",
    "}\n",
    "\n",
    "df_validation['label'].replace(label_map, inplace=True)\n",
    "\n",
    "# Display the modified DataFrame with the new column\n",
    "df_validation.head()\n"
   ]
  },
  {
   "cell_type": "code",
   "execution_count": 10,
   "metadata": {
    "colab": {
     "base_uri": "https://localhost:8080/"
    },
    "id": "b1IrnIZwrV7O",
    "outputId": "23576d96-df53-4e40-8e06-25e04c2f99b7"
   },
   "outputs": [
    {
     "name": "stdout",
     "output_type": "stream",
     "text": [
      "Collecting git+https://github.com/csebuetnlp/normalizer\n",
      "  Cloning https://github.com/csebuetnlp/normalizer to c:\\users\\mukaffi\\appdata\\local\\temp\\pip-req-build-m8wiewf1\n"
     ]
    },
    {
     "name": "stderr",
     "output_type": "stream",
     "text": [
      "  ERROR: Error [WinError 2] The system cannot find the file specified while executing command git version\n",
      "ERROR: Cannot find command 'git' - do you have 'git' installed and in your PATH?\n",
      "\n",
      "[notice] A new release of pip is available: 23.3.1 -> 24.0\n",
      "[notice] To update, run: python.exe -m pip install --upgrade pip\n"
     ]
    }
   ],
   "source": [
    "!pip install git+https://github.com/csebuetnlp/normalizer"
   ]
  },
  {
   "cell_type": "markdown",
   "metadata": {
    "id": "jEp-agUTrdNf"
   },
   "source": [
    "# **Apply normalization to the train, test, and validation dataset**"
   ]
  },
  {
   "cell_type": "code",
   "execution_count": 11,
   "metadata": {
    "id": "IO8pi3tgrb_X"
   },
   "outputs": [],
   "source": [
    "from normalizer import normalize  # Assuming this function handles string normalization\n",
    "\n",
    "# Apply normalize function element-wise to all elements in DataFrames\n",
    "df_train = df_train.applymap(normalize)\n",
    "df_test = df_test.applymap(normalize)\n",
    "df_validation = df_validation.applymap(normalize)\n"
   ]
  },
  {
   "cell_type": "markdown",
   "metadata": {
    "id": "z8vIwkssRyQ-"
   },
   "source": [
    "# **Visualization of Label Distribution in Train dataset**\n",
    "* Contradiction - 0\n",
    "* Entailment - 1\n",
    "* Neutral - 2"
   ]
  },
  {
   "cell_type": "code",
   "execution_count": 12,
   "metadata": {
    "colab": {
     "base_uri": "https://localhost:8080/",
     "height": 569
    },
    "id": "y-wuShbSREsG",
    "outputId": "0e0465c9-489c-43ff-9c9d-2d9045e0a779"
   },
   "outputs": [
    {
     "data": {
      "image/png": "[encoded data removed]",
      "text/plain": [
       "<Figure size 600x600 with 1 Axes>"
      ]
     },
     "metadata": {},
     "output_type": "display_data"
    }
   ],
   "source": [
    "label_counts = df_train['label'].value_counts()\n",
    "\n",
    "# Define custom colors for the bars ('e', 'c', and 'n')\n",
    "custom_colors = ['#8cbfff', '#d62728','#d4ffcc']\n",
    "\n",
    "# Define custom font dictionary for title and labels\n",
    "font = {'family': 'Serif', 'weight': 'bold', 'size': 12}\n",
    "\n",
    "plt.figure(figsize=(6, 6))\n",
    "\n",
    "# Create bar plot with grid\n",
    "bars = plt.bar(label_counts.index, label_counts.values, color=custom_colors)\n",
    "#plt.grid(axis='y', linestyle='--', alpha=0.7)\n",
    "\n",
    "# Set title and axis labels using custom fontdict\n",
    "plt.title('Label Distribution', fontdict=font)\n",
    "plt.xlabel('Label', fontdict=font)\n",
    "plt.ylabel('Count', fontdict=font)\n",
    "\n",
    "# Set custom font for ticks on both x and y axes\n",
    "plt.xticks(label_counts.index, label_counts.index, fontdict=font)\n",
    "plt.yticks(fontname='Serif', fontsize=10)\n",
    "\n",
    "# Adding annotations (count values) on top of each bar\n",
    "for bar, count in zip(bars, label_counts.values):\n",
    "    plt.text(bar.get_x() + bar.get_width() / 2, bar.get_height(), str(count),\n",
    "             ha='center', va='bottom', fontdict=font)\n",
    "\n",
    "# Show the plot\n",
    "plt.show()\n"
   ]
  },
  {
   "cell_type": "markdown",
   "metadata": {
    "id": "1BLyZA3kSd84"
   },
   "source": [
    "# **Visualization of Label Distribution in Test dataset**\n",
    "* Contradiction - 0\n",
    "* Entailment - 1\n",
    "* Neutral - 2"
   ]
  },
  {
   "cell_type": "code",
   "execution_count": 13,
   "metadata": {
    "colab": {
     "base_uri": "https://localhost:8080/",
     "height": 569
    },
    "id": "JOiar7ipSbA_",
    "outputId": "70649765-e259-4041-b68a-a144d9adf702"
   },
   "outputs": [
    {
     "data": {
      "image/png": "[encoded data removed]",
      "text/plain": [
       "<Figure size 600x600 with 1 Axes>"
      ]
     },
     "metadata": {},
     "output_type": "display_data"
    }
   ],
   "source": [
    "label_counts = df_test['label'].value_counts()\n",
    "\n",
    "# Define custom colors for the bars ('e', 'c', and 'n')\n",
    "custom_colors = ['#8cbfff', '#d62728','#d4ffcc']\n",
    "\n",
    "# Define custom font dictionary for title and labels\n",
    "font = {'family': 'Serif', 'weight': 'bold', 'size': 12}\n",
    "\n",
    "plt.figure(figsize=(6, 6))\n",
    "\n",
    "# Create bar plot with grid\n",
    "bars = plt.bar(label_counts.index, label_counts.values, color=custom_colors)\n",
    "#plt.grid(axis='y', linestyle='--', alpha=0.7)\n",
    "\n",
    "# Set title and axis labels using custom fontdict\n",
    "plt.title('Label Distribution', fontdict=font)\n",
    "plt.xlabel('Label', fontdict=font)\n",
    "plt.ylabel('Count', fontdict=font)\n",
    "\n",
    "# Set custom font for ticks on both x and y axes\n",
    "plt.xticks(label_counts.index, label_counts.index, fontdict=font)\n",
    "plt.yticks(fontname='Serif', fontsize=10)\n",
    "\n",
    "# Adding annotations (count values) on top of each bar\n",
    "for bar, count in zip(bars, label_counts.values):\n",
    "    plt.text(bar.get_x() + bar.get_width() / 2, bar.get_height(), str(count),\n",
    "             ha='center', va='bottom', fontdict=font)\n",
    "\n",
    "# Show the plot\n",
    "plt.show()\n"
   ]
  },
  {
   "cell_type": "markdown",
   "metadata": {
    "id": "4RWjV05iSrV2"
   },
   "source": [
    "# **Visualization of Label Distribution in Validation dataset**\n",
    "* Contradiction - 0\n",
    "* Entailment - 1\n",
    "* Neutral - 2"
   ]
  },
  {
   "cell_type": "code",
   "execution_count": 14,
   "metadata": {
    "colab": {
     "base_uri": "https://localhost:8080/",
     "height": 569
    },
    "id": "3Nn6NpSGSpKv",
    "outputId": "453871e9-45bc-4607-84c4-688b1c742bf4"
   },
   "outputs": [
    {
     "data": {
      "image/png": "[encoded data removed]",
      "text/plain": [
       "<Figure size 600x600 with 1 Axes>"
      ]
     },
     "metadata": {},
     "output_type": "display_data"
    }
   ],
   "source": [
    "label_counts = df_validation['label'].value_counts()\n",
    "\n",
    "# Define custom colors for the bars ('e', 'c', and 'n')\n",
    "custom_colors = ['#8cbfff', '#d62728','#d4ffcc']\n",
    "\n",
    "# Define custom font dictionary for title and labels\n",
    "font = {'family': 'Serif', 'weight': 'bold', 'size': 12}\n",
    "\n",
    "plt.figure(figsize=(6, 6))\n",
    "\n",
    "# Create bar plot with grid\n",
    "bars = plt.bar(label_counts.index, label_counts.values, color=custom_colors)\n",
    "#plt.grid(axis='y', linestyle='--', alpha=0.7)\n",
    "\n",
    "# Set title and axis labels using custom fontdict\n",
    "plt.title('Label Distribution', fontdict=font)\n",
    "plt.xlabel('Label', fontdict=font)\n",
    "plt.ylabel('Count', fontdict=font)\n",
    "\n",
    "# Set custom font for ticks on both x and y axes\n",
    "plt.xticks(label_counts.index, label_counts.index, fontdict=font)\n",
    "plt.yticks(fontname='Serif', fontsize=10)\n",
    "\n",
    "# Adding annotations (count values) on top of each bar\n",
    "for bar, count in zip(bars, label_counts.values):\n",
    "    plt.text(bar.get_x() + bar.get_width() / 2, bar.get_height(), str(count),\n",
    "             ha='center', va='bottom', fontdict=font)\n",
    "\n",
    "# Show the plot\n",
    "plt.show()\n"
   ]
  },
  {
   "cell_type": "markdown",
   "metadata": {
    "id": "zA5tBs-uTHKc"
   },
   "source": [
    "# **Visualization of Premise Length Distribution in Train Dataset**\n",
    "## **sentence1 length checking**"
   ]
  },
  {
   "cell_type": "code",
   "execution_count": 15,
   "metadata": {
    "colab": {
     "base_uri": "https://localhost:8080/",
     "height": 412
    },
    "id": "O02DpO2LTC1y",
    "outputId": "4863e0c7-7005-4987-9303-a9112d2a3f5c"
   },
   "outputs": [
    {
     "data": {
      "image/png": "[encoded data removed]",
      "text/plain": [
       "<Figure size 500x400 with 1 Axes>"
      ]
     },
     "metadata": {},
     "output_type": "display_data"
    }
   ],
   "source": [
    "# Visualize premise length distribution\n",
    "premise_lengths = df_train['sentence1'].apply(lambda x: len(x.split()))\n",
    "# Define custom font dictionary for title and labels\n",
    "font = {'family': 'Serif', 'weight': 'bold', 'size': 12}\n",
    "custom_colors = ['#fc9292']\n",
    "plt.figure(figsize=(5, 4))\n",
    "plt.hist(premise_lengths, bins=15, color=custom_colors,edgecolor='black' ,alpha=0.7)\n",
    "\n",
    "# Set title and axis labels using custom fontdict\n",
    "plt.title('Premise Length Distribution',fontdict=font)\n",
    "plt.xlabel('Length of Premise',fontdict=font)\n",
    "plt.ylabel('Numbers of Premise',fontdict=font)\n",
    "\n",
    "# Set custom font for ticks on both x and y axes\n",
    "plt.xticks(fontname='Serif', fontsize=10)\n",
    "plt.yticks(fontname='Serif', fontsize=10)\n",
    "#plt.grid(True)\n",
    "plt.show()"
   ]
  },
  {
   "cell_type": "markdown",
   "metadata": {
    "id": "mcq6Ox5_T-eI"
   },
   "source": [
    "# **Visualization of Premise Length Distribution in Test Dataset**\n",
    "## **sentence1 length checking**"
   ]
  },
  {
   "cell_type": "code",
   "execution_count": 16,
   "metadata": {
    "colab": {
     "base_uri": "https://localhost:8080/",
     "height": 412
    },
    "id": "zoejjr4gT4RR",
    "outputId": "b2ab689e-d43b-4d19-aac3-2a10b282a141"
   },
   "outputs": [
    {
     "data": {
      "image/png": "[encoded data removed]",
      "text/plain": [
       "<Figure size 500x400 with 1 Axes>"
      ]
     },
     "metadata": {},
     "output_type": "display_data"
    }
   ],
   "source": [
    "# Visualize premise length distribution\n",
    "premise_lengths = df_test['sentence1'].apply(lambda x: len(x.split()))\n",
    "# Define custom font dictionary for title and labels\n",
    "font = {'family': 'Serif', 'weight': 'bold', 'size': 12}\n",
    "custom_colors = ['#fc9292']\n",
    "plt.figure(figsize=(5, 4))\n",
    "plt.hist(premise_lengths, bins=15, color=custom_colors,edgecolor='black' ,alpha=0.7)\n",
    "\n",
    "# Set title and axis labels using custom fontdict\n",
    "plt.title('Premise Length Distribution',fontdict=font)\n",
    "plt.xlabel('Length of Premise',fontdict=font)\n",
    "plt.ylabel('Numbers of Premise',fontdict=font)\n",
    "\n",
    "# Set custom font for ticks on both x and y axes\n",
    "plt.xticks(fontname='Serif', fontsize=10)\n",
    "plt.yticks(fontname='Serif', fontsize=10)\n",
    "#plt.grid(True)\n",
    "plt.show()"
   ]
  },
  {
   "cell_type": "markdown",
   "metadata": {
    "id": "GM7ClLAlUMKW"
   },
   "source": [
    "# **Visualization of Premise Length Distribution in Validation Dataset**\n",
    "## **sentence1 length checking**"
   ]
  },
  {
   "cell_type": "code",
   "execution_count": 17,
   "metadata": {
    "colab": {
     "base_uri": "https://localhost:8080/",
     "height": 412
    },
    "id": "7P9zOgW6T4Ze",
    "outputId": "1f2bc321-e5ff-4d2f-d155-f2ad3f215e71"
   },
   "outputs": [
    {
     "data": {
      "image/png": "[encoded data removed]",
      "text/plain": [
       "<Figure size 500x400 with 1 Axes>"
      ]
     },
     "metadata": {},
     "output_type": "display_data"
    }
   ],
   "source": [
    "# Visualize premise length distribution\n",
    "premise_lengths = df_validation['sentence1'].apply(lambda x: len(x.split()))\n",
    "# Define custom font dictionary for title and labels\n",
    "font = {'family': 'Serif', 'weight': 'bold', 'size': 12}\n",
    "custom_colors = ['#fc9292']\n",
    "plt.figure(figsize=(5, 4))\n",
    "plt.hist(premise_lengths, bins=15, color=custom_colors,edgecolor='black' ,alpha=0.7)\n",
    "\n",
    "# Set title and axis labels using custom fontdict\n",
    "plt.title('Premise Length Distribution',fontdict=font)\n",
    "plt.xlabel('Length of Premise',fontdict=font)\n",
    "plt.ylabel('Numbers of Premise',fontdict=font)\n",
    "\n",
    "# Set custom font for ticks on both x and y axes\n",
    "plt.xticks(fontname='Serif', fontsize=10)\n",
    "plt.yticks(fontname='Serif', fontsize=10)\n",
    "#plt.grid(True)\n",
    "plt.show()"
   ]
  },
  {
   "cell_type": "markdown",
   "metadata": {
    "id": "PoM8l5aCUa0L"
   },
   "source": [
    "# **Dataset Length**"
   ]
  },
  {
   "cell_type": "code",
   "execution_count": 18,
   "metadata": {
    "colab": {
     "base_uri": "https://localhost:8080/"
    },
    "id": "yvhWp-DvUVpd",
    "outputId": "2b1b8f6c-e793-4459-8ced-dde82d05075a"
   },
   "outputs": [
    {
     "name": "stdout",
     "output_type": "stream",
     "text": [
      "Train Dataset Length: 381449\n",
      "Test Dataset Length: 4895\n",
      "Validation Dataset Length: 2419\n"
     ]
    }
   ],
   "source": [
    "print(f\"Train Dataset Length: {len(df_train)}\")\n",
    "print(f\"Test Dataset Length: {len(df_test)}\")\n",
    "print(f\"Validation Dataset Length: {len(df_validation)}\")"
   ]
  },
  {
   "cell_type": "markdown",
   "metadata": {
    "id": "MEsnFWBTVmLS"
   },
   "source": [
    "# **Null value checking in Train dataset**"
   ]
  },
  {
   "cell_type": "code",
   "execution_count": 19,
   "metadata": {
    "colab": {
     "base_uri": "https://localhost:8080/"
    },
    "id": "xK9pVl81UVtj",
    "outputId": "3f1df8d9-3afc-4a27-c563-c1ecdfb1b628"
   },
   "outputs": [
    {
     "name": "stdout",
     "output_type": "stream",
     "text": [
      "Null values in 'sentence1': 0\n",
      "Null values in 'sentence2': 0\n",
      "Null values in 'label': 0\n"
     ]
    }
   ],
   "source": [
    "# Check for null values in 'premise', 'hypothesis' and\t'label' columns\n",
    "null_premise = df_train['sentence1'].isnull().sum()\n",
    "null_hypothesis = df_train['sentence2'].isnull().sum()\n",
    "null_label = df_train['label'].isnull().sum()\n",
    "\n",
    "\n",
    "print(f\"Null values in 'sentence1': {null_premise}\")\n",
    "print(f\"Null values in 'sentence2': {null_hypothesis}\")\n",
    "print(f\"Null values in 'label': {null_label}\")\n"
   ]
  },
  {
   "cell_type": "markdown",
   "metadata": {
    "id": "dUwiQtiXVrwU"
   },
   "source": [
    "# **Null value checking in Test dataset**"
   ]
  },
  {
   "cell_type": "code",
   "execution_count": 20,
   "metadata": {
    "colab": {
     "base_uri": "https://localhost:8080/"
    },
    "id": "noFsoPvtVp52",
    "outputId": "2284d743-860c-45e6-e4c0-0d61de296c65"
   },
   "outputs": [
    {
     "name": "stdout",
     "output_type": "stream",
     "text": [
      "Null values in 'sentence1': 0\n",
      "Null values in 'sentence2': 0\n",
      "Null values in 'label': 0\n"
     ]
    }
   ],
   "source": [
    "# Check for null values in 'premise', 'hypothesis' and\t'label' columns\n",
    "null_premise = df_test['sentence1'].isnull().sum()\n",
    "null_hypothesis = df_test['sentence2'].isnull().sum()\n",
    "null_label = df_test['label'].isnull().sum()\n",
    "\n",
    "\n",
    "print(f\"Null values in 'sentence1': {null_premise}\")\n",
    "print(f\"Null values in 'sentence2': {null_hypothesis}\")\n",
    "print(f\"Null values in 'label': {null_label}\")\n"
   ]
  },
  {
   "cell_type": "markdown",
   "metadata": {
    "id": "T6NuC1kuV2vg"
   },
   "source": [
    "# **Null value checking in Validation dataset**"
   ]
  },
  {
   "cell_type": "code",
   "execution_count": 21,
   "metadata": {
    "colab": {
     "base_uri": "https://localhost:8080/"
    },
    "id": "KAqnTK22Vp-G",
    "outputId": "4205410e-c06a-4dfe-acde-d7fcd4cb4fce"
   },
   "outputs": [
    {
     "name": "stdout",
     "output_type": "stream",
     "text": [
      "Null values in 'sentence1': 0\n",
      "Null values in 'sentence2': 0\n",
      "Null values in 'label': 0\n"
     ]
    }
   ],
   "source": [
    "# Check for null values in 'premise', 'hypothesis' and\t'label' columns\n",
    "null_premise = df_validation['sentence1'].isnull().sum()\n",
    "null_hypothesis = df_validation['sentence2'].isnull().sum()\n",
    "null_label = df_validation['label'].isnull().sum()\n",
    "\n",
    "\n",
    "print(f\"Null values in 'sentence1': {null_premise}\")\n",
    "print(f\"Null values in 'sentence2': {null_hypothesis}\")\n",
    "print(f\"Null values in 'label': {null_label}\")\n"
   ]
  },
  {
   "cell_type": "markdown",
   "metadata": {
    "id": "Ug6ZBvbDXZyp"
   },
   "source": [
    "# **BanglaBERT model and its tokenizer**"
   ]
  },
  {
   "cell_type": "code",
   "execution_count": 22,
   "metadata": {
    "colab": {
     "base_uri": "https://localhost:8080/"
    },
    "id": "89j9mSDuXYVC",
    "outputId": "0a9a3c85-31c9-4978-84c7-c1e06ef4dade"
   },
   "outputs": [
    {
     "data": {
      "application/vnd.jupyter.widget-view+json": {
       "model_id": "f58da3e27c2544638b5708ad5e9c6791",
       "version_major": 2,
       "version_minor": 0
      },
      "text/plain": [
       "config.json:   0%|          | 0.00/586 [00:00<?, ?B/s]"
      ]
     },
     "metadata": {},
     "output_type": "display_data"
    },
    {
     "name": "stderr",
     "output_type": "stream",
     "text": [
      "C:\\Users\\Mukaffi\\anaconda3\\Lib\\site-packages\\huggingface_hub\\file_download.py:147: UserWarning: `huggingface_hub` cache-system uses symlinks by default to efficiently store duplicated files but your machine does not support them in C:\\Users\\Mukaffi\\.cache\\huggingface\\hub. Caching files will still work but in a degraded version that might require more space on your disk. This warning can be disabled by setting the `HF_HUB_DISABLE_SYMLINKS_WARNING` environment variable. For more details, see https://huggingface.co/docs/huggingface_hub/how-to-cache#limitations.\n",
      "To support symlinks on Windows, you either need to activate Developer Mode or to run Python as an administrator. In order to see activate developer mode, see this article: https://docs.microsoft.com/en-us/windows/apps/get-started/enable-your-device-for-development\n",
      "  warnings.warn(message)\n"
     ]
    },
    {
     "data": {
      "application/vnd.jupyter.widget-view+json": {
       "model_id": "4da668ab71b947c480a811f0cb0b71cc",
       "version_major": 2,
       "version_minor": 0
      },
      "text/plain": [
       "pytorch_model.bin:   0%|          | 0.00/443M [00:00<?, ?B/s]"
      ]
     },
     "metadata": {},
     "output_type": "display_data"
    },
    {
     "name": "stderr",
     "output_type": "stream",
     "text": [
      "Some weights of ElectraForSequenceClassification were not initialized from the model checkpoint at csebuetnlp/banglabert and are newly initialized: ['classifier.out_proj.bias', 'classifier.dense.bias', 'classifier.out_proj.weight', 'classifier.dense.weight']\n",
      "You should probably TRAIN this model on a down-stream task to be able to use it for predictions and inference.\n"
     ]
    },
    {
     "data": {
      "application/vnd.jupyter.widget-view+json": {
       "model_id": "3220b86e78cb411ca9721c354ccc4476",
       "version_major": 2,
       "version_minor": 0
      },
      "text/plain": [
       "tokenizer_config.json:   0%|          | 0.00/119 [00:00<?, ?B/s]"
      ]
     },
     "metadata": {},
     "output_type": "display_data"
    },
    {
     "data": {
      "application/vnd.jupyter.widget-view+json": {
       "model_id": "250e8c5ecceb4e03b2fe3159c2dab842",
       "version_major": 2,
       "version_minor": 0
      },
      "text/plain": [
       "vocab.txt:   0%|          | 0.00/528k [00:00<?, ?B/s]"
      ]
     },
     "metadata": {},
     "output_type": "display_data"
    },
    {
     "data": {
      "application/vnd.jupyter.widget-view+json": {
       "model_id": "723b6e0104cd41279c85bb5c624e70ba",
       "version_major": 2,
       "version_minor": 0
      },
      "text/plain": [
       "special_tokens_map.json:   0%|          | 0.00/112 [00:00<?, ?B/s]"
      ]
     },
     "metadata": {},
     "output_type": "display_data"
    }
   ],
   "source": [
    "from transformers import AutoModelForSequenceClassification, AutoTokenizer, AdamW\n",
    "num_classes = 3  #number of classes in our dataset\n",
    "\n",
    "model_name = \"csebuetnlp/banglabert\"\n",
    "model = AutoModelForSequenceClassification.from_pretrained(model_name, num_labels=num_classes)\n",
    "tokenizer = AutoTokenizer.from_pretrained(model_name)"
   ]
  },
  {
   "cell_type": "code",
   "execution_count": 23,
   "metadata": {
    "colab": {
     "base_uri": "https://localhost:8080/"
    },
    "id": "33_47eAvYAq7",
    "outputId": "c496fb7b-9d05-4fc2-db7a-41cf5cc0e0a0"
   },
   "outputs": [
    {
     "data": {
      "text/plain": [
       "ElectraForSequenceClassification(\n",
       "  (electra): ElectraModel(\n",
       "    (embeddings): ElectraEmbeddings(\n",
       "      (word_embeddings): Embedding(32000, 768, padding_idx=0)\n",
       "      (position_embeddings): Embedding(512, 768)\n",
       "      (token_type_embeddings): Embedding(2, 768)\n",
       "      (LayerNorm): LayerNorm((768,), eps=1e-12, elementwise_affine=True)\n",
       "      (dropout): Dropout(p=0.1, inplace=False)\n",
       "    )\n",
       "    (encoder): ElectraEncoder(\n",
       "      (layer): ModuleList(\n",
       "        (0-11): 12 x ElectraLayer(\n",
       "          (attention): ElectraAttention(\n",
       "            (self): ElectraSelfAttention(\n",
       "              (query): Linear(in_features=768, out_features=768, bias=True)\n",
       "              (key): Linear(in_features=768, out_features=768, bias=True)\n",
       "              (value): Linear(in_features=768, out_features=768, bias=True)\n",
       "              (dropout): Dropout(p=0.1, inplace=False)\n",
       "            )\n",
       "            (output): ElectraSelfOutput(\n",
       "              (dense): Linear(in_features=768, out_features=768, bias=True)\n",
       "              (LayerNorm): LayerNorm((768,), eps=1e-12, elementwise_affine=True)\n",
       "              (dropout): Dropout(p=0.1, inplace=False)\n",
       "            )\n",
       "          )\n",
       "          (intermediate): ElectraIntermediate(\n",
       "            (dense): Linear(in_features=768, out_features=3072, bias=True)\n",
       "            (intermediate_act_fn): GELUActivation()\n",
       "          )\n",
       "          (output): ElectraOutput(\n",
       "            (dense): Linear(in_features=3072, out_features=768, bias=True)\n",
       "            (LayerNorm): LayerNorm((768,), eps=1e-12, elementwise_affine=True)\n",
       "            (dropout): Dropout(p=0.1, inplace=False)\n",
       "          )\n",
       "        )\n",
       "      )\n",
       "    )\n",
       "  )\n",
       "  (classifier): ElectraClassificationHead(\n",
       "    (dense): Linear(in_features=768, out_features=768, bias=True)\n",
       "    (dropout): Dropout(p=0.1, inplace=False)\n",
       "    (out_proj): Linear(in_features=768, out_features=3, bias=True)\n",
       "  )\n",
       ")"
      ]
     },
     "execution_count": 23,
     "metadata": {},
     "output_type": "execute_result"
    }
   ],
   "source": [
    "# Place model on the device\n",
    "device = torch.device('cuda' if torch.cuda.is_available() else 'cpu')\n",
    "model.to(device)"
   ]
  },
  {
   "cell_type": "code",
   "execution_count": 24,
   "metadata": {
    "id": "9Ra5idwcXGnr"
   },
   "outputs": [],
   "source": [
    "from torch.utils.data import Dataset, DataLoader\n",
    "import torch"
   ]
  },
  {
   "cell_type": "markdown",
   "metadata": {
    "id": "8DEdDfUQXmSP"
   },
   "source": [
    "# **Custom Dataset Class**"
   ]
  },
  {
   "cell_type": "code",
   "execution_count": 25,
   "metadata": {
    "id": "6KS9BMVKkI2Q"
   },
   "outputs": [],
   "source": [
    "class NaturalLanguageInferenceDataset(Dataset):\n",
    "    def __init__(self, data, tokenizer, max_length=128):\n",
    "        self.data = data\n",
    "        self.tokenizer = tokenizer\n",
    "        self.max_length = max_length\n",
    "        self.label_map = {'Contradiction': 0, 'Entailment': 1, 'Neutral': 2}\n",
    "\n",
    "    def __len__(self):\n",
    "        return len(self.data)\n",
    "\n",
    "    def __getitem__(self, idx):\n",
    "        premise = self.data.iloc[idx]['sentence1']\n",
    "        hypothesis = self.data.iloc[idx]['sentence2']\n",
    "        label = self.data.iloc[idx]['label']\n",
    "\n",
    "        # Map label to integer\n",
    "        label_id = self.label_map[label]\n",
    "\n",
    "        # Tokenize premise and hypothesis separately\n",
    "        encoded_dict_premise = self.tokenizer.encode_plus(\n",
    "            premise,\n",
    "            add_special_tokens=True,\n",
    "            max_length=self.max_length // 2,  # Allocate half of the max_length to each\n",
    "            padding='max_length',\n",
    "            return_attention_mask=True,\n",
    "            return_tensors='pt',\n",
    "            truncation=True\n",
    "        )\n",
    "        encoded_dict_hypothesis = self.tokenizer.encode_plus(\n",
    "            hypothesis,\n",
    "            add_special_tokens=True,\n",
    "            max_length=self.max_length // 2,\n",
    "            padding='max_length',\n",
    "            return_attention_mask=True,\n",
    "            return_tensors='pt',\n",
    "            truncation=True\n",
    "        )\n",
    "\n",
    "        # Concatenate input_ids and attention_masks\n",
    "        input_ids = torch.cat((encoded_dict_premise['input_ids'], encoded_dict_hypothesis['input_ids']), dim=1)\n",
    "        attention_mask = torch.cat((encoded_dict_premise['attention_mask'], encoded_dict_hypothesis['attention_mask']), dim=1)\n",
    "\n",
    "        return {\n",
    "            'input_ids': input_ids.squeeze(),\n",
    "            'attention_mask': attention_mask.squeeze(),\n",
    "            'label': torch.tensor(label_id, dtype=torch.long)  # Use mapped label_id\n",
    "        }\n"
   ]
  },
  {
   "cell_type": "code",
   "execution_count": null,
   "metadata": {},
   "outputs": [],
   "source": []
  },
  {
   "cell_type": "markdown",
   "metadata": {
    "id": "Lb-YGHWDXp1o"
   },
   "source": [
    "# **Custom dataset and dataloader**"
   ]
  },
  {
   "cell_type": "code",
   "execution_count": 38,
   "metadata": {
    "id": "WmY-Js5uWIQR"
   },
   "outputs": [],
   "source": [
    "# Define custom datasets\n",
    "train_dataset = NaturalLanguageInferenceDataset(df_train, tokenizer)\n",
    "val_dataset = NaturalLanguageInferenceDataset(df_validation, tokenizer)\n",
    "test_dataset = NaturalLanguageInferenceDataset(df_test, tokenizer)\n",
    "\n",
    "# Define data loaders\n",
    "train_loader = DataLoader(train_dataset, batch_size=24, shuffle=True)\n",
    "val_loader = DataLoader(val_dataset, batch_size=24, shuffle=False)\n",
    "test_loader = DataLoader(test_dataset, batch_size=24, shuffle=False)"
   ]
  },
  {
   "cell_type": "markdown",
   "metadata": {
    "id": "GqS_EvPQYvbP"
   },
   "source": [
    "# **Train Dataset Encoding Printing**"
   ]
  },
  {
   "cell_type": "code",
   "execution_count": 39,
   "metadata": {
    "colab": {
     "base_uri": "https://localhost:8080/"
    },
    "id": "iFgbykugWIUc",
    "outputId": "defc5712-fb9f-488f-d5c7-e3e91209e4c0"
   },
   "outputs": [
    {
     "name": "stdout",
     "output_type": "stream",
     "text": [
      "Input IDs: tensor([    2,  3793,   763, 17748,   411,   982,   902, 24297,  1103,  1056,\n",
      "         2772,   424,  1401,   903, 10756,  1401,    16,  4609,  4476,  1103,\n",
      "        11331,  1087,   205,     3,     0,     0,     0,     0,     0,     0,\n",
      "            0,     0,     0,     0,     0,     0,     0,     0,     0,     0,\n",
      "            0,     0,     0,     0,     0,     0,     0,     0,     0,     0,\n",
      "            0,     0,     0,     0,     0,     0,     0,     0,     0,     0,\n",
      "            0,     0,     0,     0,     2,  3793,   763, 17748,   411,  7751,\n",
      "         2772,  1621,   913,  2958,   903, 14718,  5109,  1121,   900,  9029,\n",
      "        10526,  1343,   844,   795,   205,     3,     0,     0,     0,     0,\n",
      "            0,     0,     0,     0,     0,     0,     0,     0,     0,     0,\n",
      "            0,     0,     0,     0,     0,     0,     0,     0,     0,     0,\n",
      "            0,     0,     0,     0,     0,     0,     0,     0,     0,     0,\n",
      "            0,     0,     0,     0,     0,     0,     0,     0],\n",
      "       device='cuda:0')\n",
      "Attention Mask: tensor([1, 1, 1, 1, 1, 1, 1, 1, 1, 1, 1, 1, 1, 1, 1, 1, 1, 1, 1, 1, 1, 1, 1, 1,\n",
      "        0, 0, 0, 0, 0, 0, 0, 0, 0, 0, 0, 0, 0, 0, 0, 0, 0, 0, 0, 0, 0, 0, 0, 0,\n",
      "        0, 0, 0, 0, 0, 0, 0, 0, 0, 0, 0, 0, 0, 0, 0, 0, 1, 1, 1, 1, 1, 1, 1, 1,\n",
      "        1, 1, 1, 1, 1, 1, 1, 1, 1, 1, 1, 1, 1, 1, 0, 0, 0, 0, 0, 0, 0, 0, 0, 0,\n",
      "        0, 0, 0, 0, 0, 0, 0, 0, 0, 0, 0, 0, 0, 0, 0, 0, 0, 0, 0, 0, 0, 0, 0, 0,\n",
      "        0, 0, 0, 0, 0, 0, 0, 0], device='cuda:0')\n",
      "Labels: tensor(2, device='cuda:0')\n"
     ]
    }
   ],
   "source": [
    "# Set a flag to track whether it's the first batch\n",
    "first_batch = True\n",
    "\n",
    "for batch in train_loader:\n",
    "    # Move inputs and labels to the GPU\n",
    "    inputs = {key: value.to(device) for key, value in batch.items()}  # Using 'batch' directly\n",
    "\n",
    "    # Extract information for the first example in the batch\n",
    "    input_ids = inputs['input_ids'][0]\n",
    "    attention_mask = inputs['attention_mask'][0]\n",
    "    labels = inputs['label'][0]\n",
    "\n",
    "\n",
    "    # Print information\n",
    "    print(\"Input IDs:\", input_ids)\n",
    "    print(\"Attention Mask:\", attention_mask)\n",
    "    print(\"Labels:\", labels)\n",
    "\n",
    "\n",
    "    # Break out of the loop after processing the first batch\n",
    "    break\n"
   ]
  },
  {
   "cell_type": "markdown",
   "metadata": {
    "id": "0WOw8GpDYxfu"
   },
   "source": [
    "# **Test Dataset Encoding Printing**"
   ]
  },
  {
   "cell_type": "code",
   "execution_count": 40,
   "metadata": {
    "colab": {
     "base_uri": "https://localhost:8080/"
    },
    "id": "wq5TW7iYYZLV",
    "outputId": "8377750a-57d7-434d-a9ae-b1006f4f6d60"
   },
   "outputs": [
    {
     "name": "stdout",
     "output_type": "stream",
     "text": [
      "Input IDs: tensor([    2,  2066,    16,   857,  3177,   830,  1876, 30120,  5976,    16,\n",
      "          925,   857,  1284,  5938,   824, 13447,   831,    16,  1113,  1358,\n",
      "          857,  1148,   826,  1031,   917,  1385,  1116,  4943,     3,     0,\n",
      "            0,     0,     0,     0,     0,     0,     0,     0,     0,     0,\n",
      "            0,     0,     0,     0,     0,     0,     0,     0,     0,     0,\n",
      "            0,     0,     0,     0,     0,     0,     0,     0,     0,     0,\n",
      "            0,     0,     0,     0,     2,   857,   826,  1042,  1148,   917,\n",
      "        11475,   205,     3,     0,     0,     0,     0,     0,     0,     0,\n",
      "            0,     0,     0,     0,     0,     0,     0,     0,     0,     0,\n",
      "            0,     0,     0,     0,     0,     0,     0,     0,     0,     0,\n",
      "            0,     0,     0,     0,     0,     0,     0,     0,     0,     0,\n",
      "            0,     0,     0,     0,     0,     0,     0,     0,     0,     0,\n",
      "            0,     0,     0,     0,     0,     0,     0,     0],\n",
      "       device='cuda:0')\n",
      "Attention Mask: tensor([1, 1, 1, 1, 1, 1, 1, 1, 1, 1, 1, 1, 1, 1, 1, 1, 1, 1, 1, 1, 1, 1, 1, 1,\n",
      "        1, 1, 1, 1, 1, 0, 0, 0, 0, 0, 0, 0, 0, 0, 0, 0, 0, 0, 0, 0, 0, 0, 0, 0,\n",
      "        0, 0, 0, 0, 0, 0, 0, 0, 0, 0, 0, 0, 0, 0, 0, 0, 1, 1, 1, 1, 1, 1, 1, 1,\n",
      "        1, 0, 0, 0, 0, 0, 0, 0, 0, 0, 0, 0, 0, 0, 0, 0, 0, 0, 0, 0, 0, 0, 0, 0,\n",
      "        0, 0, 0, 0, 0, 0, 0, 0, 0, 0, 0, 0, 0, 0, 0, 0, 0, 0, 0, 0, 0, 0, 0, 0,\n",
      "        0, 0, 0, 0, 0, 0, 0, 0], device='cuda:0')\n",
      "Labels: tensor(0, device='cuda:0')\n"
     ]
    }
   ],
   "source": [
    "# Set a flag to track whether it's the first batch\n",
    "first_batch = True\n",
    "\n",
    "for batch in test_loader:\n",
    "    # Move inputs and labels to the GPU\n",
    "    inputs = {key: value.to(device) for key, value in batch.items()}  # Using 'batch' directly\n",
    "\n",
    "    # Extract information for the first example in the batch\n",
    "    input_ids = inputs['input_ids'][0]\n",
    "    attention_mask = inputs['attention_mask'][0]\n",
    "    labels = inputs['label'][0]\n",
    "\n",
    "\n",
    "    # Print information\n",
    "    print(\"Input IDs:\", input_ids)\n",
    "    print(\"Attention Mask:\", attention_mask)\n",
    "    print(\"Labels:\", labels)\n",
    "\n",
    "\n",
    "    # Break out of the loop after processing the first batch\n",
    "    break\n"
   ]
  },
  {
   "cell_type": "markdown",
   "metadata": {
    "id": "CMKWxh1cY1VY"
   },
   "source": [
    "# **Validation Dataset Encoding Printing**"
   ]
  },
  {
   "cell_type": "code",
   "execution_count": 41,
   "metadata": {
    "colab": {
     "base_uri": "https://localhost:8080/"
    },
    "id": "2IoCxG4aYZP8",
    "outputId": "f0c251a9-0603-43f0-eee5-4822dc3e8411"
   },
   "outputs": [
    {
     "name": "stdout",
     "output_type": "stream",
     "text": [
      "Input IDs: tensor([   2,  815,  809, 1988,   16,  855,   16,  857, 1434,  205,    3,    0,\n",
      "           0,    0,    0,    0,    0,    0,    0,    0,    0,    0,    0,    0,\n",
      "           0,    0,    0,    0,    0,    0,    0,    0,    0,    0,    0,    0,\n",
      "           0,    0,    0,    0,    0,    0,    0,    0,    0,    0,    0,    0,\n",
      "           0,    0,    0,    0,    0,    0,    0,    0,    0,    0,    0,    0,\n",
      "           0,    0,    0,    0,    2, 4114, 1357, 1339, 5252, 2133, 1031, 1031,\n",
      "         954,  826, 3951, 1608, 2494,  205,    3,    0,    0,    0,    0,    0,\n",
      "           0,    0,    0,    0,    0,    0,    0,    0,    0,    0,    0,    0,\n",
      "           0,    0,    0,    0,    0,    0,    0,    0,    0,    0,    0,    0,\n",
      "           0,    0,    0,    0,    0,    0,    0,    0,    0,    0,    0,    0,\n",
      "           0,    0,    0,    0,    0,    0,    0,    0], device='cuda:0')\n",
      "Attention Mask: tensor([1, 1, 1, 1, 1, 1, 1, 1, 1, 1, 1, 0, 0, 0, 0, 0, 0, 0, 0, 0, 0, 0, 0, 0,\n",
      "        0, 0, 0, 0, 0, 0, 0, 0, 0, 0, 0, 0, 0, 0, 0, 0, 0, 0, 0, 0, 0, 0, 0, 0,\n",
      "        0, 0, 0, 0, 0, 0, 0, 0, 0, 0, 0, 0, 0, 0, 0, 0, 1, 1, 1, 1, 1, 1, 1, 1,\n",
      "        1, 1, 1, 1, 1, 1, 1, 0, 0, 0, 0, 0, 0, 0, 0, 0, 0, 0, 0, 0, 0, 0, 0, 0,\n",
      "        0, 0, 0, 0, 0, 0, 0, 0, 0, 0, 0, 0, 0, 0, 0, 0, 0, 0, 0, 0, 0, 0, 0, 0,\n",
      "        0, 0, 0, 0, 0, 0, 0, 0], device='cuda:0')\n",
      "Labels: tensor(2, device='cuda:0')\n"
     ]
    }
   ],
   "source": [
    "# Set a flag to track whether it's the first batch\n",
    "first_batch = True\n",
    "\n",
    "for batch in val_loader:\n",
    "    # Move inputs and labels to the GPU\n",
    "    inputs = {key: value.to(device) for key, value in batch.items()}  # Using 'batch' directly\n",
    "\n",
    "    # Extract information for the first example in the batch\n",
    "    input_ids = inputs['input_ids'][0]\n",
    "    attention_mask = inputs['attention_mask'][0]\n",
    "    labels = inputs['label'][0]\n",
    "\n",
    "\n",
    "    # Print information\n",
    "    print(\"Input IDs:\", input_ids)\n",
    "    print(\"Attention Mask:\", attention_mask)\n",
    "    print(\"Labels:\", labels)\n",
    "\n",
    "\n",
    "    # Break out of the loop after processing the first batch\n",
    "    break\n"
   ]
  },
  {
   "cell_type": "markdown",
   "metadata": {
    "id": "xya2GAiZY7Dc"
   },
   "source": [
    "# **Train Dataset Decoding Printing**"
   ]
  },
  {
   "cell_type": "code",
   "execution_count": 42,
   "metadata": {
    "colab": {
     "base_uri": "https://localhost:8080/"
    },
    "id": "TFw3haCPYZT0",
    "outputId": "ed13b62b-ecaf-4bb7-f0b0-b038961f5f5f"
   },
   "outputs": [
    {
     "name": "stdout",
     "output_type": "stream",
     "text": [
      "Decoded Input Text: যদি আপনার কাছে এই সামান্য আহ স্টাইরোফোম বাদাম থাকে যে তোমার কাছে কি স্টাইরোফম বাদাম আছে?\n",
      "Attention Mask: tensor([1, 1, 1, 1, 1, 1, 1, 1, 1, 1, 1, 1, 1, 1, 1, 1, 0, 0, 0, 0, 0, 0, 0, 0,\n",
      "        0, 0, 0, 0, 0, 0, 0, 0, 0, 0, 0, 0, 0, 0, 0, 0, 0, 0, 0, 0, 0, 0, 0, 0,\n",
      "        0, 0, 0, 0, 0, 0, 0, 0, 0, 0, 0, 0, 0, 0, 0, 0, 1, 1, 1, 1, 1, 1, 1, 1,\n",
      "        1, 1, 1, 1, 1, 0, 0, 0, 0, 0, 0, 0, 0, 0, 0, 0, 0, 0, 0, 0, 0, 0, 0, 0,\n",
      "        0, 0, 0, 0, 0, 0, 0, 0, 0, 0, 0, 0, 0, 0, 0, 0, 0, 0, 0, 0, 0, 0, 0, 0,\n",
      "        0, 0, 0, 0, 0, 0, 0, 0], device='cuda:0')\n",
      "Labels: \n"
     ]
    }
   ],
   "source": [
    "# Set a flag to track whether it's the first batch\n",
    "first_batch = True\n",
    "\n",
    "for batch in train_loader:\n",
    "    # Move inputs and labels to the GPU\n",
    "    inputs = {key: value.to(device) for key, value in batch.items()}\n",
    "\n",
    "    # Extract information for the first example in the batch\n",
    "    input_ids = inputs['input_ids'][0]\n",
    "    attention_mask = inputs['attention_mask'][0]\n",
    "    labels = inputs['label'][0]\n",
    "\n",
    "\n",
    "    # Check for problematic token IDs causing overflow error during decoding\n",
    "    problematic_ids = torch.nonzero((input_ids < 0) | (input_ids >= tokenizer.vocab_size))\n",
    "    if problematic_ids.numel() > 0:\n",
    "        print(\"Problematic Token IDs:\", input_ids[problematic_ids])\n",
    "        print(\"Problematic Token Positions:\", problematic_ids)\n",
    "        # Handle the problematic input IDs as needed\n",
    "        raise ValueError(\"Problematic token IDs detected\")\n",
    "\n",
    "    # Decode and print input text\n",
    "    decoded_input_text = tokenizer.decode(input_ids.clamp(0, tokenizer.vocab_size - 1), skip_special_tokens=True)\n",
    "    print(\"Decoded Input Text:\", decoded_input_text)\n",
    "    print(\"Attention Mask:\", attention_mask)\n",
    "\n",
    "    # Decode and print labels\n",
    "    decoded_labels = tokenizer.decode(labels.clamp(0, tokenizer.vocab_size - 1), skip_special_tokens=True)\n",
    "    print(\"Labels:\", decoded_labels)\n",
    "\n",
    "\n",
    "\n",
    "    # Break out of the loop after processing the first batch\n",
    "    break\n"
   ]
  },
  {
   "cell_type": "markdown",
   "metadata": {
    "id": "OaFuSRr4Y8zq"
   },
   "source": [
    "# **Test Dataset Decoding Printing**"
   ]
  },
  {
   "cell_type": "code",
   "execution_count": 43,
   "metadata": {
    "colab": {
     "base_uri": "https://localhost:8080/"
    },
    "id": "qHWs5hbMYjoR",
    "outputId": "07526519-4002-41cc-f0e1-f52f5444c9ae"
   },
   "outputs": [
    {
     "name": "stdout",
     "output_type": "stream",
     "text": [
      "Decoded Input Text: আসলে, আমি এমনকি এই বিষয়ে চিন্তাও করিনি, কিন্তু আমি এত হতাশ হয়ে পড়েছিলাম যে, শেষ পর্যন্ত আমি আবার তার সঙ্গে কথা বলতে শুরু করেছিলাম আমি তার সাথে আবার কথা বলিনি ।\n",
      "Attention Mask: tensor([1, 1, 1, 1, 1, 1, 1, 1, 1, 1, 1, 1, 1, 1, 1, 1, 1, 1, 1, 1, 1, 1, 1, 1,\n",
      "        1, 1, 1, 1, 1, 0, 0, 0, 0, 0, 0, 0, 0, 0, 0, 0, 0, 0, 0, 0, 0, 0, 0, 0,\n",
      "        0, 0, 0, 0, 0, 0, 0, 0, 0, 0, 0, 0, 0, 0, 0, 0, 1, 1, 1, 1, 1, 1, 1, 1,\n",
      "        1, 0, 0, 0, 0, 0, 0, 0, 0, 0, 0, 0, 0, 0, 0, 0, 0, 0, 0, 0, 0, 0, 0, 0,\n",
      "        0, 0, 0, 0, 0, 0, 0, 0, 0, 0, 0, 0, 0, 0, 0, 0, 0, 0, 0, 0, 0, 0, 0, 0,\n",
      "        0, 0, 0, 0, 0, 0, 0, 0], device='cuda:0')\n",
      "Labels: \n"
     ]
    }
   ],
   "source": [
    "# Set a flag to track whether it's the first batch\n",
    "first_batch = True\n",
    "\n",
    "for batch in test_loader:\n",
    "    # Move inputs and labels to the GPU\n",
    "    inputs = {key: value.to(device) for key, value in batch.items()}\n",
    "\n",
    "    # Extract information for the first example in the batch\n",
    "    input_ids = inputs['input_ids'][0]\n",
    "    attention_mask = inputs['attention_mask'][0]\n",
    "    labels = inputs['label'][0]\n",
    "\n",
    "\n",
    "    # Check for problematic token IDs causing overflow error during decoding\n",
    "    problematic_ids = torch.nonzero((input_ids < 0) | (input_ids >= tokenizer.vocab_size))\n",
    "    if problematic_ids.numel() > 0:\n",
    "        print(\"Problematic Token IDs:\", input_ids[problematic_ids])\n",
    "        print(\"Problematic Token Positions:\", problematic_ids)\n",
    "        # Handle the problematic input IDs as needed\n",
    "        raise ValueError(\"Problematic token IDs detected\")\n",
    "\n",
    "    # Decode and print input text\n",
    "    decoded_input_text = tokenizer.decode(input_ids.clamp(0, tokenizer.vocab_size - 1), skip_special_tokens=True)\n",
    "    print(\"Decoded Input Text:\", decoded_input_text)\n",
    "    print(\"Attention Mask:\", attention_mask)\n",
    "\n",
    "    # Decode and print labels\n",
    "    decoded_labels = tokenizer.decode(labels.clamp(0, tokenizer.vocab_size - 1), skip_special_tokens=True)\n",
    "    print(\"Labels:\", decoded_labels)\n",
    "\n",
    "\n",
    "\n",
    "    # Break out of the loop after processing the first batch\n",
    "    break\n"
   ]
  },
  {
   "cell_type": "markdown",
   "metadata": {
    "id": "WLjTMnmHZBY8"
   },
   "source": [
    "# **Validation Dataset Decoding Printing**"
   ]
  },
  {
   "cell_type": "code",
   "execution_count": 44,
   "metadata": {
    "colab": {
     "base_uri": "https://localhost:8080/"
    },
    "id": "6erEF_UnYm2S",
    "outputId": "9ac1e29c-376d-41db-ac3b-3e107c6a98ee"
   },
   "outputs": [
    {
     "name": "stdout",
     "output_type": "stream",
     "text": [
      "Decoded Input Text: আর সে বললো, মা, আমি বাড়ি । স্কুলের বাস তাকে নামিয়ে দেওয়ার সঙ্গে সঙ্গে তিনি তার মাকে ফোন করেছিলেন ।\n",
      "Attention Mask: tensor([1, 1, 1, 1, 1, 1, 1, 1, 1, 1, 1, 0, 0, 0, 0, 0, 0, 0, 0, 0, 0, 0, 0, 0,\n",
      "        0, 0, 0, 0, 0, 0, 0, 0, 0, 0, 0, 0, 0, 0, 0, 0, 0, 0, 0, 0, 0, 0, 0, 0,\n",
      "        0, 0, 0, 0, 0, 0, 0, 0, 0, 0, 0, 0, 0, 0, 0, 0, 1, 1, 1, 1, 1, 1, 1, 1,\n",
      "        1, 1, 1, 1, 1, 1, 1, 0, 0, 0, 0, 0, 0, 0, 0, 0, 0, 0, 0, 0, 0, 0, 0, 0,\n",
      "        0, 0, 0, 0, 0, 0, 0, 0, 0, 0, 0, 0, 0, 0, 0, 0, 0, 0, 0, 0, 0, 0, 0, 0,\n",
      "        0, 0, 0, 0, 0, 0, 0, 0], device='cuda:0')\n",
      "Labels: \n"
     ]
    }
   ],
   "source": [
    "# Set a flag to track whether it's the first batch\n",
    "first_batch = True\n",
    "\n",
    "for batch in val_loader:\n",
    "    # Move inputs and labels to the GPU\n",
    "    inputs = {key: value.to(device) for key, value in batch.items()}\n",
    "\n",
    "    # Extract information for the first example in the batch\n",
    "    input_ids = inputs['input_ids'][0]\n",
    "    attention_mask = inputs['attention_mask'][0]\n",
    "    labels = inputs['label'][0]\n",
    "\n",
    "\n",
    "    # Check for problematic token IDs causing overflow error during decoding\n",
    "    problematic_ids = torch.nonzero((input_ids < 0) | (input_ids >= tokenizer.vocab_size))\n",
    "    if problematic_ids.numel() > 0:\n",
    "        print(\"Problematic Token IDs:\", input_ids[problematic_ids])\n",
    "        print(\"Problematic Token Positions:\", problematic_ids)\n",
    "        # Handle the problematic input IDs as needed\n",
    "        raise ValueError(\"Problematic token IDs detected\")\n",
    "\n",
    "    # Decode and print input text\n",
    "    decoded_input_text = tokenizer.decode(input_ids.clamp(0, tokenizer.vocab_size - 1), skip_special_tokens=True)\n",
    "    print(\"Decoded Input Text:\", decoded_input_text)\n",
    "    print(\"Attention Mask:\", attention_mask)\n",
    "\n",
    "    # Decode and print labels\n",
    "    decoded_labels = tokenizer.decode(labels.clamp(0, tokenizer.vocab_size - 1), skip_special_tokens=True)\n",
    "    print(\"Labels:\", decoded_labels)\n",
    "\n",
    "\n",
    "\n",
    "    # Break out of the loop after processing the first batch\n",
    "    break\n"
   ]
  },
  {
   "cell_type": "markdown",
   "metadata": {
    "id": "uKfX8TKTagym"
   },
   "source": [
    "# **Optimizer and Loss Function**"
   ]
  },
  {
   "cell_type": "code",
   "execution_count": 45,
   "metadata": {
    "id": "IzJPPnvEZEDg"
   },
   "outputs": [],
   "source": [
    "# Define optimizer and loss function\n",
    "optimizer = torch.optim.AdamW(model.parameters(), lr=1e-5)\n",
    "criterion = torch.nn.CrossEntropyLoss()"
   ]
  },
  {
   "cell_type": "markdown",
   "metadata": {
    "id": "nIciuBBecEJs"
   },
   "source": [
    "# **Training the model**"
   ]
  },
  {
   "cell_type": "code",
   "execution_count": 46,
   "metadata": {
    "colab": {
     "base_uri": "https://localhost:8080/"
    },
    "id": "D6EHO17FZEGq",
    "outputId": "c3498fb6-3163-4ad9-ac0e-e1da67de9be9"
   },
   "outputs": [
    {
     "name": "stderr",
     "output_type": "stream",
     "text": [
      "                                                                  \r"
     ]
    },
    {
     "name": "stdout",
     "output_type": "stream",
     "text": [
      "Epoch 1/5 - Average training loss: 0.5019\n"
     ]
    },
    {
     "name": "stderr",
     "output_type": "stream",
     "text": [
      "                                                             \r"
     ]
    },
    {
     "name": "stdout",
     "output_type": "stream",
     "text": [
      "Epoch 1/5 - Validation Accuracy: 0.8169\n",
      "Epoch 1 completed in 105m 33s\n"
     ]
    },
    {
     "name": "stderr",
     "output_type": "stream",
     "text": [
      "                                                                  \r"
     ]
    },
    {
     "name": "stdout",
     "output_type": "stream",
     "text": [
      "Epoch 2/5 - Average training loss: 0.4315\n"
     ]
    },
    {
     "name": "stderr",
     "output_type": "stream",
     "text": [
      "                                                             \r"
     ]
    },
    {
     "name": "stdout",
     "output_type": "stream",
     "text": [
      "Epoch 2/5 - Validation Accuracy: 0.8239\n",
      "Epoch 2 completed in 105m 27s\n"
     ]
    },
    {
     "name": "stderr",
     "output_type": "stream",
     "text": [
      "                                                                  \r"
     ]
    },
    {
     "name": "stdout",
     "output_type": "stream",
     "text": [
      "Epoch 3/5 - Average training loss: 0.3729\n"
     ]
    },
    {
     "name": "stderr",
     "output_type": "stream",
     "text": [
      "                                                             \r"
     ]
    },
    {
     "name": "stdout",
     "output_type": "stream",
     "text": [
      "Epoch 3/5 - Validation Accuracy: 0.8255\n",
      "Epoch 3 completed in 105m 28s\n"
     ]
    },
    {
     "name": "stderr",
     "output_type": "stream",
     "text": [
      "                                                                  \r"
     ]
    },
    {
     "name": "stdout",
     "output_type": "stream",
     "text": [
      "Epoch 4/5 - Average training loss: 0.3205\n"
     ]
    },
    {
     "name": "stderr",
     "output_type": "stream",
     "text": [
      "                                                             \r"
     ]
    },
    {
     "name": "stdout",
     "output_type": "stream",
     "text": [
      "Epoch 4/5 - Validation Accuracy: 0.8326\n",
      "Epoch 4 completed in 105m 29s\n"
     ]
    },
    {
     "name": "stderr",
     "output_type": "stream",
     "text": [
      "                                                                  \r"
     ]
    },
    {
     "name": "stdout",
     "output_type": "stream",
     "text": [
      "Epoch 5/5 - Average training loss: 0.2716\n"
     ]
    },
    {
     "name": "stderr",
     "output_type": "stream",
     "text": [
      "                                                             "
     ]
    },
    {
     "name": "stdout",
     "output_type": "stream",
     "text": [
      "Epoch 5/5 - Validation Accuracy: 0.8309\n",
      "Epoch 5 completed in 105m 41s\n"
     ]
    },
    {
     "name": "stderr",
     "output_type": "stream",
     "text": [
      "\r"
     ]
    }
   ],
   "source": [
    "# Training loop\n",
    "num_epochs = 5\n",
    "gradient_accumulation_steps = 4  # Accumulate gradients over 4 steps\n",
    "\n",
    "for epoch in range(num_epochs):\n",
    "    start_time = time.time()  # Start time of the epoch\n",
    "    model.train()\n",
    "    total_loss = 0\n",
    "    optimizer.zero_grad()\n",
    "\n",
    "    # Wrap train_loader with tqdm for progress bar\n",
    "    for batch_idx, batch in enumerate(tqdm(train_loader, desc=f'Epoch {epoch + 1}/{num_epochs}', leave=False)):\n",
    "        input_ids = batch['input_ids'].to(device)\n",
    "        attention_mask = batch['attention_mask'].to(device)\n",
    "        labels = batch['label'].to(device)\n",
    "\n",
    "        outputs = model(input_ids=input_ids, attention_mask=attention_mask)\n",
    "        logits = outputs.logits  # Logits directly from the model output\n",
    "\n",
    "        loss = criterion(logits, labels)\n",
    "        total_loss += loss.item()\n",
    "\n",
    "        loss = loss / gradient_accumulation_steps\n",
    "        loss.backward()\n",
    "\n",
    "        if (batch_idx + 1) % gradient_accumulation_steps == 0:\n",
    "            optimizer.step()\n",
    "            optimizer.zero_grad()\n",
    "\n",
    "    avg_train_loss = total_loss / len(train_loader)\n",
    "    print(f'Epoch {epoch + 1}/{num_epochs} - Average training loss: {avg_train_loss:.4f}')\n",
    "\n",
    "    # Validation\n",
    "    model.eval()\n",
    "    val_preds = []\n",
    "    val_labels = []\n",
    "\n",
    "    # Wrap val_loader with tqdm for progress bar\n",
    "    for batch in tqdm(val_loader, desc=f'Validation', leave=False):\n",
    "        input_ids = batch['input_ids'].to(device)\n",
    "        attention_mask = batch['attention_mask'].to(device)\n",
    "        labels = batch['label'].to(device)\n",
    "\n",
    "        outputs = model(input_ids=input_ids, attention_mask=attention_mask)\n",
    "        logits = outputs.logits  # Logits directly from the model output\n",
    "\n",
    "        _, predicted = torch.max(logits, 1)\n",
    "\n",
    "        val_preds.extend(predicted.cpu().numpy())\n",
    "        val_labels.extend(labels.cpu().numpy())\n",
    "\n",
    "    val_accuracy = accuracy_score(val_labels, val_preds)\n",
    "    print(f'Epoch {epoch + 1}/{num_epochs} - Validation Accuracy: {val_accuracy:.4f}')\n",
    "\n",
    "    # Calculate and print epoch training time\n",
    "    epoch_time = time.time() - start_time\n",
    "    print(f\"Epoch {epoch + 1} completed in {epoch_time // 60:.0f}m {epoch_time % 60:.0f}s\")"
   ]
  },
  {
   "cell_type": "markdown",
   "metadata": {
    "id": "lMAZ3gxRcHln"
   },
   "source": [
    "# **Testing the model**"
   ]
  },
  {
   "cell_type": "code",
   "execution_count": 47,
   "metadata": {
    "colab": {
     "base_uri": "https://localhost:8080/"
    },
    "id": "fo5cj9stZJFB",
    "outputId": "7e5150b2-1e4c-44f0-ef9a-03c5ece81c8a"
   },
   "outputs": [
    {
     "name": "stderr",
     "output_type": "stream",
     "text": [
      "Testing: 100%|██████████| 204/204 [00:29<00:00,  6.92it/s]\n"
     ]
    }
   ],
   "source": [
    "test_preds = []\n",
    "test_labels = []\n",
    "test_probs = []  # Store predicted probabilities\n",
    "\n",
    "with torch.no_grad():\n",
    "    for batch in tqdm(test_loader, desc='Testing'):\n",
    "        input_ids = batch['input_ids'].to(device)\n",
    "        attention_mask = batch['attention_mask'].to(device)\n",
    "        labels = batch['label'].to(device)\n",
    "\n",
    "        outputs = model(input_ids=input_ids, attention_mask=attention_mask)\n",
    "\n",
    "        # Assuming our model directly outputs logits\n",
    "        probabilities = torch.softmax(outputs.logits, dim=1)  # Softmax to get probabilities\n",
    "        _, predicted = torch.max(outputs.logits, 1)\n",
    "\n",
    "        test_preds.extend(predicted.cpu().numpy())\n",
    "        test_labels.extend(labels.cpu().numpy())\n",
    "        test_probs.extend(probabilities.cpu().numpy())  # Append predicted probabilities\n",
    "\n",
    "test_accuracy = accuracy_score(test_labels, test_preds)\n",
    "test_precision = precision_score(test_labels, test_preds, average='macro')\n",
    "test_recall = recall_score(test_labels, test_preds, average='macro')\n",
    "test_f1 = f1_score(test_labels, test_preds, average='macro')\n",
    "test_jaccard_score = jaccard_score(test_labels, test_preds, average='macro')\n",
    "test_log_loss = log_loss(test_labels, test_probs)\n"
   ]
  },
  {
   "cell_type": "code",
   "execution_count": 48,
   "metadata": {
    "colab": {
     "base_uri": "https://localhost:8080/"
    },
    "id": "HRqYwRUaXgXY",
    "outputId": "a98158ca-f2ef-4a42-9b85-473f79d5ab73"
   },
   "outputs": [
    {
     "name": "stdout",
     "output_type": "stream",
     "text": [
      "[0, 1, 0, 2, 1, 0, 0, 1, 2, 0, 1, 2, 0, 1, 2, 0, 2, 1, 0, 1, 2, 1, 0, 2, 2, 1, 0, 0, 2, 1, 2, 1, 0, 0, 0, 0, 0, 1, 2, 0, 1, 1, 0, 1, 2, 1, 2, 0, 1, 0, 2, 1, 1, 0, 1, 2, 0, 1, 2, 0, 2, 1, 0, 2, 1, 0, 2, 1, 2, 2, 1, 0, 0, 2, 1, 0, 2, 0, 2, 1, 0, 0, 2, 0, 2, 2, 0, 2, 2, 2, 2, 1, 0, 0, 0, 1, 0, 1, 0, 2, 1, 0, 0, 2, 2, 2, 0, 2, 1, 0, 2, 0, 1, 0, 2, 0, 2, 0, 1, 0, 1, 0, 1, 2, 0, 0, 2, 1, 0, 1, 2, 2, 0, 1, 2, 1, 0, 0, 2, 1, 2, 0, 1, 0, 1, 2, 2, 1, 0, 0, 2, 2, 0, 1, 1, 1, 0, 2, 0, 2, 1, 2, 1, 0, 0, 2, 1, 2, 1, 0, 0, 1, 2, 2, 2, 0, 1, 2, 0, 1, 0, 1, 2, 0, 2, 2, 2, 0, 0, 0, 1, 0, 1, 2, 0, 2, 2, 0, 1, 2, 0, 2, 1, 2, 0, 2, 0, 2, 1, 0, 2, 1, 1, 2, 0, 0, 1, 2, 0, 1, 2, 2, 1, 1, 0, 1, 0, 0, 1, 0, 1, 2, 0, 2, 1, 0, 1, 2, 2, 1, 0, 0, 1, 2, 2, 1, 0, 0, 2, 2, 2, 1, 0, 2, 1, 0, 2, 2, 0, 0, 2, 1, 0, 1, 1, 2, 0, 2, 0, 0, 0, 2, 1, 0, 2, 0, 1, 2, 1, 0, 2, 0, 2, 0, 2, 1, 0, 2, 2, 0, 2, 2, 1, 2, 0, 2, 1, 0, 0, 2, 2, 1, 0, 0, 0, 0, 1, 0, 1, 2, 0, 0, 0, 2, 0, 2, 2, 0, 1, 2, 1, 0, 0, 1, 0, 1, 1, 0, 0, 1, 2, 1, 0, 1, 2, 1, 0, 1, 2, 0, 2, 2, 0, 1, 2, 0, 0, 0, 1, 2, 1, 0, 2, 2, 0, 0, 2, 1, 2, 1, 0, 0, 2, 1, 0, 2, 1, 0, 0, 1, 2, 1, 2, 0, 2, 1, 0, 2, 0, 2, 2, 0, 1, 2, 1, 0, 2, 1, 0, 0, 2, 1, 1, 2, 0, 2, 0, 0, 1, 2, 0, 1, 2, 0, 0, 1, 2, 0, 2, 1, 0, 2, 2, 2, 1, 0, 2, 0, 2, 2, 0, 0, 2, 0, 1, 0, 0, 0, 1, 2, 0, 2, 0, 0, 1, 2, 0, 1, 0, 2, 1, 0, 2, 0, 2, 1, 2, 1, 0, 1, 0, 2, 2, 0, 1, 0, 0, 2, 1, 0, 2, 1, 1, 0, 2, 2, 0, 0, 1, 1, 2, 0, 0, 1, 2, 1, 2, 0, 1, 0, 2, 2, 2, 2, 1, 2, 0, 2, 0, 1, 1, 1, 0, 0, 2, 1, 1, 0, 1, 0, 1, 2, 0, 0, 1, 2, 0, 1, 0, 2, 0, 2, 1, 0, 1, 2, 2, 0, 1, 2, 2, 0, 1, 2, 0, 1, 2, 0, 2, 1, 2, 0, 2, 1, 2, 0, 2, 2, 0, 1, 1, 0, 0, 1, 2, 0, 1, 0, 1, 1, 1, 2, 0, 2, 1, 0, 2, 1, 1, 2, 0, 2, 0, 1, 1, 0, 1, 1, 2, 0, 2, 1, 1, 1, 2, 0, 1, 0, 0, 0, 1, 1, 1, 2, 2, 0, 0, 2, 0, 1, 2, 0, 0, 1, 0, 0, 1, 2, 1, 2, 0, 2, 1, 1, 0, 2, 0, 1, 2, 1, 2, 1, 2, 1, 0, 0, 0, 1, 2, 2, 0, 0, 2, 2, 1, 0, 2, 0, 2, 1, 0, 1, 2, 1, 0, 2, 2, 0, 0, 1, 0, 1, 2, 1, 0, 1, 1, 0, 2, 0, 1, 2, 1, 0, 1, 0, 2, 1, 2, 0, 2, 2, 1, 1, 0, 2, 0, 1, 2, 2, 1, 0, 0, 2, 2, 1, 2, 2, 2, 2, 2, 0, 1, 0, 1, 1, 0, 1, 2, 0, 1, 0, 2, 1, 0, 2, 2, 2, 2, 1, 1, 0, 1, 0, 2, 1, 2, 0, 1, 1, 1, 2, 1, 0, 0, 1, 1, 1, 1, 0, 0, 2, 1, 0, 0, 1, 2, 1, 0, 1, 1, 0, 0, 2, 2, 0, 2, 2, 0, 1, 2, 0, 2, 2, 0, 2, 1, 1, 0, 0, 1, 2, 2, 1, 0, 1, 0, 1, 1, 0, 2, 2, 0, 1, 1, 0, 1, 0, 2, 2, 0, 2, 2, 0, 1, 0, 1, 2, 1, 1, 2, 2, 1, 0, 1, 0, 0, 0, 1, 2, 2, 0, 1, 0, 2, 1, 1, 2, 0, 2, 1, 0, 0, 2, 1, 0, 1, 0, 2, 1, 0, 2, 1, 0, 0, 0, 1, 1, 2, 0, 1, 0, 0, 0, 1, 1, 0, 1, 1, 2, 0, 1, 1, 2, 0, 0, 1, 2, 1, 0, 0, 2, 0, 0, 1, 0, 2, 2, 1, 0, 2, 2, 2, 1, 2, 0, 2, 0, 1, 0, 0, 2, 0, 2, 1, 0, 1, 2, 0, 1, 2, 2, 1, 0, 0, 2, 1, 0, 2, 2, 0, 2, 0, 2, 2, 2, 1, 0, 0, 1, 1, 1, 1, 2, 0, 2, 1, 0, 2, 1, 2, 0, 1, 0, 1, 2, 2, 1, 0, 2, 1, 0, 1, 0, 2, 1, 0, 2, 2, 1, 1, 0, 0, 0, 2, 2, 0, 2, 0, 2, 2, 2, 1, 0, 1, 2, 0, 1, 2, 0, 1, 1, 0, 0, 2, 1, 0, 2, 2, 2, 1, 1, 2, 2, 0, 0, 0, 1, 2, 0, 0, 2, 1, 0, 2, 2, 1, 0, 2, 1, 1, 0, 2, 0, 2, 1, 2, 0, 1, 0, 2, 2, 1, 0, 2, 1, 1, 2, 2, 0, 0, 1, 2, 1, 2, 0, 0, 2, 1, 0, 0, 0, 0, 1, 2, 2, 1, 2, 0, 1, 2, 2, 1, 0, 2, 2, 2, 0, 1, 2, 2, 2, 0, 1, 1, 2, 2, 0, 2, 0, 2, 1, 2, 1, 2, 1, 2, 2, 0, 2, 1, 0, 1, 2, 0, 1, 2, 0, 2, 2, 1, 2, 2, 1, 2, 0, 0, 2, 1, 0, 1, 2, 0, 2, 0, 0, 1, 2, 2, 0, 1, 1, 2, 2, 0, 1, 2, 2, 2, 0, 2, 0, 1, 0, 0, 2, 2, 0, 1, 2, 1, 0, 0, 1, 2, 1, 0, 2, 0, 1, 0, 1, 0, 2, 1, 0, 0, 1, 2, 2, 0, 1, 1, 1, 2, 1, 2, 0, 2, 1, 1, 0, 0, 0, 2, 1, 0, 1, 2, 0, 1, 2, 1, 1, 0, 0, 0, 1, 2, 0, 1, 2, 1, 2, 0, 1, 1, 2, 1, 0, 1, 2, 0, 2, 1, 2, 0, 1, 1, 1, 0, 1, 0, 1, 1, 0, 1, 2, 0, 2, 1, 1, 0, 0, 2, 0, 0, 1, 2, 0, 1, 2, 2, 0, 1, 2, 1, 0, 1, 0, 2, 2, 0, 1, 0, 1, 2, 1, 2, 0, 0, 2, 1, 1, 1, 0, 2, 2, 0, 2, 1, 0, 0, 2, 2, 0, 1, 2, 1, 0, 2, 0, 1, 0, 1, 0, 2, 1, 0, 1, 0, 2, 2, 0, 1, 0, 2, 1, 2, 0, 1, 0, 1, 2, 0, 2, 1, 0, 1, 2, 0, 2, 1, 0, 0, 2, 1, 0, 2, 1, 0, 1, 2, 1, 0, 1, 0, 2, 0, 2, 1, 1, 2, 0, 1, 0, 2, 0, 2, 1, 0, 1, 1, 0, 1, 1, 0, 1, 1, 1, 2, 0, 0, 2, 1, 0, 1, 2, 0, 1, 2, 1, 0, 2, 2, 1, 2, 2, 0, 0, 0, 1, 0, 2, 1, 2, 1, 0, 0, 1, 1, 1, 0, 1, 1, 1, 2, 2, 1, 0, 0, 0, 1, 0, 2, 1, 2, 0, 2, 2, 0, 2, 0, 2, 2, 2, 1, 0, 0, 0, 1, 1, 2, 0, 1, 1, 1, 2, 1, 2, 0, 2, 1, 0, 2, 1, 0, 1, 0, 0, 1, 0, 0, 1, 0, 1, 1, 0, 2, 1, 0, 2, 1, 0, 2, 2, 2, 2, 0, 1, 2, 1, 0, 1, 0, 0, 2, 1, 0, 2, 1, 2, 1, 0, 2, 1, 0, 1, 0, 2, 0, 2, 2, 0, 2, 1, 0, 2, 1, 0, 2, 1, 2, 2, 2, 1, 2, 0, 1, 1, 0, 2, 0, 2, 0, 0, 0, 2, 2, 0, 2, 1, 0, 0, 2, 0, 2, 1, 1, 2, 0, 1, 0, 0, 2, 1, 0, 2, 0, 1, 2, 1, 0, 0, 2, 0, 2, 0, 1, 2, 0, 1, 2, 1, 0, 1, 0, 2, 0, 2, 1, 1, 2, 0, 1, 0, 0, 1, 2, 0, 1, 2, 0, 0, 2, 1, 1, 2, 2, 0, 1, 2, 0, 2, 1, 1, 0, 0, 0, 2, 2, 0, 0, 2, 0, 2, 0, 0, 2, 2, 2, 1, 0, 1, 2, 2, 2, 2, 0, 2, 1, 0, 0, 1, 2, 0, 1, 2, 2, 0, 1, 1, 2, 0, 0, 2, 1, 1, 0, 2, 0, 2, 1, 0, 2, 1, 1, 2, 2, 2, 1, 0, 1, 0, 2, 1, 1, 2, 2, 0, 1, 2, 0, 1, 1, 1, 0, 1, 2, 0, 0, 2, 1, 0, 1, 2, 0, 2, 1, 2, 0, 1, 1, 2, 0, 0, 0, 0, 0, 1, 2, 1, 0, 0, 2, 1, 0, 0, 1, 2, 2, 0, 1, 1, 2, 0, 2, 1, 0, 1, 1, 2, 0, 2, 2, 2, 2, 0, 0, 2, 1, 0, 2, 1, 1, 2, 0, 1, 0, 2, 0, 2, 1, 0, 2, 1, 0, 2, 1, 2, 1, 0, 1, 2, 0, 2, 2, 1, 2, 0, 1, 1, 2, 0, 1, 2, 0, 2, 2, 2, 1, 0, 2, 1, 0, 0, 1, 2, 1, 0, 2, 2, 0, 1, 0, 2, 2, 2, 2, 0, 1, 2, 2, 2, 2, 0, 2, 0, 0, 2, 2, 0, 2, 1, 2, 0, 1, 2, 2, 0, 2, 0, 2, 1, 2, 1, 2, 0, 1, 2, 0, 1, 2, 2, 0, 1, 0, 1, 2, 0, 2, 1, 0, 2, 1, 0, 2, 1, 1, 0, 2, 0, 1, 2, 0, 2, 1, 1, 2, 0, 1, 0, 2, 0, 2, 2, 2, 0, 1, 2, 0, 1, 0, 1, 1, 0, 1, 0, 1, 0, 0, 0, 2, 1, 2, 0, 2, 1, 2, 0, 1, 2, 0, 1, 0, 2, 1, 0, 2, 2, 0, 1, 2, 0, 1, 2, 0, 1, 0, 0, 2, 2, 0, 1, 0, 1, 2, 2, 1, 0, 1, 1, 0, 0, 2, 2, 2, 0, 0, 1, 0, 2, 1, 2, 2, 0, 2, 1, 2, 1, 0, 1, 0, 0, 2, 0, 1, 2, 0, 1, 2, 1, 2, 0, 2, 1, 1, 0, 2, 0, 1, 2, 0, 0, 0, 0, 1, 2, 0, 1, 1, 0, 1, 2, 0, 0, 0, 2, 2, 0, 1, 2, 1, 0, 2, 2, 1, 0, 1, 0, 2, 0, 1, 2, 1, 0, 2, 0, 2, 1, 2, 1, 0, 2, 1, 0, 2, 1, 0, 1, 0, 0, 0, 2, 1, 2, 1, 2, 1, 1, 2, 1, 0, 2, 0, 1, 2, 1, 0, 2, 2, 0, 1, 0, 2, 2, 2, 2, 0, 0, 1, 2, 1, 0, 2, 0, 1, 2, 0, 2, 1, 1, 1, 0, 2, 1, 0, 0, 1, 0, 2, 2, 0, 2, 1, 0, 0, 1, 2, 0, 1, 2, 1, 0, 2, 1, 2, 2, 2, 0, 1, 2, 0, 1, 2, 0, 1, 0, 2, 2, 0, 1, 2, 1, 0, 1, 0, 2, 1, 0, 1, 2, 1, 2, 0, 0, 1, 2, 1, 2, 0, 0, 1, 2, 2, 0, 1, 2, 0, 2, 2, 1, 0, 1, 0, 2, 0, 2, 1, 0, 1, 1, 0, 1, 1, 2, 0, 1, 0, 1, 2, 2, 0, 2, 2, 1, 2, 1, 0, 2, 1, 2, 0, 1, 0, 1, 1, 0, 2, 2, 1, 0, 0, 1, 0, 1, 0, 0, 1, 1, 1, 0, 1, 0, 1, 1, 1, 1, 0, 1, 0, 2, 2, 0, 1, 0, 1, 2, 0, 1, 2, 1, 2, 0, 2, 2, 1, 0, 1, 2, 0, 1, 1, 1, 0, 2, 1, 2, 0, 2, 0, 1, 0, 1, 2, 2, 0, 0, 2, 2, 0, 2, 2, 2, 2, 2, 0, 0, 0, 0, 0, 1, 2, 0, 2, 1, 2, 0, 1, 2, 1, 0, 2, 0, 1, 2, 1, 0, 2, 1, 1, 0, 2, 1, 0, 2, 1, 2, 0, 2, 0, 0, 2, 1, 0, 2, 2, 0, 0, 1, 2, 0, 0, 1, 1, 2, 0, 2, 0, 0, 1, 0, 2, 1, 1, 2, 0, 0, 0, 0, 2, 0, 1, 0, 1, 0, 0, 1, 2, 1, 2, 1, 0, 2, 0, 0, 2, 1, 2, 0, 1, 0, 0, 1, 1, 0, 0, 1, 2, 0, 2, 1, 0, 1, 2, 0, 2, 1, 0, 1, 1, 0, 1, 1, 0, 0, 0, 2, 2, 1, 0, 1, 0, 2, 1, 0, 2, 1, 1, 2, 0, 2, 0, 2, 2, 0, 1, 0, 1, 1, 2, 1, 0, 0, 2, 1, 2, 1, 2, 0, 2, 1, 2, 1, 2, 0, 0, 1, 0, 2, 2, 1, 2, 0, 2, 0, 2, 2, 1, 2, 2, 0, 1, 2, 2, 2, 0, 1, 2, 1, 0, 0, 1, 2, 0, 2, 1, 1, 2, 0, 2, 2, 1, 2, 1, 0, 2, 0, 1, 0, 2, 1, 0, 1, 2, 1, 2, 0, 0, 1, 1, 2, 1, 0, 2, 1, 0, 0, 2, 1, 2, 1, 2, 2, 0, 1, 2, 0, 1, 2, 0, 2, 1, 2, 0, 0, 2, 1, 0, 2, 2, 1, 2, 0, 2, 2, 1, 0, 2, 0, 2, 0, 1, 0, 2, 0, 1, 1, 0, 2, 0, 2, 1, 2, 1, 0, 0, 1, 2, 0, 2, 1, 1, 0, 2, 2, 0, 1, 1, 0, 2, 1, 2, 0, 0, 1, 1, 1, 2, 0, 2, 0, 0, 2, 0, 1, 2, 1, 0, 1, 0, 1, 2, 0, 0, 0, 1, 0, 2, 1, 0, 1, 2, 2, 0, 2, 1, 2, 0, 0, 1, 2, 2, 0, 1, 1, 0, 0, 1, 0, 2, 0, 2, 1, 2, 1, 2, 0, 1, 2, 1, 1, 0, 2, 2, 1, 2, 0, 2, 2, 0, 1, 2, 1, 0, 2, 0, 1, 2, 1, 0, 1, 0, 2, 0, 2, 1, 0, 1, 2, 2, 0, 1, 0, 2, 1, 2, 0, 1, 2, 1, 0, 2, 0, 1, 0, 2, 1, 2, 2, 0, 0, 2, 1, 0, 1, 2, 1, 2, 0, 0, 0, 0, 0, 0, 0, 2, 1, 0, 0, 2, 1, 2, 2, 0, 0, 2, 1, 2, 2, 2, 1, 2, 0, 0, 2, 1, 2, 2, 2, 2, 0, 2, 1, 1, 2, 2, 1, 0, 0, 2, 2, 0, 2, 0, 2, 0, 0, 0, 2, 1, 2, 1, 0, 0, 1, 2, 1, 2, 2, 0, 2, 2, 2, 0, 0, 1, 2, 0, 0, 2, 0, 0, 1, 2, 0, 2, 1, 2, 1, 0, 0, 1, 2, 0, 1, 1, 2, 1, 0, 2, 2, 0, 2, 1, 0, 0, 2, 2, 2, 2, 2, 2, 0, 0, 2, 2, 0, 2, 1, 1, 2, 0, 2, 0, 1, 0, 2, 1, 2, 1, 0, 0, 2, 1, 0, 1, 2, 2, 0, 1, 0, 2, 1, 1, 2, 0, 1, 0, 2, 0, 1, 2, 1, 0, 2, 1, 2, 0, 0, 0, 0, 1, 2, 0, 2, 0, 2, 0, 1, 1, 0, 2, 1, 0, 0, 2, 0, 1, 1, 2, 0, 2, 1, 0, 0, 2, 2, 1, 0, 1, 0, 2, 1, 2, 0, 1, 0, 2, 0, 2, 1, 2, 1, 0, 2, 0, 1, 0, 1, 0, 1, 0, 2, 2, 1, 1, 1, 2, 0, 0, 0, 1, 1, 0, 2, 1, 0, 2, 2, 0, 1, 2, 0, 1, 0, 1, 2, 1, 2, 0, 2, 0, 1, 2, 1, 1, 1, 0, 2, 1, 2, 0, 0, 1, 2, 0, 1, 0, 2, 2, 2, 2, 0, 2, 2, 0, 2, 0, 2, 1, 1, 2, 0, 0, 0, 2, 0, 1, 2, 0, 1, 0, 2, 1, 2, 1, 0, 1, 2, 2, 0, 2, 1, 0, 0, 2, 1, 1, 2, 0, 0, 0, 2, 1, 0, 1, 2, 0, 2, 0, 1, 2, 0, 0, 1, 0, 0, 0, 2, 1, 1, 2, 0, 1, 1, 2, 1, 0, 2, 0, 2, 1, 1, 0, 2, 1, 2, 2, 1, 1, 2, 1, 0, 2, 1, 0, 2, 1, 0, 1, 1, 0, 0, 1, 2, 1, 0, 2, 0, 1, 2, 0, 2, 1, 0, 1, 0, 2, 2, 2, 0, 1, 1, 2, 0, 0, 2, 2, 1, 0, 1, 2, 2, 0, 2, 0, 1, 1, 2, 0, 0, 1, 0, 2, 0, 0, 2, 0, 1, 2, 1, 0, 1, 0, 1, 0, 2, 1, 1, 0, 2, 1, 0, 0, 1, 0, 2, 2, 2, 0, 1, 2, 0, 1, 0, 2, 2, 2, 2, 0, 2, 1, 2, 1, 0, 2, 1, 0, 0, 0, 2, 0, 1, 2, 1, 0, 2, 2, 1, 0, 2, 0, 0, 2, 0, 2, 2, 0, 1, 2, 0, 2, 1, 0, 2, 1, 0, 0, 2, 2, 1, 0, 2, 0, 2, 1, 1, 0, 2, 2, 1, 2, 1, 0, 0, 2, 2, 2, 1, 0, 2, 1, 0, 0, 2, 1, 0, 2, 1, 2, 0, 2, 2, 1, 0, 0, 2, 2, 0, 1, 2, 1, 2, 0, 2, 0, 2, 2, 1, 0, 2, 2, 2, 0, 2, 1, 2, 0, 1, 0, 2, 1, 0, 2, 1, 2, 1, 0, 2, 0, 2, 2, 1, 0, 1, 2, 0, 2, 2, 1, 0, 1, 2, 2, 1, 0, 2, 2, 1, 2, 0, 2, 0, 0, 1, 2, 1, 0, 0, 0, 1, 0, 2, 1, 0, 1, 0, 0, 1, 2, 0, 1, 0, 0, 2, 0, 0, 2, 1, 2, 0, 1, 1, 0, 2, 2, 0, 2, 0, 2, 1, 2, 0, 2, 1, 0, 2, 2, 0, 2, 1, 2, 0, 0, 2, 1, 0, 0, 0, 2, 0, 0, 2, 0, 2, 2, 2, 2, 2, 0, 2, 2, 2, 0, 2, 1, 0, 2, 0, 1, 1, 2, 0, 2, 1, 0, 0, 0, 1, 0, 1, 2, 0, 1, 2, 1, 0, 2, 1, 0, 2, 1, 0, 2, 0, 2, 1, 2, 1, 0, 2, 1, 0, 2, 1, 0, 2, 1, 2, 2, 2, 1, 2, 2, 0, 2, 0, 1, 0, 1, 0, 1, 0, 2, 0, 2, 1, 0, 2, 2, 1, 0, 2, 2, 0, 1, 2, 2, 1, 0, 2, 1, 1, 1, 1, 1, 0, 0, 0, 2, 2, 0, 0, 0, 0, 0, 0, 1, 2, 0, 1, 2, 1, 0, 2, 1, 0, 1, 1, 2, 0, 0, 0, 1, 2, 0, 0, 1, 2, 0, 1, 2, 0, 0, 2, 1, 0, 0, 1, 0, 0, 0, 0, 0, 1, 0, 1, 2, 0, 1, 1, 1, 0, 2, 1, 2, 0, 0, 1, 2, 2, 2, 2, 0, 1, 2, 1, 0, 2, 0, 2, 2, 0, 0, 1, 1, 2, 0, 0, 1, 2, 0, 1, 2, 2, 1, 0, 2, 2, 0, 2, 2, 0, 0, 2, 2, 0, 1, 2, 1, 0, 0, 0, 1, 0, 2, 1, 1, 1, 0, 1, 0, 2, 0, 1, 2, 2, 0, 2, 0, 2, 1, 0, 2, 2, 1, 2, 2, 0, 0, 2, 2, 0, 1, 1, 2, 0, 1, 0, 2, 1, 2, 0, 0, 2, 2, 0, 2, 0, 2, 2, 0, 0, 1, 2, 0, 1, 2, 2, 1, 0, 0, 0, 1, 0, 1, 2, 0, 2, 1, 2, 0, 1, 0, 2, 0, 2, 1, 0, 0, 2, 1, 1, 0, 2, 2, 0, 1, 0, 1, 0, 1, 0, 0, 1, 1, 2, 1, 0, 1, 2, 2, 2, 1, 0, 0, 1, 2, 2, 0, 0, 2, 2, 2, 2, 0, 1, 0, 1, 2, 1, 0, 2, 2, 0, 1, 2, 1, 0, 0, 1, 2, 0, 2, 2, 2, 0, 1, 2, 0, 1, 1, 0, 2, 2, 2, 2, 0, 1, 2, 0, 1, 2, 2, 0, 1, 0, 0, 2, 2, 1, 0, 2, 1, 2, 1, 2, 0, 2, 2, 2, 1, 2, 0, 2, 2, 0, 1, 2, 0, 0, 0, 1, 0, 1, 0, 0, 2, 1, 0, 1, 2, 0, 2, 2, 0, 2, 2, 0, 2, 1, 2, 0, 1, 0, 2, 1, 2, 2, 0, 0, 1, 2, 0, 1, 2, 2, 1, 2, 0, 1, 2, 1, 2, 0, 0, 1, 2, 0, 1, 2, 1, 1, 0, 2, 1, 2, 2, 0, 1, 2, 2, 0, 2, 0, 1, 0, 1, 2, 1, 2, 0, 2, 1, 0, 1, 2, 0, 0, 1, 2, 0, 2, 1, 1, 0, 1, 2, 2, 1, 0, 1, 2, 2, 2, 0, 2, 0, 0, 2, 2, 0, 2, 2, 0, 1, 2, 0, 0, 2, 1, 0, 2, 2, 1, 2, 0, 0, 1, 0, 1, 2, 0, 2, 2, 2, 1, 1, 0, 0, 1, 2, 1, 2, 2, 1, 2, 0, 0, 1, 2, 1, 2, 1, 2, 1, 0, 0, 2, 1, 2, 2, 0, 2, 1, 0, 0, 0, 2, 2, 1, 0, 2, 1, 0, 0, 2, 1, 1, 2, 0, 2, 1, 0, 2, 0, 1, 0, 2, 1, 0, 2, 2, 1, 0, 2, 0, 1, 2, 1, 0, 0, 0, 1, 0, 2, 0, 2, 2, 2, 1, 2, 0, 1, 0, 2, 0, 2, 1, 2, 1, 0, 1, 0, 1, 0, 2, 1, 0, 2, 0, 2, 0, 1, 0, 2, 2, 2, 0, 0, 1, 0, 0, 0, 2, 1, 1, 2, 0, 2, 2, 0, 2, 0, 1, 1, 2, 0, 2, 2, 0, 0, 2, 1, 0, 2, 1, 2, 0, 1, 2, 0, 1, 1, 0, 2, 0, 1, 2, 2, 1, 2, 0, 2, 1, 1, 2, 0, 1, 2, 0, 1, 0, 2, 0, 2, 2, 2, 2, 0, 2, 0, 1, 2, 0, 2, 0, 1, 1, 2, 2, 0, 2, 1, 0, 0, 1, 2, 0, 2, 1, 2, 0, 1, 0, 1, 2, 2, 1, 0, 0, 2, 1, 2, 1, 2, 2, 1, 2, 0, 1, 2, 2, 0, 2, 2, 2, 0, 2, 1, 0, 2, 0, 1, 0, 2, 2, 0, 0, 2, 0, 2, 1, 0, 2, 1, 1, 2, 0, 0, 2, 2, 2, 0, 2, 2, 0, 1, 1, 0, 2, 0, 2, 1, 0, 2, 1, 1, 2, 0, 1, 2, 0, 0, 1, 2, 2, 0, 1, 1, 0, 0, 2, 1, 0, 2, 0, 2, 2, 0, 0, 0, 2, 2, 0, 1, 2, 2, 0, 1, 2, 0, 1, 1, 2, 0, 2, 0, 1, 0, 1, 2, 2, 1, 0, 1, 0, 2, 2, 1, 2, 1, 0, 2, 1, 0, 2, 2, 2, 1, 0, 1, 2, 1, 2, 2, 1, 1, 1, 2, 0, 1, 2, 0, 2, 0, 1, 0, 0, 0, 1, 1, 0, 2, 0, 1, 2, 0, 1, 1, 0, 2, 2, 1, 0, 0, 2, 0, 2, 1, 0, 2, 0, 1, 2, 0, 2, 2, 1, 0, 2, 2, 0, 1, 2, 2, 2, 0, 2, 1, 1, 0, 0, 2, 1, 0, 1, 1, 1, 0, 0, 0, 1, 0, 2, 1, 2, 0, 2, 2, 1, 0, 0, 0, 1, 2, 1, 2, 0, 0, 2, 2, 0, 0, 1, 2, 0, 2, 0, 1, 1, 0, 2, 1, 0, 1, 2, 0, 2, 1, 0, 1, 1, 1, 0, 1, 0, 2, 1, 2, 0, 2, 2, 1, 1, 0, 0, 2, 2, 0, 0, 0, 1, 1, 2, 0, 2, 0, 2, 0, 0, 1, 0, 2, 2, 1, 1, 2, 0, 0, 1, 2, 0, 2, 1, 0, 1, 0, 1, 0, 2, 2, 0, 0, 0, 2, 0, 1, 2, 0, 1, 0, 2, 2, 1, 0, 2, 2, 0, 2, 1, 0, 1, 0, 2, 2, 2, 0, 2, 1, 0, 1, 2, 0, 0, 0, 1, 0, 0, 1, 2, 1, 0, 1, 0, 2, 2, 0, 1, 0, 1, 2, 0, 2, 2, 1, 0, 2, 2, 1, 0, 0, 2, 1, 0, 1, 2, 2, 0, 2, 0, 2, 1, 0, 2, 1, 2, 0, 0, 2, 2, 0, 1, 1, 0, 1, 1, 0, 0, 1, 1, 0, 1, 0, 1, 1, 2, 2, 1, 0, 1, 2, 0, 1, 0, 2, 1, 0, 1, 1, 0, 1, 2, 0, 2, 1, 0, 1, 0, 0, 2, 0, 1, 0, 1, 2, 0, 2, 1, 0, 0, 1, 2, 2, 0, 1, 0, 1, 0, 1, 0, 0, 1, 2, 0, 0, 1, 2, 1, 0, 2, 0, 1, 0, 2, 1, 2, 1, 0, 2, 1, 0, 0, 1, 2, 1, 1, 0, 2, 0, 1, 0, 1, 0, 1, 2, 0, 0, 0, 1, 0, 1, 1, 1, 0, 2, 0, 1, 1, 2, 1, 0, 0, 0, 1, 1, 2, 2, 1, 0, 1, 2, 0, 2, 0, 1, 2, 2, 0, 0, 2, 0, 2, 1, 0, 0, 1, 0, 1, 0, 0, 0, 1, 0, 0, 0, 1, 2, 2, 0, 1, 0, 2, 1, 0, 0, 1, 2, 0, 1, 0, 2, 0, 0, 1, 2, 2, 0, 2, 1, 1, 2, 1, 1, 0, 0, 0, 1, 2, 2, 1, 0, 2, 2, 0, 1, 1, 2, 1, 0, 0, 1, 2, 0, 0, 2, 2, 1, 1, 2, 0, 2, 0, 1, 2, 2, 1, 0, 1, 2, 2, 0, 1, 1, 0, 0, 2, 2, 2, 0, 2, 1, 0, 0, 1, 2, 1, 0, 2, 1, 0, 0, 2, 1, 2, 2, 0, 1, 1, 0, 2, 2, 0, 2, 1, 0, 1, 0, 1, 2, 2, 2, 0, 2, 0, 0, 2, 1, 1, 0, 2, 0, 2, 0, 2, 0, 2, 0, 0, 2, 0, 2, 1, 0, 2, 1, 0, 0, 0, 2, 0, 1, 2, 2, 2, 2, 1, 0, 2, 1, 2, 1, 0, 1, 0, 1, 2, 1, 0, 2, 1, 0, 2, 2, 0, 2, 0, 2, 2, 0, 1, 0, 0, 2, 2, 1, 2, 2, 2, 0, 2, 1, 1, 1, 2, 2, 2, 2, 2, 0, 2, 2, 0, 2, 2, 0, 2, 0, 1, 0, 2, 0, 2, 2, 1, 1, 0, 0, 1, 1, 0, 2, 0, 2, 1, 0, 1, 0, 1, 2, 2, 2, 1, 2, 0, 0, 2, 2, 2, 1, 2, 1, 0, 0, 0, 1, 2, 1, 0, 1, 1, 2, 1, 2, 1, 2, 1, 0, 2, 0, 1, 0, 0, 1, 1, 1, 2, 0, 0, 2, 1, 2, 0, 1, 0, 2, 1, 0, 0, 1, 0, 0, 1, 1, 0, 2, 1, 2, 0, 2, 1, 2, 1, 0, 2, 1, 0, 2, 0, 2, 1, 0, 0, 2, 0, 1, 1, 2, 2, 0, 1, 1, 0, 2, 0, 1, 2, 1, 0, 0, 2, 1, 1, 0, 2, 2, 2, 2, 0, 0, 1, 2, 0, 2, 0, 1, 1, 1, 0, 1, 0, 1, 2, 2, 1, 1, 1, 1, 0, 2, 0, 0, 0, 1, 1, 1, 0, 2, 2, 2, 0, 2, 1, 0, 1, 2, 0, 1, 0, 0, 1, 0, 1, 0, 2, 1, 0, 2, 1, 0, 1, 0, 1, 0, 2, 1, 0, 2, 1, 2, 0, 2, 1, 2, 0, 0, 2, 0, 2, 1, 1, 0, 2, 0, 1, 2, 0, 1, 2, 0, 2, 1, 0, 0, 2, 1, 1, 0, 2, 1, 2, 0, 1, 1, 2, 0, 1, 0, 2, 1, 0, 2, 2, 0, 1, 0, 1, 2, 2, 1, 0, 2, 2, 2, 2, 1, 1, 2, 2, 0, 1, 2, 1, 0, 0, 0, 1, 1, 0, 2, 2, 0, 1, 2, 2, 1, 0, 0, 1, 2, 2, 0, 0, 0, 2, 0, 0, 1, 2, 0, 1, 2, 0, 0, 0, 0, 2, 1, 2, 1, 0, 2, 2, 2, 2, 2, 0, 0, 1, 0, 1, 2, 1, 2, 0, 1, 0, 2, 0, 1, 0, 2, 0, 2, 1, 2, 1, 2, 1, 0, 1, 1, 0, 0, 1, 1, 0, 2, 0, 1, 1, 2, 2, 2, 1, 1, 0, 0, 1, 1, 1, 0, 1, 2, 0, 2, 1, 0, 2, 1, 2, 0, 0, 2, 2, 0, 2, 1, 2, 2, 1, 1, 2, 1, 0, 1, 0, 1, 0, 0, 1, 2, 1, 1, 0, 1, 2, 0, 1, 1, 0, 2, 0, 1]\n",
      "[0, 1, 2, 2, 1, 0, 0, 1, 2, 0, 1, 2, 0, 1, 2, 0, 2, 1, 0, 1, 2, 1, 0, 2, 2, 1, 0, 0, 2, 1, 2, 1, 0, 1, 2, 0, 0, 1, 2, 0, 2, 1, 0, 1, 2, 1, 2, 0, 1, 0, 2, 2, 1, 0, 1, 2, 0, 1, 2, 0, 2, 1, 0, 2, 1, 0, 0, 1, 2, 2, 1, 0, 0, 2, 1, 0, 1, 0, 2, 1, 1, 0, 2, 1, 2, 0, 0, 2, 1, 2, 1, 0, 2, 1, 0, 2, 0, 1, 0, 2, 1, 1, 0, 2, 2, 1, 0, 2, 1, 0, 2, 0, 1, 0, 1, 2, 2, 0, 1, 0, 1, 2, 1, 2, 0, 0, 2, 1, 0, 1, 2, 2, 0, 1, 2, 1, 0, 0, 2, 1, 0, 2, 1, 0, 1, 2, 2, 1, 0, 0, 2, 1, 0, 2, 1, 1, 0, 2, 0, 2, 1, 2, 1, 0, 0, 2, 1, 2, 1, 0, 0, 1, 2, 1, 2, 0, 1, 2, 0, 1, 0, 2, 1, 0, 2, 2, 1, 0, 0, 2, 1, 0, 1, 2, 0, 2, 1, 0, 1, 2, 0, 2, 1, 2, 0, 1, 0, 2, 1, 0, 2, 1, 1, 2, 0, 0, 1, 2, 0, 1, 2, 0, 1, 2, 0, 1, 2, 1, 0, 0, 1, 2, 0, 2, 1, 0, 1, 2, 2, 1, 0, 0, 1, 2, 2, 1, 0, 0, 2, 1, 1, 2, 0, 2, 1, 0, 1, 2, 0, 0, 2, 1, 0, 2, 1, 2, 0, 1, 1, 0, 2, 2, 1, 0, 2, 0, 1, 2, 1, 0, 2, 0, 1, 0, 2, 1, 0, 1, 2, 0, 1, 2, 1, 2, 0, 2, 1, 0, 0, 2, 1, 1, 0, 2, 0, 2, 1, 0, 1, 2, 0, 2, 1, 1, 0, 2, 2, 0, 1, 2, 1, 0, 2, 1, 0, 2, 1, 0, 0, 1, 2, 1, 0, 2, 2, 1, 0, 1, 2, 0, 1, 2, 0, 1, 2, 0, 0, 2, 1, 2, 1, 0, 0, 2, 1, 0, 2, 1, 2, 1, 2, 0, 2, 1, 0, 2, 1, 0, 0, 1, 2, 1, 2, 0, 2, 1, 0, 1, 0, 2, 2, 0, 1, 2, 1, 0, 2, 1, 0, 0, 2, 1, 1, 2, 0, 2, 0, 1, 1, 2, 0, 1, 2, 0, 0, 1, 2, 0, 2, 1, 0, 1, 2, 2, 1, 0, 2, 0, 1, 2, 0, 1, 2, 0, 1, 0, 1, 2, 1, 2, 0, 2, 1, 0, 1, 2, 0, 1, 0, 2, 1, 0, 2, 0, 2, 1, 2, 1, 0, 1, 0, 2, 2, 0, 1, 2, 0, 1, 1, 0, 2, 2, 1, 0, 2, 1, 0, 0, 1, 1, 2, 0, 0, 1, 2, 1, 2, 0, 1, 0, 2, 2, 1, 0, 1, 2, 0, 2, 0, 1, 1, 2, 0, 0, 2, 1, 2, 0, 1, 2, 1, 0, 2, 0, 1, 2, 0, 1, 0, 2, 1, 2, 1, 0, 1, 2, 2, 0, 1, 1, 2, 0, 1, 2, 0, 1, 2, 0, 0, 1, 2, 0, 2, 1, 1, 0, 2, 2, 0, 1, 1, 2, 0, 1, 2, 0, 2, 0, 1, 0, 1, 2, 0, 2, 1, 0, 2, 1, 1, 2, 0, 2, 0, 1, 2, 0, 1, 1, 2, 0, 2, 0, 1, 1, 2, 0, 1, 0, 2, 0, 1, 2, 1, 0, 2, 1, 0, 2, 0, 1, 2, 2, 1, 0, 1, 0, 2, 2, 1, 0, 0, 2, 1, 1, 0, 2, 2, 1, 0, 1, 0, 2, 2, 1, 0, 1, 2, 0, 1, 2, 0, 0, 1, 2, 1, 2, 0, 0, 2, 1, 0, 1, 2, 2, 1, 0, 1, 2, 0, 2, 0, 1, 2, 1, 0, 1, 2, 0, 1, 0, 2, 2, 1, 0, 1, 0, 2, 1, 2, 0, 0, 2, 1, 1, 0, 2, 0, 1, 2, 2, 1, 0, 0, 2, 1, 1, 0, 2, 0, 1, 2, 0, 1, 2, 1, 2, 0, 1, 2, 0, 1, 0, 2, 1, 0, 2, 1, 0, 2, 2, 1, 0, 1, 0, 2, 1, 2, 0, 2, 1, 0, 2, 1, 0, 0, 2, 1, 2, 1, 0, 0, 2, 1, 2, 0, 1, 2, 1, 0, 1, 0, 2, 0, 1, 2, 0, 2, 1, 0, 1, 2, 0, 2, 0, 1, 2, 2, 1, 0, 0, 1, 2, 2, 1, 0, 1, 0, 2, 1, 0, 2, 2, 0, 1, 2, 0, 1, 0, 2, 1, 0, 2, 2, 0, 1, 0, 1, 2, 2, 1, 0, 2, 1, 0, 1, 2, 0, 0, 1, 2, 2, 0, 1, 0, 2, 1, 1, 2, 0, 2, 1, 0, 0, 1, 2, 2, 1, 0, 2, 1, 0, 2, 1, 0, 2, 0, 1, 1, 2, 0, 1, 2, 0, 0, 1, 2, 0, 1, 2, 1, 0, 2, 1, 2, 0, 2, 1, 0, 1, 2, 0, 1, 2, 0, 1, 0, 2, 2, 1, 0, 2, 0, 1, 1, 2, 0, 2, 0, 1, 0, 1, 2, 0, 2, 1, 0, 1, 2, 0, 1, 2, 2, 1, 0, 0, 2, 1, 0, 1, 2, 1, 2, 0, 1, 2, 2, 1, 0, 0, 1, 2, 1, 2, 0, 0, 2, 1, 0, 2, 1, 2, 0, 1, 0, 1, 2, 2, 1, 0, 2, 1, 0, 1, 0, 2, 1, 2, 0, 2, 1, 0, 1, 2, 0, 1, 2, 0, 2, 0, 1, 2, 2, 1, 0, 1, 2, 0, 1, 2, 0, 2, 1, 0, 2, 1, 1, 0, 2, 2, 0, 1, 1, 0, 2, 0, 1, 2, 1, 2, 0, 0, 2, 1, 0, 1, 2, 1, 0, 2, 2, 1, 0, 2, 0, 1, 1, 2, 0, 1, 0, 2, 2, 1, 0, 2, 1, 0, 1, 2, 0, 0, 1, 2, 1, 2, 0, 0, 2, 1, 1, 2, 0, 0, 1, 2, 0, 1, 2, 0, 1, 2, 2, 1, 0, 1, 0, 2, 0, 1, 2, 1, 2, 0, 1, 0, 2, 1, 0, 2, 0, 2, 1, 0, 1, 2, 1, 2, 0, 0, 2, 1, 0, 1, 2, 0, 1, 2, 0, 2, 1, 1, 0, 2, 1, 2, 0, 0, 2, 1, 0, 1, 2, 0, 2, 1, 0, 1, 2, 2, 0, 1, 1, 2, 0, 0, 1, 2, 1, 2, 0, 2, 0, 1, 0, 1, 2, 2, 0, 1, 2, 1, 0, 0, 1, 2, 1, 0, 2, 2, 1, 0, 1, 2, 2, 1, 0, 0, 1, 2, 2, 0, 1, 0, 1, 2, 1, 2, 0, 2, 1, 1, 2, 0, 0, 2, 1, 0, 1, 2, 0, 1, 2, 2, 1, 0, 0, 2, 1, 2, 0, 1, 2, 1, 0, 0, 2, 1, 2, 1, 0, 1, 2, 0, 2, 1, 2, 0, 1, 2, 1, 0, 2, 0, 1, 1, 0, 2, 1, 0, 2, 2, 1, 0, 1, 2, 0, 0, 1, 2, 0, 1, 2, 1, 0, 2, 2, 1, 0, 1, 0, 2, 2, 0, 1, 0, 1, 2, 1, 2, 0, 1, 2, 0, 1, 2, 0, 1, 2, 0, 2, 1, 0, 0, 2, 2, 0, 1, 2, 1, 0, 2, 0, 1, 0, 1, 2, 2, 1, 0, 1, 0, 2, 2, 0, 1, 0, 2, 1, 2, 0, 1, 0, 1, 2, 0, 2, 1, 0, 1, 2, 0, 2, 1, 0, 1, 2, 1, 0, 2, 2, 0, 1, 2, 1, 0, 1, 0, 2, 0, 2, 1, 1, 2, 0, 1, 0, 2, 0, 2, 1, 0, 1, 2, 0, 1, 2, 0, 1, 2, 1, 2, 0, 0, 2, 1, 0, 1, 2, 0, 1, 2, 1, 0, 2, 2, 1, 2, 1, 0, 0, 2, 1, 0, 2, 1, 0, 1, 2, 0, 1, 2, 0, 2, 1, 1, 2, 0, 2, 1, 0, 2, 0, 1, 0, 2, 1, 1, 0, 2, 1, 0, 2, 0, 2, 1, 2, 1, 0, 0, 2, 1, 1, 2, 0, 1, 0, 2, 0, 1, 2, 0, 2, 1, 0, 2, 1, 2, 1, 0, 0, 1, 2, 2, 1, 0, 1, 2, 0, 2, 1, 0, 2, 1, 0, 0, 2, 1, 2, 0, 1, 2, 1, 0, 1, 0, 2, 2, 1, 0, 2, 1, 2, 1, 0, 2, 1, 0, 1, 0, 2, 0, 1, 2, 0, 2, 1, 0, 2, 1, 0, 2, 1, 0, 2, 1, 1, 2, 0, 2, 1, 0, 2, 0, 1, 0, 2, 0, 2, 1, 0, 2, 1, 0, 1, 2, 0, 2, 1, 1, 2, 0, 1, 2, 0, 2, 1, 0, 0, 2, 1, 2, 1, 0, 0, 2, 1, 2, 0, 1, 2, 0, 1, 2, 1, 0, 1, 0, 2, 0, 2, 1, 1, 2, 0, 1, 0, 2, 1, 2, 0, 1, 2, 0, 0, 2, 1, 1, 2, 0, 0, 1, 2, 0, 2, 1, 1, 0, 2, 1, 0, 2, 0, 2, 1, 1, 2, 0, 0, 2, 1, 2, 1, 0, 1, 0, 2, 2, 1, 0, 2, 1, 0, 0, 1, 2, 0, 1, 2, 2, 0, 1, 1, 2, 0, 0, 2, 1, 1, 0, 2, 0, 2, 1, 0, 2, 1, 1, 2, 0, 2, 1, 0, 1, 0, 2, 1, 0, 2, 2, 0, 1, 2, 0, 1, 1, 2, 0, 1, 2, 0, 0, 2, 1, 0, 1, 2, 0, 2, 1, 2, 0, 1, 1, 2, 0, 2, 0, 1, 0, 1, 2, 1, 0, 2, 2, 1, 0, 0, 1, 2, 2, 0, 1, 1, 2, 0, 2, 1, 0, 0, 1, 2, 0, 2, 1, 2, 1, 0, 0, 2, 1, 0, 2, 1, 1, 2, 0, 1, 0, 2, 0, 2, 1, 0, 2, 1, 0, 2, 1, 2, 1, 0, 1, 2, 0, 2, 0, 1, 2, 0, 1, 1, 2, 0, 1, 2, 0, 1, 2, 2, 1, 0, 2, 1, 0, 1, 0, 2, 1, 0, 2, 2, 0, 1, 0, 1, 2, 2, 1, 0, 1, 2, 2, 1, 0, 0, 2, 0, 1, 2, 2, 0, 1, 1, 2, 0, 1, 2, 2, 0, 1, 0, 2, 1, 0, 1, 2, 0, 1, 2, 0, 1, 2, 2, 0, 1, 0, 1, 2, 0, 2, 1, 0, 2, 1, 0, 2, 1, 1, 0, 2, 0, 1, 2, 0, 2, 1, 1, 2, 0, 1, 0, 2, 0, 1, 2, 2, 0, 1, 2, 0, 1, 0, 2, 1, 2, 1, 0, 1, 0, 2, 0, 1, 0, 2, 0, 2, 1, 2, 0, 1, 0, 2, 1, 0, 2, 1, 0, 1, 2, 0, 1, 2, 0, 1, 2, 0, 1, 0, 1, 2, 2, 0, 1, 0, 2, 1, 2, 1, 0, 2, 1, 0, 0, 2, 1, 1, 2, 0, 1, 0, 2, 1, 0, 2, 0, 2, 1, 2, 1, 0, 1, 2, 0, 2, 0, 1, 0, 2, 1, 0, 1, 2, 0, 2, 1, 1, 0, 2, 0, 1, 2, 2, 1, 0, 0, 1, 2, 0, 2, 1, 0, 1, 2, 1, 0, 0, 2, 1, 0, 1, 2, 1, 0, 2, 2, 1, 0, 1, 0, 2, 0, 1, 2, 1, 0, 2, 0, 2, 1, 2, 1, 0, 2, 1, 0, 2, 1, 0, 2, 0, 1, 0, 2, 1, 0, 1, 2, 2, 1, 0, 1, 0, 2, 0, 1, 2, 1, 0, 2, 2, 0, 1, 0, 2, 1, 1, 2, 0, 0, 1, 2, 1, 0, 2, 0, 1, 2, 2, 0, 1, 2, 1, 0, 2, 1, 0, 0, 1, 2, 1, 2, 0, 2, 1, 0, 0, 1, 2, 0, 1, 2, 1, 0, 2, 1, 2, 0, 2, 0, 1, 2, 0, 1, 2, 0, 1, 0, 1, 2, 0, 1, 2, 2, 0, 1, 0, 2, 1, 0, 1, 2, 1, 2, 0, 0, 1, 2, 1, 2, 0, 2, 1, 0, 2, 0, 1, 1, 0, 2, 2, 1, 0, 1, 0, 2, 0, 2, 1, 0, 2, 1, 0, 2, 1, 2, 0, 1, 0, 1, 2, 2, 0, 1, 0, 1, 2, 2, 0, 1, 1, 2, 0, 2, 0, 0, 1, 2, 0, 2, 1, 0, 2, 1, 0, 1, 2, 0, 2, 1, 2, 0, 1, 0, 1, 2, 1, 2, 0, 1, 0, 2, 2, 0, 1, 0, 1, 2, 0, 1, 2, 2, 1, 0, 0, 2, 1, 0, 1, 2, 0, 1, 2, 1, 0, 2, 1, 2, 0, 2, 0, 1, 0, 1, 2, 2, 1, 0, 1, 2, 0, 1, 0, 2, 2, 1, 0, 0, 1, 2, 0, 1, 2, 0, 2, 1, 2, 0, 1, 2, 1, 0, 2, 0, 1, 2, 1, 0, 0, 1, 2, 0, 2, 1, 0, 2, 1, 2, 0, 1, 0, 1, 2, 1, 0, 2, 2, 1, 0, 1, 2, 0, 0, 1, 2, 1, 0, 2, 0, 2, 1, 0, 2, 1, 1, 2, 0, 0, 1, 2, 2, 0, 1, 0, 1, 0, 2, 1, 2, 1, 0, 1, 0, 2, 1, 0, 2, 1, 2, 0, 1, 0, 1, 2, 1, 2, 0, 1, 2, 0, 2, 1, 0, 1, 2, 0, 2, 1, 0, 1, 2, 0, 1, 2, 0, 0, 1, 2, 2, 1, 0, 1, 0, 2, 1, 0, 2, 1, 1, 2, 0, 2, 0, 1, 2, 0, 1, 0, 2, 1, 2, 1, 0, 0, 2, 1, 2, 1, 0, 0, 2, 1, 2, 1, 0, 2, 0, 1, 0, 2, 1, 1, 2, 0, 1, 0, 2, 2, 1, 0, 2, 0, 1, 0, 2, 2, 0, 1, 2, 1, 0, 0, 1, 2, 0, 2, 1, 1, 2, 0, 2, 0, 1, 2, 1, 0, 2, 0, 1, 0, 2, 1, 0, 1, 2, 1, 2, 0, 0, 2, 1, 2, 1, 0, 2, 1, 0, 0, 2, 1, 2, 1, 0, 2, 0, 1, 2, 0, 1, 2, 0, 1, 1, 2, 0, 0, 2, 1, 0, 1, 2, 1, 2, 0, 0, 1, 1, 0, 2, 0, 2, 0, 1, 2, 2, 0, 1, 1, 0, 2, 0, 2, 1, 2, 1, 0, 0, 1, 2, 0, 2, 1, 1, 0, 2, 2, 0, 1, 1, 0, 2, 1, 2, 0, 0, 1, 2, 1, 2, 0, 2, 0, 1, 2, 0, 1, 2, 1, 0, 2, 0, 1, 2, 0, 2, 0, 1, 0, 2, 1, 0, 1, 2, 2, 0, 1, 1, 2, 0, 0, 1, 2, 2, 0, 1, 2, 0, 1, 1, 0, 2, 0, 2, 1, 2, 1, 0, 0, 1, 2, 1, 2, 0, 0, 2, 1, 2, 0, 1, 2, 0, 1, 2, 1, 0, 2, 0, 1, 2, 1, 0, 1, 0, 2, 0, 2, 1, 0, 1, 2, 2, 0, 1, 0, 2, 1, 2, 0, 1, 2, 1, 0, 2, 0, 1, 0, 2, 1, 1, 2, 0, 0, 2, 1, 0, 1, 2, 1, 2, 0, 2, 1, 0, 2, 1, 0, 2, 1, 0, 0, 2, 1, 1, 2, 0, 0, 2, 1, 2, 1, 0, 1, 2, 0, 0, 2, 1, 2, 1, 0, 1, 0, 2, 0, 1, 2, 2, 1, 0, 0, 2, 1, 1, 2, 0, 2, 1, 0, 0, 2, 1, 2, 1, 0, 0, 1, 2, 0, 2, 1, 0, 1, 2, 2, 1, 0, 1, 2, 0, 0, 2, 1, 0, 1, 2, 0, 2, 1, 2, 1, 0, 0, 1, 2, 0, 2, 1, 2, 1, 0, 1, 2, 0, 2, 1, 0, 0, 2, 1, 2, 1, 0, 0, 2, 0, 1, 2, 0, 2, 1, 1, 2, 0, 2, 0, 1, 0, 2, 1, 2, 1, 0, 0, 2, 1, 0, 1, 2, 2, 0, 1, 0, 2, 1, 1, 2, 0, 1, 0, 2, 0, 1, 2, 1, 0, 2, 1, 2, 0, 2, 1, 0, 1, 2, 0, 2, 1, 2, 0, 1, 1, 0, 2, 1, 2, 0, 2, 0, 1, 1, 2, 0, 2, 1, 0, 0, 2, 2, 1, 0, 1, 0, 2, 1, 2, 0, 1, 0, 2, 0, 2, 1, 2, 1, 0, 2, 0, 1, 2, 1, 0, 1, 0, 2, 2, 0, 1, 1, 2, 0, 2, 0, 1, 1, 0, 2, 1, 0, 2, 2, 0, 1, 2, 0, 1, 0, 1, 2, 1, 2, 0, 2, 0, 1, 2, 1, 0, 1, 0, 2, 1, 2, 0, 0, 1, 2, 2, 1, 0, 1, 2, 0, 2, 0, 1, 1, 0, 2, 0, 2, 1, 1, 2, 0, 0, 1, 2, 0, 1, 2, 0, 1, 2, 2, 1, 0, 1, 0, 2, 2, 1, 0, 2, 1, 0, 0, 2, 1, 1, 2, 0, 1, 2, 2, 1, 0, 1, 2, 0, 2, 0, 1, 1, 2, 0, 1, 0, 2, 0, 2, 1, 1, 2, 0, 1, 2, 0, 1, 0, 2, 0, 2, 1, 1, 0, 2, 1, 2, 0, 0, 1, 2, 1, 0, 2, 1, 0, 2, 1, 0, 2, 1, 0, 0, 1, 2, 1, 0, 2, 0, 1, 2, 0, 2, 1, 0, 2, 0, 1, 2, 2, 0, 1, 1, 2, 0, 0, 1, 2, 1, 0, 2, 1, 2, 0, 2, 0, 1, 1, 2, 0, 2, 1, 0, 2, 1, 0, 2, 0, 1, 2, 1, 0, 2, 0, 1, 0, 2, 1, 1, 0, 2, 1, 2, 0, 1, 0, 2, 2, 1, 0, 1, 2, 0, 1, 0, 2, 0, 1, 2, 0, 2, 1, 2, 1, 0, 2, 1, 0, 0, 2, 1, 0, 1, 2, 1, 0, 2, 2, 1, 0, 1, 0, 2, 1, 0, 2, 1, 0, 1, 2, 0, 2, 1, 0, 2, 1, 0, 0, 1, 2, 1, 0, 2, 0, 2, 1, 1, 0, 2, 2, 1, 2, 1, 0, 0, 1, 2, 2, 1, 0, 2, 1, 0, 0, 2, 1, 0, 2, 1, 2, 0, 1, 2, 1, 0, 0, 1, 2, 0, 1, 2, 1, 2, 0, 2, 0, 1, 2, 1, 0, 0, 1, 2, 0, 2, 1, 2, 0, 1, 0, 2, 1, 0, 2, 1, 2, 1, 0, 2, 0, 1, 2, 0, 1, 1, 2, 0, 0, 2, 1, 0, 1, 2, 2, 1, 0, 0, 2, 1, 2, 0, 1, 2, 0, 1, 2, 1, 0, 2, 0, 1, 0, 2, 1, 0, 1, 2, 0, 1, 2, 2, 1, 0, 1, 2, 0, 0, 2, 1, 2, 0, 1, 1, 0, 2, 2, 0, 1, 0, 2, 1, 1, 0, 2, 1, 0, 2, 2, 0, 1, 1, 2, 0, 0, 2, 1, 0, 1, 2, 2, 1, 0, 1, 0, 2, 2, 0, 1, 2, 0, 1, 1, 2, 0, 2, 1, 0, 2, 0, 1, 1, 2, 0, 2, 1, 0, 2, 0, 1, 0, 1, 2, 0, 1, 2, 2, 0, 1, 1, 0, 2, 1, 0, 2, 0, 2, 1, 2, 1, 0, 2, 1, 0, 2, 1, 0, 0, 1, 2, 0, 2, 1, 1, 2, 0, 2, 0, 1, 2, 1, 0, 1, 0, 2, 0, 2, 1, 0, 2, 1, 1, 0, 2, 2, 0, 1, 2, 0, 1, 0, 2, 1, 1, 2, 0, 1, 0, 2, 0, 2, 1, 2, 0, 1, 0, 2, 0, 1, 2, 0, 1, 2, 1, 0, 2, 1, 0, 2, 1, 2, 0, 2, 0, 1, 2, 1, 0, 1, 2, 0, 1, 2, 0, 0, 2, 1, 2, 0, 1, 2, 1, 0, 2, 0, 1, 2, 1, 0, 0, 2, 1, 1, 0, 2, 1, 2, 0, 0, 1, 2, 0, 2, 1, 0, 1, 2, 1, 0, 2, 0, 1, 2, 2, 1, 0, 1, 2, 0, 0, 1, 2, 0, 1, 2, 2, 1, 0, 2, 1, 0, 2, 0, 0, 1, 2, 2, 0, 1, 2, 1, 0, 2, 0, 1, 0, 2, 1, 1, 2, 0, 1, 0, 2, 0, 1, 2, 1, 0, 2, 0, 2, 1, 0, 1, 2, 1, 2, 0, 1, 0, 2, 2, 0, 1, 1, 2, 0, 1, 0, 2, 1, 2, 0, 0, 1, 2, 0, 2, 1, 2, 1, 0, 0, 1, 2, 0, 1, 2, 2, 1, 0, 0, 2, 1, 0, 1, 2, 0, 2, 1, 2, 0, 1, 0, 2, 1, 2, 1, 0, 0, 2, 1, 1, 0, 2, 2, 0, 1, 0, 1, 2, 1, 2, 0, 1, 0, 2, 1, 0, 1, 2, 0, 2, 1, 0, 0, 1, 2, 2, 0, 1, 2, 0, 1, 2, 0, 1, 0, 1, 2, 1, 0, 2, 2, 0, 1, 2, 1, 0, 0, 1, 2, 0, 2, 1, 2, 0, 1, 2, 0, 1, 1, 0, 2, 1, 2, 0, 0, 1, 2, 0, 1, 2, 2, 0, 1, 0, 1, 2, 2, 1, 0, 2, 1, 0, 1, 2, 0, 2, 0, 1, 1, 2, 0, 2, 1, 0, 1, 2, 0, 0, 2, 1, 0, 1, 2, 0, 2, 1, 0, 1, 2, 0, 1, 2, 0, 2, 1, 0, 2, 1, 2, 0, 1, 0, 2, 1, 2, 1, 0, 1, 0, 2, 0, 1, 2, 2, 1, 0, 0, 1, 2, 1, 2, 0, 0, 1, 2, 0, 1, 2, 1, 2, 0, 2, 1, 0, 2, 0, 1, 2, 1, 0, 2, 0, 1, 0, 1, 2, 1, 2, 0, 2, 1, 0, 1, 2, 0, 0, 1, 2, 0, 2, 1, 1, 0, 2, 0, 2, 1, 0, 1, 2, 1, 2, 0, 2, 1, 0, 1, 2, 0, 1, 2, 0, 1, 2, 0, 0, 2, 1, 0, 1, 2, 1, 2, 0, 2, 1, 0, 1, 2, 0, 2, 0, 1, 2, 1, 0, 0, 1, 2, 1, 2, 0, 1, 2, 0, 0, 1, 2, 0, 2, 1, 2, 1, 0, 0, 2, 1, 2, 1, 0, 2, 1, 0, 0, 1, 2, 2, 1, 0, 2, 1, 0, 0, 2, 1, 1, 2, 0, 2, 1, 0, 2, 0, 1, 0, 2, 1, 0, 1, 2, 1, 0, 2, 0, 1, 2, 1, 0, 0, 2, 1, 2, 1, 0, 0, 2, 1, 1, 2, 0, 1, 0, 2, 0, 2, 1, 2, 1, 0, 2, 0, 1, 0, 2, 1, 0, 2, 1, 2, 0, 1, 0, 2, 1, 2, 0, 1, 1, 0, 2, 0, 2, 1, 1, 2, 0, 2, 1, 0, 2, 0, 1, 1, 2, 0, 2, 1, 0, 0, 2, 1, 0, 2, 1, 2, 0, 1, 2, 0, 1, 1, 0, 2, 0, 1, 2, 2, 1, 0, 0, 2, 1, 1, 2, 0, 1, 2, 0, 1, 0, 2, 0, 2, 1, 1, 2, 0, 2, 0, 1, 1, 0, 2, 0, 2, 1, 2, 1, 0, 2, 1, 0, 0, 1, 2, 0, 2, 1, 2, 0, 1, 0, 1, 2, 2, 1, 0, 0, 2, 1, 0, 1, 2, 0, 1, 2, 0, 1, 2, 1, 0, 2, 1, 2, 0, 2, 1, 0, 2, 0, 1, 0, 2, 1, 0, 1, 2, 0, 2, 1, 0, 2, 1, 1, 2, 0, 0, 1, 2, 2, 0, 1, 2, 0, 1, 1, 0, 2, 0, 2, 1, 0, 2, 1, 1, 2, 0, 1, 2, 0, 0, 1, 2, 2, 0, 1, 1, 0, 2, 2, 1, 0, 2, 0, 1, 1, 0, 2, 0, 1, 2, 0, 1, 2, 2, 0, 1, 2, 0, 1, 1, 2, 0, 2, 0, 1, 0, 1, 2, 2, 1, 0, 1, 0, 2, 2, 1, 0, 1, 0, 2, 1, 0, 2, 0, 2, 1, 0, 1, 0, 1, 2, 2, 1, 0, 1, 2, 0, 1, 2, 0, 2, 0, 1, 0, 1, 2, 1, 2, 0, 2, 0, 1, 2, 0, 1, 1, 0, 2, 2, 1, 0, 0, 2, 1, 2, 1, 0, 2, 0, 1, 1, 0, 2, 2, 1, 0, 0, 2, 1, 1, 2, 0, 2, 1, 0, 2, 1, 0, 0, 2, 1, 0, 2, 1, 1, 0, 2, 0, 1, 2, 0, 1, 2, 1, 2, 0, 1, 2, 0, 0, 1, 2, 1, 2, 0, 0, 2, 1, 2, 0, 1, 2, 0, 1, 0, 2, 1, 0, 2, 1, 0, 1, 2, 0, 2, 1, 0, 1, 2, 1, 0, 2, 0, 2, 1, 2, 1, 0, 2, 0, 1, 1, 0, 2, 2, 1, 0, 0, 1, 2, 2, 0, 1, 1, 0, 2, 2, 1, 0, 2, 0, 1, 1, 2, 0, 0, 1, 2, 0, 2, 1, 0, 1, 2, 1, 0, 2, 2, 0, 1, 0, 1, 2, 1, 2, 0, 2, 0, 1, 2, 1, 0, 1, 2, 0, 2, 1, 0, 1, 0, 2, 2, 0, 1, 2, 1, 0, 1, 2, 0, 0, 2, 1, 0, 2, 1, 2, 1, 0, 1, 0, 2, 2, 0, 1, 0, 1, 2, 0, 2, 1, 1, 0, 2, 2, 1, 0, 0, 2, 1, 0, 1, 2, 0, 1, 2, 0, 2, 1, 0, 2, 1, 2, 0, 0, 1, 2, 0, 1, 2, 0, 2, 1, 0, 2, 1, 2, 0, 1, 2, 1, 0, 0, 2, 1, 0, 1, 2, 2, 1, 0, 2, 1, 0, 2, 1, 0, 1, 2, 0, 2, 1, 0, 1, 2, 0, 2, 0, 1, 0, 1, 2, 0, 2, 1, 0, 2, 1, 1, 2, 0, 2, 0, 1, 2, 1, 0, 0, 1, 2, 0, 2, 1, 0, 1, 2, 2, 0, 1, 0, 2, 1, 2, 1, 0, 2, 1, 0, 0, 1, 2, 0, 1, 2, 2, 0, 1, 0, 1, 2, 1, 2, 0, 0, 2, 1, 0, 1, 2, 1, 0, 2, 0, 2, 1, 2, 1, 0, 0, 2, 1, 1, 0, 2, 2, 0, 1, 2, 0, 1, 0, 1, 2, 2, 0, 1, 2, 0, 1, 1, 2, 0, 1, 0, 2, 0, 2, 1, 1, 2, 0, 0, 1, 2, 2, 0, 1, 0, 2, 1, 0, 2, 1, 2, 0, 1, 1, 2, 0, 0, 1, 2, 1, 0, 2, 2, 0, 1, 1, 2, 0, 2, 0, 1, 2, 0, 1, 0, 1, 2, 0, 2, 1, 2, 1, 0, 0, 1, 2, 0, 1, 2, 2, 1, 1, 0, 2, 2, 0, 1, 2, 1, 0, 0, 1, 2, 2, 0, 1, 1, 0, 2, 0, 2, 1, 0, 2, 1, 0, 2, 1, 2, 1, 0, 2, 1, 0, 0, 2, 1, 1, 2, 0, 2, 1, 0, 1, 2, 0, 2, 1, 0, 1, 0, 2, 1, 2, 0, 0, 1, 2, 0, 2, 1, 1, 0, 2, 2, 0, 1, 1, 0, 2, 1, 0, 2, 2, 0, 1, 0, 2, 1, 1, 0, 2, 2, 0, 1, 2, 0, 1, 2, 1, 0, 0, 1, 2, 2, 0, 1, 0, 1, 2, 1, 0, 2, 1, 0, 2, 2, 1, 0, 0, 1, 2, 0, 1, 0, 2, 1, 2, 1, 0, 1, 2, 0, 2, 0, 1, 1, 0, 2, 2, 0, 1, 0, 1, 2, 0, 2, 1, 0, 2, 1, 1, 0, 2, 0, 2, 1, 2, 1, 0, 0, 1, 2, 0, 2, 1, 2, 1, 0, 1, 0, 2, 2, 0, 1, 1, 2, 0, 0, 2, 1, 2, 1, 0, 1, 2, 0, 0, 1, 2, 2, 0, 1, 0, 2, 1, 2, 0, 1, 1, 0, 2, 0, 1, 2, 0, 2, 1, 1, 2, 0, 0, 2, 1, 2, 0, 1, 0, 2, 1, 0, 1, 2, 0, 2, 1, 1, 0, 2, 1, 2, 0, 2, 1, 0, 1, 0, 2, 1, 0, 2, 0, 2, 1, 1, 0, 2, 0, 1, 2, 1, 2, 0, 1, 2, 0, 2, 0, 1, 2, 1, 0, 0, 2, 1, 2, 0, 1, 2, 0, 1, 2, 0, 1, 2, 0, 1, 0, 2, 1, 2, 0, 1, 0, 1, 2, 0, 1, 2, 1, 2, 0, 2, 0, 1, 0, 2, 1, 1, 0, 2, 1, 2, 0, 0, 1, 2, 1, 2, 0, 1, 2, 0, 1, 0, 2, 0, 2, 1, 0, 2, 1, 0, 1, 2, 1, 0, 2, 1, 0, 2, 1, 2, 0, 0, 1, 2, 0, 2, 1, 0, 2, 1, 1, 0, 2, 0, 1, 2, 0, 1, 2, 0, 2, 1, 1, 0, 2, 2, 1, 0, 2, 1, 0, 0, 2, 1, 2, 0, 1, 0, 2, 1, 0, 2, 1, 2, 1, 0, 1, 0, 2, 1, 0, 2, 2, 1, 0, 2, 1, 0, 2, 1, 0, 2, 1, 0, 0, 2, 1, 1, 0, 2, 2, 0, 1, 2, 2, 1, 0, 0, 1, 2, 1, 0, 2, 1, 2, 0, 0, 1, 2, 0, 1, 2, 2, 0, 1, 0, 2, 1, 2, 0, 1, 0, 2, 1, 1, 2, 0, 0, 2, 1, 1, 2, 0, 2, 0, 1, 0, 2, 1, 1, 0, 2, 0, 1, 2, 2, 1, 2, 1, 0, 1, 2, 0, 2, 0, 1, 0, 2, 0, 1, 2, 0, 1, 2, 2, 1, 0, 0, 1, 2, 1, 0, 2, 2, 1, 0, 1, 0, 2, 1, 2, 0, 0, 2, 1, 0, 2, 1, 0, 2, 1, 1, 0, 2, 0, 1, 0, 2, 1, 0, 1, 2, 2, 1, 0, 1, 2, 0, 2, 1, 0, 2, 0, 1]\n"
     ]
    }
   ],
   "source": [
    "print(test_preds)\n",
    "print(test_labels)"
   ]
  },
  {
   "cell_type": "markdown",
   "metadata": {
    "id": "hIXup--IZ309"
   },
   "source": [
    "# **Evaluation Metrics**"
   ]
  },
  {
   "cell_type": "code",
   "execution_count": 49,
   "metadata": {
    "colab": {
     "base_uri": "https://localhost:8080/"
    },
    "id": "jVcXiSQZZ13m",
    "outputId": "ba445050-95a6-4d85-b23a-a9d51210da5e"
   },
   "outputs": [
    {
     "name": "stdout",
     "output_type": "stream",
     "text": [
      "Test Accuracy: 0.8204290091930542\n",
      "Test Precision: 0.8222295877314312\n",
      "Test Recall: 0.8204561119379891\n",
      "Test F1 Score: 0.8203208346001504\n",
      "Test Jaccard Score: 0.6964310660420511\n",
      "Test Log Loss: 0.5538087850884645\n"
     ]
    }
   ],
   "source": [
    "print(f'Test Accuracy: {test_accuracy}')\n",
    "print(f'Test Precision: {test_precision}')\n",
    "print(f'Test Recall: {test_recall}')\n",
    "print(f'Test F1 Score: {test_f1}')\n",
    "print(f'Test Jaccard Score: {test_jaccard_score}')\n",
    "print(f'Test Log Loss: {test_log_loss}')"
   ]
  },
  {
   "cell_type": "markdown",
   "metadata": {
    "id": "Q0jb96A-XMov"
   },
   "source": [
    "* For a multiclass problem, sensitivity and specificity are typically calculated using a one-vs-all (or one-vs-rest) approach. This means treating each class as the positive class once while aggregating the others as the negative class."
   ]
  },
  {
   "cell_type": "code",
   "execution_count": 50,
   "metadata": {
    "colab": {
     "base_uri": "https://localhost:8080/"
    },
    "id": "4o8mMf0iW_lT",
    "outputId": "3eb9f7b8-4eaf-4169-fc46-8742ed71a5d7"
   },
   "outputs": [
    {
     "name": "stdout",
     "output_type": "stream",
     "text": [
      "Sensitivity (Recall) for each class: [0.8822085889570552, 0.7823421213979154, 0.7968176254589964]\n"
     ]
    }
   ],
   "source": [
    "from sklearn.metrics import confusion_matrix\n",
    "\n",
    "def sensitivity_score_multiclass(y_true, y_pred, class_label):\n",
    "    cm = confusion_matrix(y_true, y_pred)\n",
    "    true_positives = cm[class_label, class_label]\n",
    "    actual_positives = sum(cm[class_label, :])\n",
    "    return true_positives / actual_positives if actual_positives != 0 else 0\n",
    "\n",
    "num_classes = 3  # We have 3 classes (adjust according to your dataset)\n",
    "\n",
    "sensitivity_scores = []\n",
    "for class_label in range(num_classes):\n",
    "    sensitivity = sensitivity_score_multiclass(test_labels, test_preds, class_label)\n",
    "    sensitivity_scores.append(sensitivity)\n",
    "\n",
    "print(\"Sensitivity (Recall) for each class:\", sensitivity_scores)"
   ]
  },
  {
   "cell_type": "code",
   "execution_count": 51,
   "metadata": {
    "colab": {
     "base_uri": "https://localhost:8080/"
    },
    "id": "Qw8I0V_OXXYk",
    "outputId": "31d787ee-5caa-4b12-cd4d-bedb7ddd0f84"
   },
   "outputs": [
    {
     "name": "stdout",
     "output_type": "stream",
     "text": [
      "Specificity for each class: [0.910260336906585, 0.9390318627450981, 0.8813247470101196]\n"
     ]
    }
   ],
   "source": [
    "def specificity_score_multiclass(y_true, y_pred, class_label):\n",
    "    cm = confusion_matrix(y_true, y_pred)\n",
    "    true_negatives = sum(sum(cm)) - sum(cm[class_label, :]) - sum(cm[:, class_label]) + cm[class_label, class_label]\n",
    "    actual_negatives = sum(sum(cm)) - sum(cm[class_label, :])\n",
    "    return true_negatives / actual_negatives if actual_negatives != 0 else 0\n",
    "specificity_scores = []\n",
    "for class_label in range(num_classes):\n",
    "    specificity = specificity_score_multiclass(test_labels, test_preds, class_label)\n",
    "    specificity_scores.append(specificity)\n",
    "\n",
    "print(\"Specificity for each class:\", specificity_scores)\n"
   ]
  },
  {
   "cell_type": "code",
   "execution_count": 52,
   "metadata": {
    "colab": {
     "base_uri": "https://localhost:8080/"
    },
    "id": "sgaso22xeD5C",
    "outputId": "4552badf-5a26-43b4-fd8e-cba8d6b09114"
   },
   "outputs": [
    {
     "name": "stdout",
     "output_type": "stream",
     "text": [
      "Test ROC AUC Score: 0.8653308804126283\n"
     ]
    }
   ],
   "source": [
    "from sklearn.preprocessing import LabelBinarizer\n",
    "# Convert labels to one-hot encoded format\n",
    "label_binarizer = LabelBinarizer()\n",
    "test_labels_one_hot = label_binarizer.fit_transform(test_labels)\n",
    "\n",
    "# Reshape the one-hot encoded labels\n",
    "num_classes = len(label_binarizer.classes_)\n",
    "test_labels_one_hot = test_labels_one_hot.reshape(-1, num_classes)\n",
    "\n",
    "# Creating a 2D array for test_preds\n",
    "num_samples = len(test_preds)\n",
    "num_classes = len(label_binarizer.classes_)\n",
    "formatted_preds = [[0] * num_classes for _ in range(num_samples)]\n",
    "for i, pred in enumerate(test_preds):\n",
    "    formatted_preds[i][pred] = 1\n",
    "\n",
    "# Calculate ROC AUC score for multiclass classification\n",
    "test_roc_auc_score = roc_auc_score(test_labels_one_hot, formatted_preds, average='macro', multi_class='ovo')\n",
    "print(\"Test ROC AUC Score:\", test_roc_auc_score)"
   ]
  },
  {
   "cell_type": "code",
   "execution_count": 53,
   "metadata": {
    "colab": {
     "base_uri": "https://localhost:8080/"
    },
    "id": "6NVQ0W5LZJM5",
    "outputId": "26783bdc-038b-45d6-b42b-f9be9d2d84c1"
   },
   "outputs": [
    {
     "name": "stdout",
     "output_type": "stream",
     "text": [
      "Classification Report:\n",
      "               precision    recall  f1-score   support\n",
      "\n",
      "Contradiction       0.87      0.78      0.82      1631\n",
      "   Entailment       0.83      0.88      0.86      1630\n",
      "      Neutral       0.77      0.80      0.78      1634\n",
      "\n",
      "     accuracy                           0.82      4895\n",
      "    macro avg       0.82      0.82      0.82      4895\n",
      " weighted avg       0.82      0.82      0.82      4895\n",
      "\n"
     ]
    }
   ],
   "source": [
    "# Mapping numeric labels to category names\n",
    "label_map = {0: 'Entailment', 1: 'Contradiction', 2: 'Neutral'}\n",
    "\n",
    "# Convert numeric predictions to label names\n",
    "predicted_labels = [label_map[pred] for pred in test_preds]\n",
    "true_labels = [label_map[label] for label in test_labels]\n",
    "\n",
    "# Generate and print the classification report\n",
    "report = classification_report(true_labels, predicted_labels)\n",
    "print(\"Classification Report:\")\n",
    "print(report)"
   ]
  },
  {
   "cell_type": "markdown",
   "metadata": {
    "id": "u9ulwJOfaMyD"
   },
   "source": [
    "# **Confusion Matrix for MultiNLI Dataset**"
   ]
  },
  {
   "cell_type": "code",
   "execution_count": 54,
   "metadata": {
    "colab": {
     "base_uri": "https://localhost:8080/",
     "height": 432
    },
    "id": "T3RZGUFBZJQR",
    "outputId": "a763d0bd-18e8-4edc-832d-6a8abf683050"
   },
   "outputs": [
    {
     "data": {
      "image/png": "[encoded data removed]",
      "text/plain": [
       "<Figure size 600x400 with 2 Axes>"
      ]
     },
     "metadata": {},
     "output_type": "display_data"
    }
   ],
   "source": [
    "# Generate confusion matrix\n",
    "conf_matrix = confusion_matrix(true_labels, predicted_labels)\n",
    "\n",
    "# Plot confusion matrix\n",
    "plt.figure(figsize=(6, 4))\n",
    "# Define the custom palette\n",
    "custom_palette = sns.color_palette(\"blend:#7AB,#EDA\", as_cmap=True) # Modify the number based on number of classes in the dataset\n",
    "#sns.color_palette(\"Spectral\", as_cmap=True)\n",
    "\n",
    "# Define custom font dictionary for title and labels\n",
    "font = {'family': 'Serif', 'weight': 'bold', 'size': 12}\n",
    "\n",
    "# Create heatmap with annotations and colormap\n",
    "heatmap = sns.heatmap(conf_matrix, annot=True, fmt='d', cmap=custom_palette,\n",
    "                      xticklabels=['Contradiction', 'Entailment', 'Neutral'], yticklabels=['Contradiction', 'Entailment', 'Neutral'],annot_kws={\"family\": \"Serif\", 'size': 12, 'color':'black'})\n",
    "\n",
    "# Set x and y labels with the custom font dictionary\n",
    "heatmap.set_xlabel('Predicted Labels', fontdict=font)\n",
    "heatmap.set_ylabel('True Labels', fontdict=font)\n",
    "heatmap.set_title('Natural Language Inference on \\n XNLI Dataset', fontdict=font)\n",
    "\n",
    "# Set font properties for tick labels on both axes\n",
    "heatmap.set_xticklabels(heatmap.get_xticklabels(), fontname='Serif', fontsize=10)\n",
    "heatmap.set_yticklabels(heatmap.get_yticklabels(), fontname='Serif', fontsize=10)\n",
    "\n",
    "# Create a color bar to indicate the scale\n",
    "cbar = heatmap.collections[0].colorbar\n",
    "cbar.set_label('Count', fontdict=font)\n",
    "cbar.ax.tick_params(labelsize=10)\n",
    "plt.savefig('C:\\\\Users\\\\Mukaffi\\\\Desktop\\\\CM\\\\cm\\\\XNLI_BanglaBERT___confusion_matrix.pdf') # Save as pdf format\n",
    "plt.show()\n"
   ]
  },
  {
   "cell_type": "markdown",
   "metadata": {
    "id": "dY4JWgMxaZiJ"
   },
   "source": [
    "# **Save results to a csv file**"
   ]
  },
  {
   "cell_type": "code",
   "execution_count": 55,
   "metadata": {
    "id": "3enaoA8nZQhE"
   },
   "outputs": [],
   "source": [
    "# Combine the lists into a DataFrame\n",
    "data = {'Sentence1': df_test['sentence1'],\n",
    "        'Sentence2': df_test['sentence2'],\n",
    "        'True_Labels': df_test['label'],\n",
    "        'Predicted_Labels': test_preds}\n",
    "df = pd.DataFrame(data)\n",
    "\n",
    "# Save the DataFrame to a CSV file\n",
    "df.to_csv('C:\\\\Users\\\\Mukaffi\\\\Desktop\\\\CM\\\\cm\\\\predicted_results.csv', index=False)\n"
   ]
  },
  {
   "cell_type": "markdown",
   "metadata": {
    "id": "3OewdOJGZFN-"
   },
   "source": [
    "# **Save the model and its tokenizer**"
   ]
  },
  {
   "cell_type": "code",
   "execution_count": 56,
   "metadata": {
    "colab": {
     "base_uri": "https://localhost:8080/"
    },
    "id": "zca-M5R6ZQ6E",
    "outputId": "5ea6b669-a527-4143-ba86-1578ceaf7346"
   },
   "outputs": [
    {
     "data": {
      "text/plain": [
       "('C:\\\\Users\\\\Mukaffi\\\\Desktop\\\\CM\\\\cm\\\\NLI_mBERT_Tokenizer.json\\\\tokenizer_config.json',\n",
       " 'C:\\\\Users\\\\Mukaffi\\\\Desktop\\\\CM\\\\cm\\\\NLI_mBERT_Tokenizer.json\\\\special_tokens_map.json',\n",
       " 'C:\\\\Users\\\\Mukaffi\\\\Desktop\\\\CM\\\\cm\\\\NLI_mBERT_Tokenizer.json\\\\vocab.txt',\n",
       " 'C:\\\\Users\\\\Mukaffi\\\\Desktop\\\\CM\\\\cm\\\\NLI_mBERT_Tokenizer.json\\\\added_tokens.json',\n",
       " 'C:\\\\Users\\\\Mukaffi\\\\Desktop\\\\CM\\\\cm\\\\NLI_mBERT_Tokenizer.json\\\\tokenizer.json')"
      ]
     },
     "execution_count": 56,
     "metadata": {},
     "output_type": "execute_result"
    }
   ],
   "source": [
    "# Save the model\n",
    "model.save_pretrained('C:\\\\Users\\\\Mukaffi\\\\Desktop\\\\CM\\\\cm\\\\NLI_mBERT_Model.pt')\n",
    "\n",
    "# Save the tokenizer\n",
    "tokenizer.save_pretrained('C:\\\\Users\\\\Mukaffi\\\\Desktop\\\\CM\\\\cm\\\\NLI_mBERT_Tokenizer.json')"
   ]
  },
  {
   "cell_type": "markdown",
   "metadata": {
    "id": "Co55vDWHZKb6"
   },
   "source": [
    "# **Load the model and its tokenizer**"
   ]
  },
  {
   "cell_type": "code",
   "execution_count": 57,
   "metadata": {
    "colab": {
     "base_uri": "https://localhost:8080/"
    },
    "id": "UPIG5hI6ZSMN",
    "outputId": "c7e31dec-6f4f-4e66-a08f-766e92cabf4c"
   },
   "outputs": [
    {
     "ename": "HFValidationError",
     "evalue": "Repo id must be in the form 'repo_name' or 'namespace/repo_name': '/content/drive/MyDrive/Natural_Language_Inference/NLI_mBERT/NLI_mBERT_Model.pt'. Use `repo_type` argument if needed.",
     "output_type": "error",
     "traceback": [
      "\u001b[1;31m---------------------------------------------------------------------------\u001b[0m",
      "\u001b[1;31mHFValidationError\u001b[0m                         Traceback (most recent call last)",
      "Cell \u001b[1;32mIn[57], line 2\u001b[0m\n\u001b[0;32m      1\u001b[0m \u001b[38;5;66;03m# load the model\u001b[39;00m\n\u001b[1;32m----> 2\u001b[0m model\u001b[38;5;241m.\u001b[39mfrom_pretrained(\u001b[38;5;124m'\u001b[39m\u001b[38;5;124m/content/drive/MyDrive/Natural_Language_Inference/NLI_mBERT/NLI_mBERT_Model.pt\u001b[39m\u001b[38;5;124m'\u001b[39m)\n\u001b[0;32m      4\u001b[0m \u001b[38;5;66;03m# load the tokenizer\u001b[39;00m\n\u001b[0;32m      5\u001b[0m tokenizer\u001b[38;5;241m.\u001b[39mfrom_pretrained(\u001b[38;5;124m'\u001b[39m\u001b[38;5;124m/content/drive/MyDrive/Natural_Language_Inference/NLI_mBERT/NLI_mBERT_Tokenizer.json\u001b[39m\u001b[38;5;124m'\u001b[39m)\n",
      "File \u001b[1;32m~\\anaconda3\\Lib\\site-packages\\transformers\\modeling_utils.py:2600\u001b[0m, in \u001b[0;36mPreTrainedModel.from_pretrained\u001b[1;34m(cls, pretrained_model_name_or_path, config, cache_dir, ignore_mismatched_sizes, force_download, local_files_only, token, revision, use_safetensors, *model_args, **kwargs)\u001b[0m\n\u001b[0;32m   2597\u001b[0m \u001b[38;5;28;01mif\u001b[39;00m commit_hash \u001b[38;5;129;01mis\u001b[39;00m \u001b[38;5;28;01mNone\u001b[39;00m:\n\u001b[0;32m   2598\u001b[0m     \u001b[38;5;28;01mif\u001b[39;00m \u001b[38;5;129;01mnot\u001b[39;00m \u001b[38;5;28misinstance\u001b[39m(config, PretrainedConfig):\n\u001b[0;32m   2599\u001b[0m         \u001b[38;5;66;03m# We make a call to the config file first (which may be absent) to get the commit hash as soon as possible\u001b[39;00m\n\u001b[1;32m-> 2600\u001b[0m         resolved_config_file \u001b[38;5;241m=\u001b[39m cached_file(\n\u001b[0;32m   2601\u001b[0m             pretrained_model_name_or_path,\n\u001b[0;32m   2602\u001b[0m             CONFIG_NAME,\n\u001b[0;32m   2603\u001b[0m             cache_dir\u001b[38;5;241m=\u001b[39mcache_dir,\n\u001b[0;32m   2604\u001b[0m             force_download\u001b[38;5;241m=\u001b[39mforce_download,\n\u001b[0;32m   2605\u001b[0m             resume_download\u001b[38;5;241m=\u001b[39mresume_download,\n\u001b[0;32m   2606\u001b[0m             proxies\u001b[38;5;241m=\u001b[39mproxies,\n\u001b[0;32m   2607\u001b[0m             local_files_only\u001b[38;5;241m=\u001b[39mlocal_files_only,\n\u001b[0;32m   2608\u001b[0m             token\u001b[38;5;241m=\u001b[39mtoken,\n\u001b[0;32m   2609\u001b[0m             revision\u001b[38;5;241m=\u001b[39mrevision,\n\u001b[0;32m   2610\u001b[0m             subfolder\u001b[38;5;241m=\u001b[39msubfolder,\n\u001b[0;32m   2611\u001b[0m             _raise_exceptions_for_missing_entries\u001b[38;5;241m=\u001b[39m\u001b[38;5;28;01mFalse\u001b[39;00m,\n\u001b[0;32m   2612\u001b[0m             _raise_exceptions_for_connection_errors\u001b[38;5;241m=\u001b[39m\u001b[38;5;28;01mFalse\u001b[39;00m,\n\u001b[0;32m   2613\u001b[0m         )\n\u001b[0;32m   2614\u001b[0m         commit_hash \u001b[38;5;241m=\u001b[39m extract_commit_hash(resolved_config_file, commit_hash)\n\u001b[0;32m   2615\u001b[0m     \u001b[38;5;28;01melse\u001b[39;00m:\n",
      "File \u001b[1;32m~\\anaconda3\\Lib\\site-packages\\transformers\\utils\\hub.py:430\u001b[0m, in \u001b[0;36mcached_file\u001b[1;34m(path_or_repo_id, filename, cache_dir, force_download, resume_download, proxies, token, revision, local_files_only, subfolder, repo_type, user_agent, _raise_exceptions_for_missing_entries, _raise_exceptions_for_connection_errors, _commit_hash, **deprecated_kwargs)\u001b[0m\n\u001b[0;32m    427\u001b[0m user_agent \u001b[38;5;241m=\u001b[39m http_user_agent(user_agent)\n\u001b[0;32m    428\u001b[0m \u001b[38;5;28;01mtry\u001b[39;00m:\n\u001b[0;32m    429\u001b[0m     \u001b[38;5;66;03m# Load from URL or cache if already cached\u001b[39;00m\n\u001b[1;32m--> 430\u001b[0m     resolved_file \u001b[38;5;241m=\u001b[39m hf_hub_download(\n\u001b[0;32m    431\u001b[0m         path_or_repo_id,\n\u001b[0;32m    432\u001b[0m         filename,\n\u001b[0;32m    433\u001b[0m         subfolder\u001b[38;5;241m=\u001b[39m\u001b[38;5;28;01mNone\u001b[39;00m \u001b[38;5;28;01mif\u001b[39;00m \u001b[38;5;28mlen\u001b[39m(subfolder) \u001b[38;5;241m==\u001b[39m \u001b[38;5;241m0\u001b[39m \u001b[38;5;28;01melse\u001b[39;00m subfolder,\n\u001b[0;32m    434\u001b[0m         repo_type\u001b[38;5;241m=\u001b[39mrepo_type,\n\u001b[0;32m    435\u001b[0m         revision\u001b[38;5;241m=\u001b[39mrevision,\n\u001b[0;32m    436\u001b[0m         cache_dir\u001b[38;5;241m=\u001b[39mcache_dir,\n\u001b[0;32m    437\u001b[0m         user_agent\u001b[38;5;241m=\u001b[39muser_agent,\n\u001b[0;32m    438\u001b[0m         force_download\u001b[38;5;241m=\u001b[39mforce_download,\n\u001b[0;32m    439\u001b[0m         proxies\u001b[38;5;241m=\u001b[39mproxies,\n\u001b[0;32m    440\u001b[0m         resume_download\u001b[38;5;241m=\u001b[39mresume_download,\n\u001b[0;32m    441\u001b[0m         token\u001b[38;5;241m=\u001b[39mtoken,\n\u001b[0;32m    442\u001b[0m         local_files_only\u001b[38;5;241m=\u001b[39mlocal_files_only,\n\u001b[0;32m    443\u001b[0m     )\n\u001b[0;32m    444\u001b[0m \u001b[38;5;28;01mexcept\u001b[39;00m GatedRepoError \u001b[38;5;28;01mas\u001b[39;00m e:\n\u001b[0;32m    445\u001b[0m     \u001b[38;5;28;01mraise\u001b[39;00m \u001b[38;5;167;01mEnvironmentError\u001b[39;00m(\n\u001b[0;32m    446\u001b[0m         \u001b[38;5;124m\"\u001b[39m\u001b[38;5;124mYou are trying to access a gated repo.\u001b[39m\u001b[38;5;130;01m\\n\u001b[39;00m\u001b[38;5;124mMake sure to request access at \u001b[39m\u001b[38;5;124m\"\u001b[39m\n\u001b[0;32m    447\u001b[0m         \u001b[38;5;124mf\u001b[39m\u001b[38;5;124m\"\u001b[39m\u001b[38;5;124mhttps://huggingface.co/\u001b[39m\u001b[38;5;132;01m{\u001b[39;00mpath_or_repo_id\u001b[38;5;132;01m}\u001b[39;00m\u001b[38;5;124m and pass a token having permission to this repo either \u001b[39m\u001b[38;5;124m\"\u001b[39m\n\u001b[0;32m    448\u001b[0m         \u001b[38;5;124m\"\u001b[39m\u001b[38;5;124mby logging in with `huggingface-cli login` or by passing `token=<your_token>`.\u001b[39m\u001b[38;5;124m\"\u001b[39m\n\u001b[0;32m    449\u001b[0m     ) \u001b[38;5;28;01mfrom\u001b[39;00m \u001b[38;5;21;01me\u001b[39;00m\n",
      "File \u001b[1;32m~\\anaconda3\\Lib\\site-packages\\huggingface_hub\\utils\\_validators.py:110\u001b[0m, in \u001b[0;36mvalidate_hf_hub_args.<locals>._inner_fn\u001b[1;34m(*args, **kwargs)\u001b[0m\n\u001b[0;32m    105\u001b[0m \u001b[38;5;28;01mfor\u001b[39;00m arg_name, arg_value \u001b[38;5;129;01min\u001b[39;00m chain(\n\u001b[0;32m    106\u001b[0m     \u001b[38;5;28mzip\u001b[39m(signature\u001b[38;5;241m.\u001b[39mparameters, args),  \u001b[38;5;66;03m# Args values\u001b[39;00m\n\u001b[0;32m    107\u001b[0m     kwargs\u001b[38;5;241m.\u001b[39mitems(),  \u001b[38;5;66;03m# Kwargs values\u001b[39;00m\n\u001b[0;32m    108\u001b[0m ):\n\u001b[0;32m    109\u001b[0m     \u001b[38;5;28;01mif\u001b[39;00m arg_name \u001b[38;5;129;01min\u001b[39;00m [\u001b[38;5;124m\"\u001b[39m\u001b[38;5;124mrepo_id\u001b[39m\u001b[38;5;124m\"\u001b[39m, \u001b[38;5;124m\"\u001b[39m\u001b[38;5;124mfrom_id\u001b[39m\u001b[38;5;124m\"\u001b[39m, \u001b[38;5;124m\"\u001b[39m\u001b[38;5;124mto_id\u001b[39m\u001b[38;5;124m\"\u001b[39m]:\n\u001b[1;32m--> 110\u001b[0m         validate_repo_id(arg_value)\n\u001b[0;32m    112\u001b[0m     \u001b[38;5;28;01melif\u001b[39;00m arg_name \u001b[38;5;241m==\u001b[39m \u001b[38;5;124m\"\u001b[39m\u001b[38;5;124mtoken\u001b[39m\u001b[38;5;124m\"\u001b[39m \u001b[38;5;129;01mand\u001b[39;00m arg_value \u001b[38;5;129;01mis\u001b[39;00m \u001b[38;5;129;01mnot\u001b[39;00m \u001b[38;5;28;01mNone\u001b[39;00m:\n\u001b[0;32m    113\u001b[0m         has_token \u001b[38;5;241m=\u001b[39m \u001b[38;5;28;01mTrue\u001b[39;00m\n",
      "File \u001b[1;32m~\\anaconda3\\Lib\\site-packages\\huggingface_hub\\utils\\_validators.py:158\u001b[0m, in \u001b[0;36mvalidate_repo_id\u001b[1;34m(repo_id)\u001b[0m\n\u001b[0;32m    155\u001b[0m     \u001b[38;5;28;01mraise\u001b[39;00m HFValidationError(\u001b[38;5;124mf\u001b[39m\u001b[38;5;124m\"\u001b[39m\u001b[38;5;124mRepo id must be a string, not \u001b[39m\u001b[38;5;132;01m{\u001b[39;00m\u001b[38;5;28mtype\u001b[39m(repo_id)\u001b[38;5;132;01m}\u001b[39;00m\u001b[38;5;124m: \u001b[39m\u001b[38;5;124m'\u001b[39m\u001b[38;5;132;01m{\u001b[39;00mrepo_id\u001b[38;5;132;01m}\u001b[39;00m\u001b[38;5;124m'\u001b[39m\u001b[38;5;124m.\u001b[39m\u001b[38;5;124m\"\u001b[39m)\n\u001b[0;32m    157\u001b[0m \u001b[38;5;28;01mif\u001b[39;00m repo_id\u001b[38;5;241m.\u001b[39mcount(\u001b[38;5;124m\"\u001b[39m\u001b[38;5;124m/\u001b[39m\u001b[38;5;124m\"\u001b[39m) \u001b[38;5;241m>\u001b[39m \u001b[38;5;241m1\u001b[39m:\n\u001b[1;32m--> 158\u001b[0m     \u001b[38;5;28;01mraise\u001b[39;00m HFValidationError(\n\u001b[0;32m    159\u001b[0m         \u001b[38;5;124m\"\u001b[39m\u001b[38;5;124mRepo id must be in the form \u001b[39m\u001b[38;5;124m'\u001b[39m\u001b[38;5;124mrepo_name\u001b[39m\u001b[38;5;124m'\u001b[39m\u001b[38;5;124m or \u001b[39m\u001b[38;5;124m'\u001b[39m\u001b[38;5;124mnamespace/repo_name\u001b[39m\u001b[38;5;124m'\u001b[39m\u001b[38;5;124m:\u001b[39m\u001b[38;5;124m\"\u001b[39m\n\u001b[0;32m    160\u001b[0m         \u001b[38;5;124mf\u001b[39m\u001b[38;5;124m\"\u001b[39m\u001b[38;5;124m \u001b[39m\u001b[38;5;124m'\u001b[39m\u001b[38;5;132;01m{\u001b[39;00mrepo_id\u001b[38;5;132;01m}\u001b[39;00m\u001b[38;5;124m'\u001b[39m\u001b[38;5;124m. Use `repo_type` argument if needed.\u001b[39m\u001b[38;5;124m\"\u001b[39m\n\u001b[0;32m    161\u001b[0m     )\n\u001b[0;32m    163\u001b[0m \u001b[38;5;28;01mif\u001b[39;00m \u001b[38;5;129;01mnot\u001b[39;00m REPO_ID_REGEX\u001b[38;5;241m.\u001b[39mmatch(repo_id):\n\u001b[0;32m    164\u001b[0m     \u001b[38;5;28;01mraise\u001b[39;00m HFValidationError(\n\u001b[0;32m    165\u001b[0m         \u001b[38;5;124m\"\u001b[39m\u001b[38;5;124mRepo id must use alphanumeric chars or \u001b[39m\u001b[38;5;124m'\u001b[39m\u001b[38;5;124m-\u001b[39m\u001b[38;5;124m'\u001b[39m\u001b[38;5;124m, \u001b[39m\u001b[38;5;124m'\u001b[39m\u001b[38;5;124m_\u001b[39m\u001b[38;5;124m'\u001b[39m\u001b[38;5;124m, \u001b[39m\u001b[38;5;124m'\u001b[39m\u001b[38;5;124m.\u001b[39m\u001b[38;5;124m'\u001b[39m\u001b[38;5;124m, \u001b[39m\u001b[38;5;124m'\u001b[39m\u001b[38;5;124m--\u001b[39m\u001b[38;5;124m'\u001b[39m\u001b[38;5;124m and \u001b[39m\u001b[38;5;124m'\u001b[39m\u001b[38;5;124m..\u001b[39m\u001b[38;5;124m'\u001b[39m\u001b[38;5;124m are\u001b[39m\u001b[38;5;124m\"\u001b[39m\n\u001b[0;32m    166\u001b[0m         \u001b[38;5;124m\"\u001b[39m\u001b[38;5;124m forbidden, \u001b[39m\u001b[38;5;124m'\u001b[39m\u001b[38;5;124m-\u001b[39m\u001b[38;5;124m'\u001b[39m\u001b[38;5;124m and \u001b[39m\u001b[38;5;124m'\u001b[39m\u001b[38;5;124m.\u001b[39m\u001b[38;5;124m'\u001b[39m\u001b[38;5;124m cannot start or end the name, max length is 96:\u001b[39m\u001b[38;5;124m\"\u001b[39m\n\u001b[0;32m    167\u001b[0m         \u001b[38;5;124mf\u001b[39m\u001b[38;5;124m\"\u001b[39m\u001b[38;5;124m \u001b[39m\u001b[38;5;124m'\u001b[39m\u001b[38;5;132;01m{\u001b[39;00mrepo_id\u001b[38;5;132;01m}\u001b[39;00m\u001b[38;5;124m'\u001b[39m\u001b[38;5;124m.\u001b[39m\u001b[38;5;124m\"\u001b[39m\n\u001b[0;32m    168\u001b[0m     )\n",
      "\u001b[1;31mHFValidationError\u001b[0m: Repo id must be in the form 'repo_name' or 'namespace/repo_name': '/content/drive/MyDrive/Natural_Language_Inference/NLI_mBERT/NLI_mBERT_Model.pt'. Use `repo_type` argument if needed."
     ]
    }
   ],
   "source": [
    "# load the model\n",
    "model.from_pretrained('/content/drive/MyDrive/Natural_Language_Inference/NLI_mBERT/NLI_mBERT_Model.pt')\n",
    "\n",
    "# load the tokenizer\n",
    "tokenizer.from_pretrained('/content/drive/MyDrive/Natural_Language_Inference/NLI_mBERT/NLI_mBERT_Tokenizer.json')\n"
   ]
  },
  {
   "cell_type": "code",
   "execution_count": null,
   "metadata": {},
   "outputs": [],
   "source": []
  }
 ],
 "metadata": {
  "accelerator": "GPU",
  "colab": {
   "gpuType": "T4",
   "include_colab_link": true,
   "provenance": []
  },
  "kernelspec": {
   "display_name": "Python 3 (ipykernel)",
   "language": "python",
   "name": "python3"
  },
  "language_info": {
   "codemirror_mode": {
    "name": "ipython",
    "version": 3
   },
   "file_extension": ".py",
   "mimetype": "text/x-python",
   "name": "python",
   "nbconvert_exporter": "python",
   "pygments_lexer": "ipython3",
   "version": "3.8.18"
  },
  "widgets": {
   "application/vnd.jupyter.widget-state+json": {
    "02d0cc0f3c664953aa152601f2ac7071": {
     "model_module": "@jupyter-widgets/controls",
     "model_module_version": "1.5.0",
     "model_name": "HTMLModel",
     "state": {
      "_dom_classes": [],
      "_model_module": "@jupyter-widgets/controls",
      "_model_module_version": "1.5.0",
      "_model_name": "HTMLModel",
      "_view_count": null,
      "_view_module": "@jupyter-widgets/controls",
      "_view_module_version": "1.5.0",
      "_view_name": "HTMLView",
      "description": "",
      "description_tooltip": null,
      "layout": "IPY_MODEL_ea8f33cd245647acbaffc74fce77ec46",
      "placeholder": "​",
      "style": "IPY_MODEL_6f0315241ca446e69a73f234d7d53e43",
      "value": " 74.6M/74.6M [00:58&lt;00:00, 1.15MB/s]"
     }
    },
    "040ec6fa7fd147b8a1702d07352f8f00": {
     "model_module": "@jupyter-widgets/controls",
     "model_module_version": "1.5.0",
     "model_name": "FloatProgressModel",
     "state": {
      "_dom_classes": [],
      "_model_module": "@jupyter-widgets/controls",
      "_model_module_version": "1.5.0",
      "_model_name": "FloatProgressModel",
      "_view_count": null,
      "_view_module": "@jupyter-widgets/controls",
      "_view_module_version": "1.5.0",
      "_view_name": "ProgressView",
      "bar_style": "success",
      "description": "",
      "description_tooltip": null,
      "layout": "IPY_MODEL_23a552270cc54e56a860d53fce79befa",
      "max": 480487,
      "min": 0,
      "orientation": "horizontal",
      "style": "IPY_MODEL_8cb792d3b9db472696f1e9fce50360fe",
      "value": 480487
     }
    },
    "11f493441827434da18066cae6c634c4": {
     "model_module": "@jupyter-widgets/base",
     "model_module_version": "1.2.0",
     "model_name": "LayoutModel",
     "state": {
      "_model_module": "@jupyter-widgets/base",
      "_model_module_version": "1.2.0",
      "_model_name": "LayoutModel",
      "_view_count": null,
      "_view_module": "@jupyter-widgets/base",
      "_view_module_version": "1.2.0",
      "_view_name": "LayoutView",
      "align_content": null,
      "align_items": null,
      "align_self": null,
      "border": null,
      "bottom": null,
      "display": null,
      "flex": null,
      "flex_flow": null,
      "grid_area": null,
      "grid_auto_columns": null,
      "grid_auto_flow": null,
      "grid_auto_rows": null,
      "grid_column": null,
      "grid_gap": null,
      "grid_row": null,
      "grid_template_areas": null,
      "grid_template_columns": null,
      "grid_template_rows": null,
      "height": null,
      "justify_content": null,
      "justify_items": null,
      "left": null,
      "margin": null,
      "max_height": null,
      "max_width": null,
      "min_height": null,
      "min_width": null,
      "object_fit": null,
      "object_position": null,
      "order": null,
      "overflow": null,
      "overflow_x": null,
      "overflow_y": null,
      "padding": null,
      "right": null,
      "top": null,
      "visibility": null,
      "width": null
     }
    },
    "1232afb7564e4b15987306336eb2023a": {
     "model_module": "@jupyter-widgets/controls",
     "model_module_version": "1.5.0",
     "model_name": "HTMLModel",
     "state": {
      "_dom_classes": [],
      "_model_module": "@jupyter-widgets/controls",
      "_model_module_version": "1.5.0",
      "_model_name": "HTMLModel",
      "_view_count": null,
      "_view_module": "@jupyter-widgets/controls",
      "_view_module_version": "1.5.0",
      "_view_name": "HTMLView",
      "description": "",
      "description_tooltip": null,
      "layout": "IPY_MODEL_5fa5cffc65f34f1d81a5f58129e3e64b",
      "placeholder": "​",
      "style": "IPY_MODEL_9daa6c105fc847ad8683755ed49cff4f",
      "value": "Downloading data: 100%"
     }
    },
    "14142b961b59406890e9fad81caf2257": {
     "model_module": "@jupyter-widgets/base",
     "model_module_version": "1.2.0",
     "model_name": "LayoutModel",
     "state": {
      "_model_module": "@jupyter-widgets/base",
      "_model_module_version": "1.2.0",
      "_model_name": "LayoutModel",
      "_view_count": null,
      "_view_module": "@jupyter-widgets/base",
      "_view_module_version": "1.2.0",
      "_view_name": "LayoutView",
      "align_content": null,
      "align_items": null,
      "align_self": null,
      "border": null,
      "bottom": null,
      "display": null,
      "flex": null,
      "flex_flow": null,
      "grid_area": null,
      "grid_auto_columns": null,
      "grid_auto_flow": null,
      "grid_auto_rows": null,
      "grid_column": null,
      "grid_gap": null,
      "grid_row": null,
      "grid_template_areas": null,
      "grid_template_columns": null,
      "grid_template_rows": null,
      "height": null,
      "justify_content": null,
      "justify_items": null,
      "left": null,
      "margin": null,
      "max_height": null,
      "max_width": null,
      "min_height": null,
      "min_width": null,
      "object_fit": null,
      "object_position": null,
      "order": null,
      "overflow": null,
      "overflow_x": null,
      "overflow_y": null,
      "padding": null,
      "right": null,
      "top": null,
      "visibility": null,
      "width": null
     }
    },
    "185f62333d7942e7a9ca33c9684611ec": {
     "model_module": "@jupyter-widgets/base",
     "model_module_version": "1.2.0",
     "model_name": "LayoutModel",
     "state": {
      "_model_module": "@jupyter-widgets/base",
      "_model_module_version": "1.2.0",
      "_model_name": "LayoutModel",
      "_view_count": null,
      "_view_module": "@jupyter-widgets/base",
      "_view_module_version": "1.2.0",
      "_view_name": "LayoutView",
      "align_content": null,
      "align_items": null,
      "align_self": null,
      "border": null,
      "bottom": null,
      "display": null,
      "flex": null,
      "flex_flow": null,
      "grid_area": null,
      "grid_auto_columns": null,
      "grid_auto_flow": null,
      "grid_auto_rows": null,
      "grid_column": null,
      "grid_gap": null,
      "grid_row": null,
      "grid_template_areas": null,
      "grid_template_columns": null,
      "grid_template_rows": null,
      "height": null,
      "justify_content": null,
      "justify_items": null,
      "left": null,
      "margin": null,
      "max_height": null,
      "max_width": null,
      "min_height": null,
      "min_width": null,
      "object_fit": null,
      "object_position": null,
      "order": null,
      "overflow": null,
      "overflow_x": null,
      "overflow_y": null,
      "padding": null,
      "right": null,
      "top": null,
      "visibility": null,
      "width": null
     }
    },
    "18d8b6ea81464c08b640aa1d98d93abd": {
     "model_module": "@jupyter-widgets/controls",
     "model_module_version": "1.5.0",
     "model_name": "HTMLModel",
     "state": {
      "_dom_classes": [],
      "_model_module": "@jupyter-widgets/controls",
      "_model_module_version": "1.5.0",
      "_model_name": "HTMLModel",
      "_view_count": null,
      "_view_module": "@jupyter-widgets/controls",
      "_view_module_version": "1.5.0",
      "_view_name": "HTMLView",
      "description": "",
      "description_tooltip": null,
      "layout": "IPY_MODEL_11f493441827434da18066cae6c634c4",
      "placeholder": "​",
      "style": "IPY_MODEL_3bdcd5705f0e423eacce1190ef9b0def",
      "value": " 381449/0 [00:00&lt;00:00, 549367.32 examples/s]"
     }
    },
    "19f72d4896bc4c71838bf512cd67fde9": {
     "model_module": "@jupyter-widgets/controls",
     "model_module_version": "1.5.0",
     "model_name": "ProgressStyleModel",
     "state": {
      "_model_module": "@jupyter-widgets/controls",
      "_model_module_version": "1.5.0",
      "_model_name": "ProgressStyleModel",
      "_view_count": null,
      "_view_module": "@jupyter-widgets/base",
      "_view_module_version": "1.2.0",
      "_view_name": "StyleView",
      "bar_color": null,
      "description_width": ""
     }
    },
    "1ae6d64c531d4e5397806d8350a5bc29": {
     "model_module": "@jupyter-widgets/base",
     "model_module_version": "1.2.0",
     "model_name": "LayoutModel",
     "state": {
      "_model_module": "@jupyter-widgets/base",
      "_model_module_version": "1.2.0",
      "_model_name": "LayoutModel",
      "_view_count": null,
      "_view_module": "@jupyter-widgets/base",
      "_view_module_version": "1.2.0",
      "_view_name": "LayoutView",
      "align_content": null,
      "align_items": null,
      "align_self": null,
      "border": null,
      "bottom": null,
      "display": null,
      "flex": null,
      "flex_flow": null,
      "grid_area": null,
      "grid_auto_columns": null,
      "grid_auto_flow": null,
      "grid_auto_rows": null,
      "grid_column": null,
      "grid_gap": null,
      "grid_row": null,
      "grid_template_areas": null,
      "grid_template_columns": null,
      "grid_template_rows": null,
      "height": null,
      "justify_content": null,
      "justify_items": null,
      "left": null,
      "margin": null,
      "max_height": null,
      "max_width": null,
      "min_height": null,
      "min_width": null,
      "object_fit": null,
      "object_position": null,
      "order": null,
      "overflow": null,
      "overflow_x": null,
      "overflow_y": null,
      "padding": null,
      "right": null,
      "top": null,
      "visibility": null,
      "width": null
     }
    },
    "1c54719cb8b845f3a56da8b29cb6f7bf": {
     "model_module": "@jupyter-widgets/controls",
     "model_module_version": "1.5.0",
     "model_name": "ProgressStyleModel",
     "state": {
      "_model_module": "@jupyter-widgets/controls",
      "_model_module_version": "1.5.0",
      "_model_name": "ProgressStyleModel",
      "_view_count": null,
      "_view_module": "@jupyter-widgets/base",
      "_view_module_version": "1.2.0",
      "_view_name": "StyleView",
      "bar_color": null,
      "description_width": ""
     }
    },
    "22dd8d1ca0884e7fbd3fe8d494c2cc2d": {
     "model_module": "@jupyter-widgets/controls",
     "model_module_version": "1.5.0",
     "model_name": "ProgressStyleModel",
     "state": {
      "_model_module": "@jupyter-widgets/controls",
      "_model_module_version": "1.5.0",
      "_model_name": "ProgressStyleModel",
      "_view_count": null,
      "_view_module": "@jupyter-widgets/base",
      "_view_module_version": "1.2.0",
      "_view_name": "StyleView",
      "bar_color": null,
      "description_width": ""
     }
    },
    "23a552270cc54e56a860d53fce79befa": {
     "model_module": "@jupyter-widgets/base",
     "model_module_version": "1.2.0",
     "model_name": "LayoutModel",
     "state": {
      "_model_module": "@jupyter-widgets/base",
      "_model_module_version": "1.2.0",
      "_model_name": "LayoutModel",
      "_view_count": null,
      "_view_module": "@jupyter-widgets/base",
      "_view_module_version": "1.2.0",
      "_view_name": "LayoutView",
      "align_content": null,
      "align_items": null,
      "align_self": null,
      "border": null,
      "bottom": null,
      "display": null,
      "flex": null,
      "flex_flow": null,
      "grid_area": null,
      "grid_auto_columns": null,
      "grid_auto_flow": null,
      "grid_auto_rows": null,
      "grid_column": null,
      "grid_gap": null,
      "grid_row": null,
      "grid_template_areas": null,
      "grid_template_columns": null,
      "grid_template_rows": null,
      "height": null,
      "justify_content": null,
      "justify_items": null,
      "left": null,
      "margin": null,
      "max_height": null,
      "max_width": null,
      "min_height": null,
      "min_width": null,
      "object_fit": null,
      "object_position": null,
      "order": null,
      "overflow": null,
      "overflow_x": null,
      "overflow_y": null,
      "padding": null,
      "right": null,
      "top": null,
      "visibility": null,
      "width": null
     }
    },
    "252948d465f24dd8a5835fd811b43367": {
     "model_module": "@jupyter-widgets/controls",
     "model_module_version": "1.5.0",
     "model_name": "ProgressStyleModel",
     "state": {
      "_model_module": "@jupyter-widgets/controls",
      "_model_module_version": "1.5.0",
      "_model_name": "ProgressStyleModel",
      "_view_count": null,
      "_view_module": "@jupyter-widgets/base",
      "_view_module_version": "1.2.0",
      "_view_name": "StyleView",
      "bar_color": null,
      "description_width": ""
     }
    },
    "25d419a9f5fa4b3ead00fd4abd846570": {
     "model_module": "@jupyter-widgets/controls",
     "model_module_version": "1.5.0",
     "model_name": "HBoxModel",
     "state": {
      "_dom_classes": [],
      "_model_module": "@jupyter-widgets/controls",
      "_model_module_version": "1.5.0",
      "_model_name": "HBoxModel",
      "_view_count": null,
      "_view_module": "@jupyter-widgets/controls",
      "_view_module_version": "1.5.0",
      "_view_name": "HBoxView",
      "box_style": "",
      "children": [
       "IPY_MODEL_1232afb7564e4b15987306336eb2023a",
       "IPY_MODEL_2b188b5379dd4e429df4012291110a36",
       "IPY_MODEL_c777b2480e614b18986ea8c08237b335"
      ],
      "layout": "IPY_MODEL_6a9fe60d0d694b649cbc3cc91a48b4f2"
     }
    },
    "2b188b5379dd4e429df4012291110a36": {
     "model_module": "@jupyter-widgets/controls",
     "model_module_version": "1.5.0",
     "model_name": "FloatProgressModel",
     "state": {
      "_dom_classes": [],
      "_model_module": "@jupyter-widgets/controls",
      "_model_module_version": "1.5.0",
      "_model_name": "FloatProgressModel",
      "_view_count": null,
      "_view_module": "@jupyter-widgets/controls",
      "_view_module_version": "1.5.0",
      "_view_name": "ProgressView",
      "bar_style": "success",
      "description": "",
      "description_tooltip": null,
      "layout": "IPY_MODEL_9e8694c98bcb4c8e8a8f2bbc387a2f2e",
      "max": 242201,
      "min": 0,
      "orientation": "horizontal",
      "style": "IPY_MODEL_e3bf910f2adb49cb85fad4a8e8ffa517",
      "value": 242201
     }
    },
    "2e514fabf5984a048434b6fed92b487a": {
     "model_module": "@jupyter-widgets/controls",
     "model_module_version": "1.5.0",
     "model_name": "DescriptionStyleModel",
     "state": {
      "_model_module": "@jupyter-widgets/controls",
      "_model_module_version": "1.5.0",
      "_model_name": "DescriptionStyleModel",
      "_view_count": null,
      "_view_module": "@jupyter-widgets/base",
      "_view_module_version": "1.2.0",
      "_view_name": "StyleView",
      "description_width": ""
     }
    },
    "2ee09993e59c4ad3a2080a1978061e77": {
     "model_module": "@jupyter-widgets/base",
     "model_module_version": "1.2.0",
     "model_name": "LayoutModel",
     "state": {
      "_model_module": "@jupyter-widgets/base",
      "_model_module_version": "1.2.0",
      "_model_name": "LayoutModel",
      "_view_count": null,
      "_view_module": "@jupyter-widgets/base",
      "_view_module_version": "1.2.0",
      "_view_name": "LayoutView",
      "align_content": null,
      "align_items": null,
      "align_self": null,
      "border": null,
      "bottom": null,
      "display": null,
      "flex": null,
      "flex_flow": null,
      "grid_area": null,
      "grid_auto_columns": null,
      "grid_auto_flow": null,
      "grid_auto_rows": null,
      "grid_column": null,
      "grid_gap": null,
      "grid_row": null,
      "grid_template_areas": null,
      "grid_template_columns": null,
      "grid_template_rows": null,
      "height": null,
      "justify_content": null,
      "justify_items": null,
      "left": null,
      "margin": null,
      "max_height": null,
      "max_width": null,
      "min_height": null,
      "min_width": null,
      "object_fit": null,
      "object_position": null,
      "order": null,
      "overflow": null,
      "overflow_x": null,
      "overflow_y": null,
      "padding": null,
      "right": null,
      "top": null,
      "visibility": null,
      "width": null
     }
    },
    "2f29151497b34d12994f600cd734e9fd": {
     "model_module": "@jupyter-widgets/base",
     "model_module_version": "1.2.0",
     "model_name": "LayoutModel",
     "state": {
      "_model_module": "@jupyter-widgets/base",
      "_model_module_version": "1.2.0",
      "_model_name": "LayoutModel",
      "_view_count": null,
      "_view_module": "@jupyter-widgets/base",
      "_view_module_version": "1.2.0",
      "_view_name": "LayoutView",
      "align_content": null,
      "align_items": null,
      "align_self": null,
      "border": null,
      "bottom": null,
      "display": null,
      "flex": null,
      "flex_flow": null,
      "grid_area": null,
      "grid_auto_columns": null,
      "grid_auto_flow": null,
      "grid_auto_rows": null,
      "grid_column": null,
      "grid_gap": null,
      "grid_row": null,
      "grid_template_areas": null,
      "grid_template_columns": null,
      "grid_template_rows": null,
      "height": null,
      "justify_content": null,
      "justify_items": null,
      "left": null,
      "margin": null,
      "max_height": null,
      "max_width": null,
      "min_height": null,
      "min_width": null,
      "object_fit": null,
      "object_position": null,
      "order": null,
      "overflow": null,
      "overflow_x": null,
      "overflow_y": null,
      "padding": null,
      "right": null,
      "top": null,
      "visibility": null,
      "width": null
     }
    },
    "2fe5aa33b0304a42ba455ab88593bb58": {
     "model_module": "@jupyter-widgets/controls",
     "model_module_version": "1.5.0",
     "model_name": "HTMLModel",
     "state": {
      "_dom_classes": [],
      "_model_module": "@jupyter-widgets/controls",
      "_model_module_version": "1.5.0",
      "_model_name": "HTMLModel",
      "_view_count": null,
      "_view_module": "@jupyter-widgets/controls",
      "_view_module_version": "1.5.0",
      "_view_name": "HTMLView",
      "description": "",
      "description_tooltip": null,
      "layout": "IPY_MODEL_2ee09993e59c4ad3a2080a1978061e77",
      "placeholder": "​",
      "style": "IPY_MODEL_80c0b066fb894e748a7f1a3932c8f333",
      "value": "Generating test split: "
     }
    },
    "31b98a51e93f4728b241b2cf350faa7a": {
     "model_module": "@jupyter-widgets/base",
     "model_module_version": "1.2.0",
     "model_name": "LayoutModel",
     "state": {
      "_model_module": "@jupyter-widgets/base",
      "_model_module_version": "1.2.0",
      "_model_name": "LayoutModel",
      "_view_count": null,
      "_view_module": "@jupyter-widgets/base",
      "_view_module_version": "1.2.0",
      "_view_name": "LayoutView",
      "align_content": null,
      "align_items": null,
      "align_self": null,
      "border": null,
      "bottom": null,
      "display": null,
      "flex": null,
      "flex_flow": null,
      "grid_area": null,
      "grid_auto_columns": null,
      "grid_auto_flow": null,
      "grid_auto_rows": null,
      "grid_column": null,
      "grid_gap": null,
      "grid_row": null,
      "grid_template_areas": null,
      "grid_template_columns": null,
      "grid_template_rows": null,
      "height": null,
      "justify_content": null,
      "justify_items": null,
      "left": null,
      "margin": null,
      "max_height": null,
      "max_width": null,
      "min_height": null,
      "min_width": null,
      "object_fit": null,
      "object_position": null,
      "order": null,
      "overflow": null,
      "overflow_x": null,
      "overflow_y": null,
      "padding": null,
      "right": null,
      "top": null,
      "visibility": null,
      "width": null
     }
    },
    "35110cd58a70451b99901f1368e01296": {
     "model_module": "@jupyter-widgets/base",
     "model_module_version": "1.2.0",
     "model_name": "LayoutModel",
     "state": {
      "_model_module": "@jupyter-widgets/base",
      "_model_module_version": "1.2.0",
      "_model_name": "LayoutModel",
      "_view_count": null,
      "_view_module": "@jupyter-widgets/base",
      "_view_module_version": "1.2.0",
      "_view_name": "LayoutView",
      "align_content": null,
      "align_items": null,
      "align_self": null,
      "border": null,
      "bottom": null,
      "display": null,
      "flex": null,
      "flex_flow": null,
      "grid_area": null,
      "grid_auto_columns": null,
      "grid_auto_flow": null,
      "grid_auto_rows": null,
      "grid_column": null,
      "grid_gap": null,
      "grid_row": null,
      "grid_template_areas": null,
      "grid_template_columns": null,
      "grid_template_rows": null,
      "height": null,
      "justify_content": null,
      "justify_items": null,
      "left": null,
      "margin": null,
      "max_height": null,
      "max_width": null,
      "min_height": null,
      "min_width": null,
      "object_fit": null,
      "object_position": null,
      "order": null,
      "overflow": null,
      "overflow_x": null,
      "overflow_y": null,
      "padding": null,
      "right": null,
      "top": null,
      "visibility": null,
      "width": null
     }
    },
    "375b0902f82445be89761cf83d7f4509": {
     "model_module": "@jupyter-widgets/controls",
     "model_module_version": "1.5.0",
     "model_name": "HBoxModel",
     "state": {
      "_dom_classes": [],
      "_model_module": "@jupyter-widgets/controls",
      "_model_module_version": "1.5.0",
      "_model_name": "HBoxModel",
      "_view_count": null,
      "_view_module": "@jupyter-widgets/controls",
      "_view_module_version": "1.5.0",
      "_view_name": "HBoxView",
      "box_style": "",
      "children": [
       "IPY_MODEL_4f817e2de589454a9498d11961b179ed",
       "IPY_MODEL_7257ed8ebe594be08dc98dc55a951f42",
       "IPY_MODEL_38e6de5bea014eed8a014fbacce6d9bc"
      ],
      "layout": "IPY_MODEL_fb51babb3b594d22af4e86dccc80c29d"
     }
    },
    "38e6de5bea014eed8a014fbacce6d9bc": {
     "model_module": "@jupyter-widgets/controls",
     "model_module_version": "1.5.0",
     "model_name": "HTMLModel",
     "state": {
      "_dom_classes": [],
      "_model_module": "@jupyter-widgets/controls",
      "_model_module_version": "1.5.0",
      "_model_name": "HTMLModel",
      "_view_count": null,
      "_view_module": "@jupyter-widgets/controls",
      "_view_module_version": "1.5.0",
      "_view_name": "HTMLView",
      "description": "",
      "description_tooltip": null,
      "layout": "IPY_MODEL_549bf7eca6824da48f4a3a92a30c441a",
      "placeholder": "​",
      "style": "IPY_MODEL_593610fff1574ca7a70fcf696e5ad0c2",
      "value": " 2419/0 [00:00&lt;00:00, 71032.17 examples/s]"
     }
    },
    "3bdcd5705f0e423eacce1190ef9b0def": {
     "model_module": "@jupyter-widgets/controls",
     "model_module_version": "1.5.0",
     "model_name": "DescriptionStyleModel",
     "state": {
      "_model_module": "@jupyter-widgets/controls",
      "_model_module_version": "1.5.0",
      "_model_name": "DescriptionStyleModel",
      "_view_count": null,
      "_view_module": "@jupyter-widgets/base",
      "_view_module_version": "1.2.0",
      "_view_name": "StyleView",
      "description_width": ""
     }
    },
    "43bc4477d7fc4ff3b4c48b41e22d1406": {
     "model_module": "@jupyter-widgets/controls",
     "model_module_version": "1.5.0",
     "model_name": "HBoxModel",
     "state": {
      "_dom_classes": [],
      "_model_module": "@jupyter-widgets/controls",
      "_model_module_version": "1.5.0",
      "_model_name": "HBoxModel",
      "_view_count": null,
      "_view_module": "@jupyter-widgets/controls",
      "_view_module_version": "1.5.0",
      "_view_name": "HBoxView",
      "box_style": "",
      "children": [
       "IPY_MODEL_f0b7549a2e924f9796782127675e61a3",
       "IPY_MODEL_b37386c600b148b185ab98919ccd7e82",
       "IPY_MODEL_18d8b6ea81464c08b640aa1d98d93abd"
      ],
      "layout": "IPY_MODEL_eb333d5895e6436abe1ac9ec5ddeab5f"
     }
    },
    "4f817e2de589454a9498d11961b179ed": {
     "model_module": "@jupyter-widgets/controls",
     "model_module_version": "1.5.0",
     "model_name": "HTMLModel",
     "state": {
      "_dom_classes": [],
      "_model_module": "@jupyter-widgets/controls",
      "_model_module_version": "1.5.0",
      "_model_name": "HTMLModel",
      "_view_count": null,
      "_view_module": "@jupyter-widgets/controls",
      "_view_module_version": "1.5.0",
      "_view_name": "HTMLView",
      "description": "",
      "description_tooltip": null,
      "layout": "IPY_MODEL_2f29151497b34d12994f600cd734e9fd",
      "placeholder": "​",
      "style": "IPY_MODEL_cd19e51c7ecc434f968a92ef90076e8a",
      "value": "Generating validation split: "
     }
    },
    "521c30e335fb430c8fef7b467d67940e": {
     "model_module": "@jupyter-widgets/base",
     "model_module_version": "1.2.0",
     "model_name": "LayoutModel",
     "state": {
      "_model_module": "@jupyter-widgets/base",
      "_model_module_version": "1.2.0",
      "_model_name": "LayoutModel",
      "_view_count": null,
      "_view_module": "@jupyter-widgets/base",
      "_view_module_version": "1.2.0",
      "_view_name": "LayoutView",
      "align_content": null,
      "align_items": null,
      "align_self": null,
      "border": null,
      "bottom": null,
      "display": null,
      "flex": null,
      "flex_flow": null,
      "grid_area": null,
      "grid_auto_columns": null,
      "grid_auto_flow": null,
      "grid_auto_rows": null,
      "grid_column": null,
      "grid_gap": null,
      "grid_row": null,
      "grid_template_areas": null,
      "grid_template_columns": null,
      "grid_template_rows": null,
      "height": null,
      "justify_content": null,
      "justify_items": null,
      "left": null,
      "margin": null,
      "max_height": null,
      "max_width": null,
      "min_height": null,
      "min_width": null,
      "object_fit": null,
      "object_position": null,
      "order": null,
      "overflow": null,
      "overflow_x": null,
      "overflow_y": null,
      "padding": null,
      "right": null,
      "top": null,
      "visibility": null,
      "width": "20px"
     }
    },
    "549bf7eca6824da48f4a3a92a30c441a": {
     "model_module": "@jupyter-widgets/base",
     "model_module_version": "1.2.0",
     "model_name": "LayoutModel",
     "state": {
      "_model_module": "@jupyter-widgets/base",
      "_model_module_version": "1.2.0",
      "_model_name": "LayoutModel",
      "_view_count": null,
      "_view_module": "@jupyter-widgets/base",
      "_view_module_version": "1.2.0",
      "_view_name": "LayoutView",
      "align_content": null,
      "align_items": null,
      "align_self": null,
      "border": null,
      "bottom": null,
      "display": null,
      "flex": null,
      "flex_flow": null,
      "grid_area": null,
      "grid_auto_columns": null,
      "grid_auto_flow": null,
      "grid_auto_rows": null,
      "grid_column": null,
      "grid_gap": null,
      "grid_row": null,
      "grid_template_areas": null,
      "grid_template_columns": null,
      "grid_template_rows": null,
      "height": null,
      "justify_content": null,
      "justify_items": null,
      "left": null,
      "margin": null,
      "max_height": null,
      "max_width": null,
      "min_height": null,
      "min_width": null,
      "object_fit": null,
      "object_position": null,
      "order": null,
      "overflow": null,
      "overflow_x": null,
      "overflow_y": null,
      "padding": null,
      "right": null,
      "top": null,
      "visibility": null,
      "width": null
     }
    },
    "5791313862134ef69926fdd184ab485f": {
     "model_module": "@jupyter-widgets/controls",
     "model_module_version": "1.5.0",
     "model_name": "DescriptionStyleModel",
     "state": {
      "_model_module": "@jupyter-widgets/controls",
      "_model_module_version": "1.5.0",
      "_model_name": "DescriptionStyleModel",
      "_view_count": null,
      "_view_module": "@jupyter-widgets/base",
      "_view_module_version": "1.2.0",
      "_view_name": "StyleView",
      "description_width": ""
     }
    },
    "5803981b281c48a8aacd817d72ad0e56": {
     "model_module": "@jupyter-widgets/controls",
     "model_module_version": "1.5.0",
     "model_name": "HTMLModel",
     "state": {
      "_dom_classes": [],
      "_model_module": "@jupyter-widgets/controls",
      "_model_module_version": "1.5.0",
      "_model_name": "HTMLModel",
      "_view_count": null,
      "_view_module": "@jupyter-widgets/controls",
      "_view_module_version": "1.5.0",
      "_view_name": "HTMLView",
      "description": "",
      "description_tooltip": null,
      "layout": "IPY_MODEL_185f62333d7942e7a9ca33c9684611ec",
      "placeholder": "​",
      "style": "IPY_MODEL_ccf18a8bb37744d391ba482ccfdb4c2d",
      "value": " 480k/480k [00:00&lt;00:00, 651kB/s]"
     }
    },
    "593610fff1574ca7a70fcf696e5ad0c2": {
     "model_module": "@jupyter-widgets/controls",
     "model_module_version": "1.5.0",
     "model_name": "DescriptionStyleModel",
     "state": {
      "_model_module": "@jupyter-widgets/controls",
      "_model_module_version": "1.5.0",
      "_model_name": "DescriptionStyleModel",
      "_view_count": null,
      "_view_module": "@jupyter-widgets/base",
      "_view_module_version": "1.2.0",
      "_view_name": "StyleView",
      "description_width": ""
     }
    },
    "5bd4c1e200424c3293e82b70a9cade7f": {
     "model_module": "@jupyter-widgets/base",
     "model_module_version": "1.2.0",
     "model_name": "LayoutModel",
     "state": {
      "_model_module": "@jupyter-widgets/base",
      "_model_module_version": "1.2.0",
      "_model_name": "LayoutModel",
      "_view_count": null,
      "_view_module": "@jupyter-widgets/base",
      "_view_module_version": "1.2.0",
      "_view_name": "LayoutView",
      "align_content": null,
      "align_items": null,
      "align_self": null,
      "border": null,
      "bottom": null,
      "display": null,
      "flex": null,
      "flex_flow": null,
      "grid_area": null,
      "grid_auto_columns": null,
      "grid_auto_flow": null,
      "grid_auto_rows": null,
      "grid_column": null,
      "grid_gap": null,
      "grid_row": null,
      "grid_template_areas": null,
      "grid_template_columns": null,
      "grid_template_rows": null,
      "height": null,
      "justify_content": null,
      "justify_items": null,
      "left": null,
      "margin": null,
      "max_height": null,
      "max_width": null,
      "min_height": null,
      "min_width": null,
      "object_fit": null,
      "object_position": null,
      "order": null,
      "overflow": null,
      "overflow_x": null,
      "overflow_y": null,
      "padding": null,
      "right": null,
      "top": null,
      "visibility": null,
      "width": null
     }
    },
    "5fa5cffc65f34f1d81a5f58129e3e64b": {
     "model_module": "@jupyter-widgets/base",
     "model_module_version": "1.2.0",
     "model_name": "LayoutModel",
     "state": {
      "_model_module": "@jupyter-widgets/base",
      "_model_module_version": "1.2.0",
      "_model_name": "LayoutModel",
      "_view_count": null,
      "_view_module": "@jupyter-widgets/base",
      "_view_module_version": "1.2.0",
      "_view_name": "LayoutView",
      "align_content": null,
      "align_items": null,
      "align_self": null,
      "border": null,
      "bottom": null,
      "display": null,
      "flex": null,
      "flex_flow": null,
      "grid_area": null,
      "grid_auto_columns": null,
      "grid_auto_flow": null,
      "grid_auto_rows": null,
      "grid_column": null,
      "grid_gap": null,
      "grid_row": null,
      "grid_template_areas": null,
      "grid_template_columns": null,
      "grid_template_rows": null,
      "height": null,
      "justify_content": null,
      "justify_items": null,
      "left": null,
      "margin": null,
      "max_height": null,
      "max_width": null,
      "min_height": null,
      "min_width": null,
      "object_fit": null,
      "object_position": null,
      "order": null,
      "overflow": null,
      "overflow_x": null,
      "overflow_y": null,
      "padding": null,
      "right": null,
      "top": null,
      "visibility": null,
      "width": null
     }
    },
    "602531fc913544f484113f94e6359fb5": {
     "model_module": "@jupyter-widgets/controls",
     "model_module_version": "1.5.0",
     "model_name": "HTMLModel",
     "state": {
      "_dom_classes": [],
      "_model_module": "@jupyter-widgets/controls",
      "_model_module_version": "1.5.0",
      "_model_name": "HTMLModel",
      "_view_count": null,
      "_view_module": "@jupyter-widgets/controls",
      "_view_module_version": "1.5.0",
      "_view_name": "HTMLView",
      "description": "",
      "description_tooltip": null,
      "layout": "IPY_MODEL_dbf2ec6d9206442f984c88fff7feafca",
      "placeholder": "​",
      "style": "IPY_MODEL_6f0bd2fbfa43468387f0420634aa1014",
      "value": "Downloading data: 100%"
     }
    },
    "6266bd38e8514dcb96fe8a8242816343": {
     "model_module": "@jupyter-widgets/base",
     "model_module_version": "1.2.0",
     "model_name": "LayoutModel",
     "state": {
      "_model_module": "@jupyter-widgets/base",
      "_model_module_version": "1.2.0",
      "_model_name": "LayoutModel",
      "_view_count": null,
      "_view_module": "@jupyter-widgets/base",
      "_view_module_version": "1.2.0",
      "_view_name": "LayoutView",
      "align_content": null,
      "align_items": null,
      "align_self": null,
      "border": null,
      "bottom": null,
      "display": null,
      "flex": null,
      "flex_flow": null,
      "grid_area": null,
      "grid_auto_columns": null,
      "grid_auto_flow": null,
      "grid_auto_rows": null,
      "grid_column": null,
      "grid_gap": null,
      "grid_row": null,
      "grid_template_areas": null,
      "grid_template_columns": null,
      "grid_template_rows": null,
      "height": null,
      "justify_content": null,
      "justify_items": null,
      "left": null,
      "margin": null,
      "max_height": null,
      "max_width": null,
      "min_height": null,
      "min_width": null,
      "object_fit": null,
      "object_position": null,
      "order": null,
      "overflow": null,
      "overflow_x": null,
      "overflow_y": null,
      "padding": null,
      "right": null,
      "top": null,
      "visibility": null,
      "width": null
     }
    },
    "6966aecc04e44e5291ed3c0f6f8da8a0": {
     "model_module": "@jupyter-widgets/base",
     "model_module_version": "1.2.0",
     "model_name": "LayoutModel",
     "state": {
      "_model_module": "@jupyter-widgets/base",
      "_model_module_version": "1.2.0",
      "_model_name": "LayoutModel",
      "_view_count": null,
      "_view_module": "@jupyter-widgets/base",
      "_view_module_version": "1.2.0",
      "_view_name": "LayoutView",
      "align_content": null,
      "align_items": null,
      "align_self": null,
      "border": null,
      "bottom": null,
      "display": null,
      "flex": null,
      "flex_flow": null,
      "grid_area": null,
      "grid_auto_columns": null,
      "grid_auto_flow": null,
      "grid_auto_rows": null,
      "grid_column": null,
      "grid_gap": null,
      "grid_row": null,
      "grid_template_areas": null,
      "grid_template_columns": null,
      "grid_template_rows": null,
      "height": null,
      "justify_content": null,
      "justify_items": null,
      "left": null,
      "margin": null,
      "max_height": null,
      "max_width": null,
      "min_height": null,
      "min_width": null,
      "object_fit": null,
      "object_position": null,
      "order": null,
      "overflow": null,
      "overflow_x": null,
      "overflow_y": null,
      "padding": null,
      "right": null,
      "top": null,
      "visibility": null,
      "width": "20px"
     }
    },
    "6a9fe60d0d694b649cbc3cc91a48b4f2": {
     "model_module": "@jupyter-widgets/base",
     "model_module_version": "1.2.0",
     "model_name": "LayoutModel",
     "state": {
      "_model_module": "@jupyter-widgets/base",
      "_model_module_version": "1.2.0",
      "_model_name": "LayoutModel",
      "_view_count": null,
      "_view_module": "@jupyter-widgets/base",
      "_view_module_version": "1.2.0",
      "_view_name": "LayoutView",
      "align_content": null,
      "align_items": null,
      "align_self": null,
      "border": null,
      "bottom": null,
      "display": null,
      "flex": null,
      "flex_flow": null,
      "grid_area": null,
      "grid_auto_columns": null,
      "grid_auto_flow": null,
      "grid_auto_rows": null,
      "grid_column": null,
      "grid_gap": null,
      "grid_row": null,
      "grid_template_areas": null,
      "grid_template_columns": null,
      "grid_template_rows": null,
      "height": null,
      "justify_content": null,
      "justify_items": null,
      "left": null,
      "margin": null,
      "max_height": null,
      "max_width": null,
      "min_height": null,
      "min_width": null,
      "object_fit": null,
      "object_position": null,
      "order": null,
      "overflow": null,
      "overflow_x": null,
      "overflow_y": null,
      "padding": null,
      "right": null,
      "top": null,
      "visibility": null,
      "width": null
     }
    },
    "6f0315241ca446e69a73f234d7d53e43": {
     "model_module": "@jupyter-widgets/controls",
     "model_module_version": "1.5.0",
     "model_name": "DescriptionStyleModel",
     "state": {
      "_model_module": "@jupyter-widgets/controls",
      "_model_module_version": "1.5.0",
      "_model_name": "DescriptionStyleModel",
      "_view_count": null,
      "_view_module": "@jupyter-widgets/base",
      "_view_module_version": "1.2.0",
      "_view_name": "StyleView",
      "description_width": ""
     }
    },
    "6f0bd2fbfa43468387f0420634aa1014": {
     "model_module": "@jupyter-widgets/controls",
     "model_module_version": "1.5.0",
     "model_name": "DescriptionStyleModel",
     "state": {
      "_model_module": "@jupyter-widgets/controls",
      "_model_module_version": "1.5.0",
      "_model_name": "DescriptionStyleModel",
      "_view_count": null,
      "_view_module": "@jupyter-widgets/base",
      "_view_module_version": "1.2.0",
      "_view_name": "StyleView",
      "description_width": ""
     }
    },
    "7257ed8ebe594be08dc98dc55a951f42": {
     "model_module": "@jupyter-widgets/controls",
     "model_module_version": "1.5.0",
     "model_name": "FloatProgressModel",
     "state": {
      "_dom_classes": [],
      "_model_module": "@jupyter-widgets/controls",
      "_model_module_version": "1.5.0",
      "_model_name": "FloatProgressModel",
      "_view_count": null,
      "_view_module": "@jupyter-widgets/controls",
      "_view_module_version": "1.5.0",
      "_view_name": "ProgressView",
      "bar_style": "success",
      "description": "",
      "description_tooltip": null,
      "layout": "IPY_MODEL_521c30e335fb430c8fef7b467d67940e",
      "max": 1,
      "min": 0,
      "orientation": "horizontal",
      "style": "IPY_MODEL_22dd8d1ca0884e7fbd3fe8d494c2cc2d",
      "value": 1
     }
    },
    "744b6c5604cb41db832cf24e456e11ec": {
     "model_module": "@jupyter-widgets/controls",
     "model_module_version": "1.5.0",
     "model_name": "HTMLModel",
     "state": {
      "_dom_classes": [],
      "_model_module": "@jupyter-widgets/controls",
      "_model_module_version": "1.5.0",
      "_model_name": "HTMLModel",
      "_view_count": null,
      "_view_module": "@jupyter-widgets/controls",
      "_view_module_version": "1.5.0",
      "_view_name": "HTMLView",
      "description": "",
      "description_tooltip": null,
      "layout": "IPY_MODEL_14142b961b59406890e9fad81caf2257",
      "placeholder": "​",
      "style": "IPY_MODEL_b7910e9efdb24eb987f198647d4d6277",
      "value": " 4895/0 [00:00&lt;00:00, 127635.84 examples/s]"
     }
    },
    "7822cfc59a1b441da603e66e5b770bd0": {
     "model_module": "@jupyter-widgets/controls",
     "model_module_version": "1.5.0",
     "model_name": "HBoxModel",
     "state": {
      "_dom_classes": [],
      "_model_module": "@jupyter-widgets/controls",
      "_model_module_version": "1.5.0",
      "_model_name": "HBoxModel",
      "_view_count": null,
      "_view_module": "@jupyter-widgets/controls",
      "_view_module_version": "1.5.0",
      "_view_name": "HBoxView",
      "box_style": "",
      "children": [
       "IPY_MODEL_d68c3e15c80147f38fb4f5317b7de10f",
       "IPY_MODEL_040ec6fa7fd147b8a1702d07352f8f00",
       "IPY_MODEL_5803981b281c48a8aacd817d72ad0e56"
      ],
      "layout": "IPY_MODEL_c6fd41858e7b4273b5c42b3baa9819e0"
     }
    },
    "80c0b066fb894e748a7f1a3932c8f333": {
     "model_module": "@jupyter-widgets/controls",
     "model_module_version": "1.5.0",
     "model_name": "DescriptionStyleModel",
     "state": {
      "_model_module": "@jupyter-widgets/controls",
      "_model_module_version": "1.5.0",
      "_model_name": "DescriptionStyleModel",
      "_view_count": null,
      "_view_module": "@jupyter-widgets/base",
      "_view_module_version": "1.2.0",
      "_view_name": "StyleView",
      "description_width": ""
     }
    },
    "8cb792d3b9db472696f1e9fce50360fe": {
     "model_module": "@jupyter-widgets/controls",
     "model_module_version": "1.5.0",
     "model_name": "ProgressStyleModel",
     "state": {
      "_model_module": "@jupyter-widgets/controls",
      "_model_module_version": "1.5.0",
      "_model_name": "ProgressStyleModel",
      "_view_count": null,
      "_view_module": "@jupyter-widgets/base",
      "_view_module_version": "1.2.0",
      "_view_name": "StyleView",
      "bar_color": null,
      "description_width": ""
     }
    },
    "9daa6c105fc847ad8683755ed49cff4f": {
     "model_module": "@jupyter-widgets/controls",
     "model_module_version": "1.5.0",
     "model_name": "DescriptionStyleModel",
     "state": {
      "_model_module": "@jupyter-widgets/controls",
      "_model_module_version": "1.5.0",
      "_model_name": "DescriptionStyleModel",
      "_view_count": null,
      "_view_module": "@jupyter-widgets/base",
      "_view_module_version": "1.2.0",
      "_view_name": "StyleView",
      "description_width": ""
     }
    },
    "9e8694c98bcb4c8e8a8f2bbc387a2f2e": {
     "model_module": "@jupyter-widgets/base",
     "model_module_version": "1.2.0",
     "model_name": "LayoutModel",
     "state": {
      "_model_module": "@jupyter-widgets/base",
      "_model_module_version": "1.2.0",
      "_model_name": "LayoutModel",
      "_view_count": null,
      "_view_module": "@jupyter-widgets/base",
      "_view_module_version": "1.2.0",
      "_view_name": "LayoutView",
      "align_content": null,
      "align_items": null,
      "align_self": null,
      "border": null,
      "bottom": null,
      "display": null,
      "flex": null,
      "flex_flow": null,
      "grid_area": null,
      "grid_auto_columns": null,
      "grid_auto_flow": null,
      "grid_auto_rows": null,
      "grid_column": null,
      "grid_gap": null,
      "grid_row": null,
      "grid_template_areas": null,
      "grid_template_columns": null,
      "grid_template_rows": null,
      "height": null,
      "justify_content": null,
      "justify_items": null,
      "left": null,
      "margin": null,
      "max_height": null,
      "max_width": null,
      "min_height": null,
      "min_width": null,
      "object_fit": null,
      "object_position": null,
      "order": null,
      "overflow": null,
      "overflow_x": null,
      "overflow_y": null,
      "padding": null,
      "right": null,
      "top": null,
      "visibility": null,
      "width": null
     }
    },
    "ab675e5e2bde4ea1bca5b41fac7a09d1": {
     "model_module": "@jupyter-widgets/base",
     "model_module_version": "1.2.0",
     "model_name": "LayoutModel",
     "state": {
      "_model_module": "@jupyter-widgets/base",
      "_model_module_version": "1.2.0",
      "_model_name": "LayoutModel",
      "_view_count": null,
      "_view_module": "@jupyter-widgets/base",
      "_view_module_version": "1.2.0",
      "_view_name": "LayoutView",
      "align_content": null,
      "align_items": null,
      "align_self": null,
      "border": null,
      "bottom": null,
      "display": null,
      "flex": null,
      "flex_flow": null,
      "grid_area": null,
      "grid_auto_columns": null,
      "grid_auto_flow": null,
      "grid_auto_rows": null,
      "grid_column": null,
      "grid_gap": null,
      "grid_row": null,
      "grid_template_areas": null,
      "grid_template_columns": null,
      "grid_template_rows": null,
      "height": null,
      "justify_content": null,
      "justify_items": null,
      "left": null,
      "margin": null,
      "max_height": null,
      "max_width": null,
      "min_height": null,
      "min_width": null,
      "object_fit": null,
      "object_position": null,
      "order": null,
      "overflow": null,
      "overflow_x": null,
      "overflow_y": null,
      "padding": null,
      "right": null,
      "top": null,
      "visibility": null,
      "width": "20px"
     }
    },
    "b37386c600b148b185ab98919ccd7e82": {
     "model_module": "@jupyter-widgets/controls",
     "model_module_version": "1.5.0",
     "model_name": "FloatProgressModel",
     "state": {
      "_dom_classes": [],
      "_model_module": "@jupyter-widgets/controls",
      "_model_module_version": "1.5.0",
      "_model_name": "FloatProgressModel",
      "_view_count": null,
      "_view_module": "@jupyter-widgets/controls",
      "_view_module_version": "1.5.0",
      "_view_name": "ProgressView",
      "bar_style": "success",
      "description": "",
      "description_tooltip": null,
      "layout": "IPY_MODEL_6966aecc04e44e5291ed3c0f6f8da8a0",
      "max": 1,
      "min": 0,
      "orientation": "horizontal",
      "style": "IPY_MODEL_19f72d4896bc4c71838bf512cd67fde9",
      "value": 1
     }
    },
    "b7910e9efdb24eb987f198647d4d6277": {
     "model_module": "@jupyter-widgets/controls",
     "model_module_version": "1.5.0",
     "model_name": "DescriptionStyleModel",
     "state": {
      "_model_module": "@jupyter-widgets/controls",
      "_model_module_version": "1.5.0",
      "_model_name": "DescriptionStyleModel",
      "_view_count": null,
      "_view_module": "@jupyter-widgets/base",
      "_view_module_version": "1.2.0",
      "_view_name": "StyleView",
      "description_width": ""
     }
    },
    "b7d214ab9c1d46d48104d8ef3b38e98a": {
     "model_module": "@jupyter-widgets/controls",
     "model_module_version": "1.5.0",
     "model_name": "HBoxModel",
     "state": {
      "_dom_classes": [],
      "_model_module": "@jupyter-widgets/controls",
      "_model_module_version": "1.5.0",
      "_model_name": "HBoxModel",
      "_view_count": null,
      "_view_module": "@jupyter-widgets/controls",
      "_view_module_version": "1.5.0",
      "_view_name": "HBoxView",
      "box_style": "",
      "children": [
       "IPY_MODEL_602531fc913544f484113f94e6359fb5",
       "IPY_MODEL_c69cd6798ccf4d4c8c7ff1ed620abc47",
       "IPY_MODEL_02d0cc0f3c664953aa152601f2ac7071"
      ],
      "layout": "IPY_MODEL_35110cd58a70451b99901f1368e01296"
     }
    },
    "c524ad1d9eda4528910e82d2f7fd4daa": {
     "model_module": "@jupyter-widgets/controls",
     "model_module_version": "1.5.0",
     "model_name": "DescriptionStyleModel",
     "state": {
      "_model_module": "@jupyter-widgets/controls",
      "_model_module_version": "1.5.0",
      "_model_name": "DescriptionStyleModel",
      "_view_count": null,
      "_view_module": "@jupyter-widgets/base",
      "_view_module_version": "1.2.0",
      "_view_name": "StyleView",
      "description_width": ""
     }
    },
    "c69cd6798ccf4d4c8c7ff1ed620abc47": {
     "model_module": "@jupyter-widgets/controls",
     "model_module_version": "1.5.0",
     "model_name": "FloatProgressModel",
     "state": {
      "_dom_classes": [],
      "_model_module": "@jupyter-widgets/controls",
      "_model_module_version": "1.5.0",
      "_model_name": "FloatProgressModel",
      "_view_count": null,
      "_view_module": "@jupyter-widgets/controls",
      "_view_module_version": "1.5.0",
      "_view_name": "ProgressView",
      "bar_style": "success",
      "description": "",
      "description_tooltip": null,
      "layout": "IPY_MODEL_e626e1e67ce74af1b98008e146e72075",
      "max": 74629385,
      "min": 0,
      "orientation": "horizontal",
      "style": "IPY_MODEL_1c54719cb8b845f3a56da8b29cb6f7bf",
      "value": 74629385
     }
    },
    "c6fd41858e7b4273b5c42b3baa9819e0": {
     "model_module": "@jupyter-widgets/base",
     "model_module_version": "1.2.0",
     "model_name": "LayoutModel",
     "state": {
      "_model_module": "@jupyter-widgets/base",
      "_model_module_version": "1.2.0",
      "_model_name": "LayoutModel",
      "_view_count": null,
      "_view_module": "@jupyter-widgets/base",
      "_view_module_version": "1.2.0",
      "_view_name": "LayoutView",
      "align_content": null,
      "align_items": null,
      "align_self": null,
      "border": null,
      "bottom": null,
      "display": null,
      "flex": null,
      "flex_flow": null,
      "grid_area": null,
      "grid_auto_columns": null,
      "grid_auto_flow": null,
      "grid_auto_rows": null,
      "grid_column": null,
      "grid_gap": null,
      "grid_row": null,
      "grid_template_areas": null,
      "grid_template_columns": null,
      "grid_template_rows": null,
      "height": null,
      "justify_content": null,
      "justify_items": null,
      "left": null,
      "margin": null,
      "max_height": null,
      "max_width": null,
      "min_height": null,
      "min_width": null,
      "object_fit": null,
      "object_position": null,
      "order": null,
      "overflow": null,
      "overflow_x": null,
      "overflow_y": null,
      "padding": null,
      "right": null,
      "top": null,
      "visibility": null,
      "width": null
     }
    },
    "c777b2480e614b18986ea8c08237b335": {
     "model_module": "@jupyter-widgets/controls",
     "model_module_version": "1.5.0",
     "model_name": "HTMLModel",
     "state": {
      "_dom_classes": [],
      "_model_module": "@jupyter-widgets/controls",
      "_model_module_version": "1.5.0",
      "_model_name": "HTMLModel",
      "_view_count": null,
      "_view_module": "@jupyter-widgets/controls",
      "_view_module_version": "1.5.0",
      "_view_name": "HTMLView",
      "description": "",
      "description_tooltip": null,
      "layout": "IPY_MODEL_31b98a51e93f4728b241b2cf350faa7a",
      "placeholder": "​",
      "style": "IPY_MODEL_c524ad1d9eda4528910e82d2f7fd4daa",
      "value": " 242k/242k [00:00&lt;00:00, 312kB/s]"
     }
    },
    "ccf18a8bb37744d391ba482ccfdb4c2d": {
     "model_module": "@jupyter-widgets/controls",
     "model_module_version": "1.5.0",
     "model_name": "DescriptionStyleModel",
     "state": {
      "_model_module": "@jupyter-widgets/controls",
      "_model_module_version": "1.5.0",
      "_model_name": "DescriptionStyleModel",
      "_view_count": null,
      "_view_module": "@jupyter-widgets/base",
      "_view_module_version": "1.2.0",
      "_view_name": "StyleView",
      "description_width": ""
     }
    },
    "cd19e51c7ecc434f968a92ef90076e8a": {
     "model_module": "@jupyter-widgets/controls",
     "model_module_version": "1.5.0",
     "model_name": "DescriptionStyleModel",
     "state": {
      "_model_module": "@jupyter-widgets/controls",
      "_model_module_version": "1.5.0",
      "_model_name": "DescriptionStyleModel",
      "_view_count": null,
      "_view_module": "@jupyter-widgets/base",
      "_view_module_version": "1.2.0",
      "_view_name": "StyleView",
      "description_width": ""
     }
    },
    "ce27cd0c7bba4057a2b846a60fb9bf21": {
     "model_module": "@jupyter-widgets/controls",
     "model_module_version": "1.5.0",
     "model_name": "FloatProgressModel",
     "state": {
      "_dom_classes": [],
      "_model_module": "@jupyter-widgets/controls",
      "_model_module_version": "1.5.0",
      "_model_name": "FloatProgressModel",
      "_view_count": null,
      "_view_module": "@jupyter-widgets/controls",
      "_view_module_version": "1.5.0",
      "_view_name": "ProgressView",
      "bar_style": "success",
      "description": "",
      "description_tooltip": null,
      "layout": "IPY_MODEL_ab675e5e2bde4ea1bca5b41fac7a09d1",
      "max": 1,
      "min": 0,
      "orientation": "horizontal",
      "style": "IPY_MODEL_252948d465f24dd8a5835fd811b43367",
      "value": 1
     }
    },
    "d68c3e15c80147f38fb4f5317b7de10f": {
     "model_module": "@jupyter-widgets/controls",
     "model_module_version": "1.5.0",
     "model_name": "HTMLModel",
     "state": {
      "_dom_classes": [],
      "_model_module": "@jupyter-widgets/controls",
      "_model_module_version": "1.5.0",
      "_model_name": "HTMLModel",
      "_view_count": null,
      "_view_module": "@jupyter-widgets/controls",
      "_view_module_version": "1.5.0",
      "_view_name": "HTMLView",
      "description": "",
      "description_tooltip": null,
      "layout": "IPY_MODEL_6266bd38e8514dcb96fe8a8242816343",
      "placeholder": "​",
      "style": "IPY_MODEL_2e514fabf5984a048434b6fed92b487a",
      "value": "Downloading data: 100%"
     }
    },
    "dbf2ec6d9206442f984c88fff7feafca": {
     "model_module": "@jupyter-widgets/base",
     "model_module_version": "1.2.0",
     "model_name": "LayoutModel",
     "state": {
      "_model_module": "@jupyter-widgets/base",
      "_model_module_version": "1.2.0",
      "_model_name": "LayoutModel",
      "_view_count": null,
      "_view_module": "@jupyter-widgets/base",
      "_view_module_version": "1.2.0",
      "_view_name": "LayoutView",
      "align_content": null,
      "align_items": null,
      "align_self": null,
      "border": null,
      "bottom": null,
      "display": null,
      "flex": null,
      "flex_flow": null,
      "grid_area": null,
      "grid_auto_columns": null,
      "grid_auto_flow": null,
      "grid_auto_rows": null,
      "grid_column": null,
      "grid_gap": null,
      "grid_row": null,
      "grid_template_areas": null,
      "grid_template_columns": null,
      "grid_template_rows": null,
      "height": null,
      "justify_content": null,
      "justify_items": null,
      "left": null,
      "margin": null,
      "max_height": null,
      "max_width": null,
      "min_height": null,
      "min_width": null,
      "object_fit": null,
      "object_position": null,
      "order": null,
      "overflow": null,
      "overflow_x": null,
      "overflow_y": null,
      "padding": null,
      "right": null,
      "top": null,
      "visibility": null,
      "width": null
     }
    },
    "e3bf910f2adb49cb85fad4a8e8ffa517": {
     "model_module": "@jupyter-widgets/controls",
     "model_module_version": "1.5.0",
     "model_name": "ProgressStyleModel",
     "state": {
      "_model_module": "@jupyter-widgets/controls",
      "_model_module_version": "1.5.0",
      "_model_name": "ProgressStyleModel",
      "_view_count": null,
      "_view_module": "@jupyter-widgets/base",
      "_view_module_version": "1.2.0",
      "_view_name": "StyleView",
      "bar_color": null,
      "description_width": ""
     }
    },
    "e626e1e67ce74af1b98008e146e72075": {
     "model_module": "@jupyter-widgets/base",
     "model_module_version": "1.2.0",
     "model_name": "LayoutModel",
     "state": {
      "_model_module": "@jupyter-widgets/base",
      "_model_module_version": "1.2.0",
      "_model_name": "LayoutModel",
      "_view_count": null,
      "_view_module": "@jupyter-widgets/base",
      "_view_module_version": "1.2.0",
      "_view_name": "LayoutView",
      "align_content": null,
      "align_items": null,
      "align_self": null,
      "border": null,
      "bottom": null,
      "display": null,
      "flex": null,
      "flex_flow": null,
      "grid_area": null,
      "grid_auto_columns": null,
      "grid_auto_flow": null,
      "grid_auto_rows": null,
      "grid_column": null,
      "grid_gap": null,
      "grid_row": null,
      "grid_template_areas": null,
      "grid_template_columns": null,
      "grid_template_rows": null,
      "height": null,
      "justify_content": null,
      "justify_items": null,
      "left": null,
      "margin": null,
      "max_height": null,
      "max_width": null,
      "min_height": null,
      "min_width": null,
      "object_fit": null,
      "object_position": null,
      "order": null,
      "overflow": null,
      "overflow_x": null,
      "overflow_y": null,
      "padding": null,
      "right": null,
      "top": null,
      "visibility": null,
      "width": null
     }
    },
    "ea8f33cd245647acbaffc74fce77ec46": {
     "model_module": "@jupyter-widgets/base",
     "model_module_version": "1.2.0",
     "model_name": "LayoutModel",
     "state": {
      "_model_module": "@jupyter-widgets/base",
      "_model_module_version": "1.2.0",
      "_model_name": "LayoutModel",
      "_view_count": null,
      "_view_module": "@jupyter-widgets/base",
      "_view_module_version": "1.2.0",
      "_view_name": "LayoutView",
      "align_content": null,
      "align_items": null,
      "align_self": null,
      "border": null,
      "bottom": null,
      "display": null,
      "flex": null,
      "flex_flow": null,
      "grid_area": null,
      "grid_auto_columns": null,
      "grid_auto_flow": null,
      "grid_auto_rows": null,
      "grid_column": null,
      "grid_gap": null,
      "grid_row": null,
      "grid_template_areas": null,
      "grid_template_columns": null,
      "grid_template_rows": null,
      "height": null,
      "justify_content": null,
      "justify_items": null,
      "left": null,
      "margin": null,
      "max_height": null,
      "max_width": null,
      "min_height": null,
      "min_width": null,
      "object_fit": null,
      "object_position": null,
      "order": null,
      "overflow": null,
      "overflow_x": null,
      "overflow_y": null,
      "padding": null,
      "right": null,
      "top": null,
      "visibility": null,
      "width": null
     }
    },
    "eb333d5895e6436abe1ac9ec5ddeab5f": {
     "model_module": "@jupyter-widgets/base",
     "model_module_version": "1.2.0",
     "model_name": "LayoutModel",
     "state": {
      "_model_module": "@jupyter-widgets/base",
      "_model_module_version": "1.2.0",
      "_model_name": "LayoutModel",
      "_view_count": null,
      "_view_module": "@jupyter-widgets/base",
      "_view_module_version": "1.2.0",
      "_view_name": "LayoutView",
      "align_content": null,
      "align_items": null,
      "align_self": null,
      "border": null,
      "bottom": null,
      "display": null,
      "flex": null,
      "flex_flow": null,
      "grid_area": null,
      "grid_auto_columns": null,
      "grid_auto_flow": null,
      "grid_auto_rows": null,
      "grid_column": null,
      "grid_gap": null,
      "grid_row": null,
      "grid_template_areas": null,
      "grid_template_columns": null,
      "grid_template_rows": null,
      "height": null,
      "justify_content": null,
      "justify_items": null,
      "left": null,
      "margin": null,
      "max_height": null,
      "max_width": null,
      "min_height": null,
      "min_width": null,
      "object_fit": null,
      "object_position": null,
      "order": null,
      "overflow": null,
      "overflow_x": null,
      "overflow_y": null,
      "padding": null,
      "right": null,
      "top": null,
      "visibility": null,
      "width": null
     }
    },
    "f0b7549a2e924f9796782127675e61a3": {
     "model_module": "@jupyter-widgets/controls",
     "model_module_version": "1.5.0",
     "model_name": "HTMLModel",
     "state": {
      "_dom_classes": [],
      "_model_module": "@jupyter-widgets/controls",
      "_model_module_version": "1.5.0",
      "_model_name": "HTMLModel",
      "_view_count": null,
      "_view_module": "@jupyter-widgets/controls",
      "_view_module_version": "1.5.0",
      "_view_name": "HTMLView",
      "description": "",
      "description_tooltip": null,
      "layout": "IPY_MODEL_1ae6d64c531d4e5397806d8350a5bc29",
      "placeholder": "​",
      "style": "IPY_MODEL_5791313862134ef69926fdd184ab485f",
      "value": "Generating train split: "
     }
    },
    "f10b2131ac8b4b03917a20bd53036722": {
     "model_module": "@jupyter-widgets/controls",
     "model_module_version": "1.5.0",
     "model_name": "HBoxModel",
     "state": {
      "_dom_classes": [],
      "_model_module": "@jupyter-widgets/controls",
      "_model_module_version": "1.5.0",
      "_model_name": "HBoxModel",
      "_view_count": null,
      "_view_module": "@jupyter-widgets/controls",
      "_view_module_version": "1.5.0",
      "_view_name": "HBoxView",
      "box_style": "",
      "children": [
       "IPY_MODEL_2fe5aa33b0304a42ba455ab88593bb58",
       "IPY_MODEL_ce27cd0c7bba4057a2b846a60fb9bf21",
       "IPY_MODEL_744b6c5604cb41db832cf24e456e11ec"
      ],
      "layout": "IPY_MODEL_5bd4c1e200424c3293e82b70a9cade7f"
     }
    },
    "fb51babb3b594d22af4e86dccc80c29d": {
     "model_module": "@jupyter-widgets/base",
     "model_module_version": "1.2.0",
     "model_name": "LayoutModel",
     "state": {
      "_model_module": "@jupyter-widgets/base",
      "_model_module_version": "1.2.0",
      "_model_name": "LayoutModel",
      "_view_count": null,
      "_view_module": "@jupyter-widgets/base",
      "_view_module_version": "1.2.0",
      "_view_name": "LayoutView",
      "align_content": null,
      "align_items": null,
      "align_self": null,
      "border": null,
      "bottom": null,
      "display": null,
      "flex": null,
      "flex_flow": null,
      "grid_area": null,
      "grid_auto_columns": null,
      "grid_auto_flow": null,
      "grid_auto_rows": null,
      "grid_column": null,
      "grid_gap": null,
      "grid_row": null,
      "grid_template_areas": null,
      "grid_template_columns": null,
      "grid_template_rows": null,
      "height": null,
      "justify_content": null,
      "justify_items": null,
      "left": null,
      "margin": null,
      "max_height": null,
      "max_width": null,
      "min_height": null,
      "min_width": null,
      "object_fit": null,
      "object_position": null,
      "order": null,
      "overflow": null,
      "overflow_x": null,
      "overflow_y": null,
      "padding": null,
      "right": null,
      "top": null,
      "visibility": null,
      "width": null
     }
    }
   }
  }
 },
 "nbformat": 4,
 "nbformat_minor": 4
}
